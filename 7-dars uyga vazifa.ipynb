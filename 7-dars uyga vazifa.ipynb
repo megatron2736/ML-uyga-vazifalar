{
 "cells": [
  {
   "cell_type": "code",
   "execution_count": 1,
   "id": "d6859481-68aa-4535-854f-b8545f6eafe3",
   "metadata": {},
   "outputs": [],
   "source": [
    "import pandas as pd "
   ]
  },
  {
   "cell_type": "code",
   "execution_count": 2,
   "id": "477c0abc-2d86-4653-baa7-d105897605f2",
   "metadata": {},
   "outputs": [],
   "source": [
    "df=pd.read_csv('geophone-sensor-new.csv')"
   ]
  },
  {
   "cell_type": "code",
   "execution_count": 5,
   "id": "9241f10a-67a2-4501-a6f2-8cd81e9e00e2",
   "metadata": {},
   "outputs": [
    {
     "data": {
      "text/html": [
       "<div>\n",
       "<style scoped>\n",
       "    .dataframe tbody tr th:only-of-type {\n",
       "        vertical-align: middle;\n",
       "    }\n",
       "\n",
       "    .dataframe tbody tr th {\n",
       "        vertical-align: top;\n",
       "    }\n",
       "\n",
       "    .dataframe thead th {\n",
       "        text-align: right;\n",
       "    }\n",
       "</style>\n",
       "<table border=\"1\" class=\"dataframe\">\n",
       "  <thead>\n",
       "    <tr style=\"text-align: right;\">\n",
       "      <th></th>\n",
       "      <th>timestamp</th>\n",
       "      <th>mean</th>\n",
       "      <th>top_3_mean</th>\n",
       "      <th>min</th>\n",
       "      <th>max</th>\n",
       "      <th>std_dev</th>\n",
       "      <th>median</th>\n",
       "      <th>q1</th>\n",
       "      <th>q3</th>\n",
       "      <th>skewness</th>\n",
       "      <th>dominant_freq</th>\n",
       "      <th>energy</th>\n",
       "      <th>activity</th>\n",
       "      <th>name</th>\n",
       "    </tr>\n",
       "  </thead>\n",
       "  <tbody>\n",
       "    <tr>\n",
       "      <th>0</th>\n",
       "      <td>1:51:43</td>\n",
       "      <td>2046.726000</td>\n",
       "      <td>2057.666667</td>\n",
       "      <td>2035.0</td>\n",
       "      <td>2060.0</td>\n",
       "      <td>3.452186</td>\n",
       "      <td>2047.0</td>\n",
       "      <td>2043</td>\n",
       "      <td>2049.0</td>\n",
       "      <td>-0.152574</td>\n",
       "      <td>601.0</td>\n",
       "      <td>1.988682e+09</td>\n",
       "      <td>walking</td>\n",
       "      <td>Yusuf</td>\n",
       "    </tr>\n",
       "    <tr>\n",
       "      <th>1</th>\n",
       "      <td>1:51:46</td>\n",
       "      <td>2046.619333</td>\n",
       "      <td>2053.000000</td>\n",
       "      <td>2040.0</td>\n",
       "      <td>2053.0</td>\n",
       "      <td>3.580469</td>\n",
       "      <td>2047.0</td>\n",
       "      <td>2044</td>\n",
       "      <td>2050.0</td>\n",
       "      <td>-0.150615</td>\n",
       "      <td>300.0</td>\n",
       "      <td>1.988028e+09</td>\n",
       "      <td>walking</td>\n",
       "      <td>baba</td>\n",
       "    </tr>\n",
       "    <tr>\n",
       "      <th>2</th>\n",
       "      <td>1:51:50</td>\n",
       "      <td>2046.598000</td>\n",
       "      <td>2056.000000</td>\n",
       "      <td>2030.0</td>\n",
       "      <td>2059.0</td>\n",
       "      <td>3.592826</td>\n",
       "      <td>2047.0</td>\n",
       "      <td>2044</td>\n",
       "      <td>2049.0</td>\n",
       "      <td>-0.370125</td>\n",
       "      <td>300.0</td>\n",
       "      <td>1.987897e+09</td>\n",
       "      <td>walking</td>\n",
       "      <td>huhu</td>\n",
       "    </tr>\n",
       "    <tr>\n",
       "      <th>3</th>\n",
       "      <td>1:51:53</td>\n",
       "      <td>2046.560000</td>\n",
       "      <td>2054.000000</td>\n",
       "      <td>2039.0</td>\n",
       "      <td>2055.0</td>\n",
       "      <td>3.414830</td>\n",
       "      <td>2047.0</td>\n",
       "      <td>2044</td>\n",
       "      <td>2049.0</td>\n",
       "      <td>-0.321296</td>\n",
       "      <td>300.0</td>\n",
       "      <td>1.987662e+09</td>\n",
       "      <td>walking</td>\n",
       "      <td>sddass</td>\n",
       "    </tr>\n",
       "    <tr>\n",
       "      <th>4</th>\n",
       "      <td>1:51:56</td>\n",
       "      <td>2046.656667</td>\n",
       "      <td>2055.000000</td>\n",
       "      <td>2034.0</td>\n",
       "      <td>2057.0</td>\n",
       "      <td>3.356802</td>\n",
       "      <td>2048.0</td>\n",
       "      <td>haha</td>\n",
       "      <td>2049.0</td>\n",
       "      <td>-0.379134</td>\n",
       "      <td>300.0</td>\n",
       "      <td>1.988255e+09</td>\n",
       "      <td>walking</td>\n",
       "      <td>dfasadfs</td>\n",
       "    </tr>\n",
       "  </tbody>\n",
       "</table>\n",
       "</div>"
      ],
      "text/plain": [
       "  timestamp         mean   top_3_mean     min     max   std_dev  median    q1  \\\n",
       "0   1:51:43  2046.726000  2057.666667  2035.0  2060.0  3.452186  2047.0  2043   \n",
       "1   1:51:46  2046.619333  2053.000000  2040.0  2053.0  3.580469  2047.0  2044   \n",
       "2   1:51:50  2046.598000  2056.000000  2030.0  2059.0  3.592826  2047.0  2044   \n",
       "3   1:51:53  2046.560000  2054.000000  2039.0  2055.0  3.414830  2047.0  2044   \n",
       "4   1:51:56  2046.656667  2055.000000  2034.0  2057.0  3.356802  2048.0  haha   \n",
       "\n",
       "       q3  skewness  dominant_freq        energy activity      name  \n",
       "0  2049.0 -0.152574          601.0  1.988682e+09  walking     Yusuf  \n",
       "1  2050.0 -0.150615          300.0  1.988028e+09  walking     baba   \n",
       "2  2049.0 -0.370125          300.0  1.987897e+09  walking      huhu  \n",
       "3  2049.0 -0.321296          300.0  1.987662e+09  walking    sddass  \n",
       "4  2049.0 -0.379134          300.0  1.988255e+09  walking  dfasadfs  "
      ]
     },
     "execution_count": 5,
     "metadata": {},
     "output_type": "execute_result"
    }
   ],
   "source": [
    "df.head()"
   ]
  },
  {
   "cell_type": "code",
   "execution_count": 7,
   "id": "8c7ad6c7-35f2-4bc6-ba5e-7b5ca3af2711",
   "metadata": {
    "scrolled": true
   },
   "outputs": [
    {
     "name": "stdout",
     "output_type": "stream",
     "text": [
      "<class 'pandas.core.frame.DataFrame'>\n",
      "RangeIndex: 1800 entries, 0 to 1799\n",
      "Data columns (total 14 columns):\n",
      " #   Column         Non-Null Count  Dtype  \n",
      "---  ------         --------------  -----  \n",
      " 0   timestamp      1795 non-null   object \n",
      " 1   mean           1784 non-null   float64\n",
      " 2   top_3_mean     1788 non-null   float64\n",
      " 3   min            1787 non-null   float64\n",
      " 4   max            1786 non-null   float64\n",
      " 5   std_dev        1781 non-null   float64\n",
      " 6   median         1784 non-null   float64\n",
      " 7   q1             1786 non-null   object \n",
      " 8   q3             1781 non-null   float64\n",
      " 9   skewness       1774 non-null   float64\n",
      " 10  dominant_freq  1768 non-null   float64\n",
      " 11  energy         1783 non-null   float64\n",
      " 12  activity       1772 non-null   object \n",
      " 13  name           1785 non-null   object \n",
      "dtypes: float64(10), object(4)\n",
      "memory usage: 197.0+ KB\n"
     ]
    }
   ],
   "source": [
    "df.info()"
   ]
  },
  {
   "cell_type": "code",
   "execution_count": 9,
   "id": "5e27225b-d75c-4c37-8f1c-f4e630783999",
   "metadata": {},
   "outputs": [
    {
     "data": {
      "text/plain": [
       "timestamp         5\n",
       "mean             16\n",
       "top_3_mean       12\n",
       "min              13\n",
       "max              14\n",
       "std_dev          19\n",
       "median           16\n",
       "q1               14\n",
       "q3               19\n",
       "skewness         26\n",
       "dominant_freq    32\n",
       "energy           17\n",
       "activity         28\n",
       "name             15\n",
       "dtype: int64"
      ]
     },
     "execution_count": 9,
     "metadata": {},
     "output_type": "execute_result"
    }
   ],
   "source": [
    "df.isnull().sum()"
   ]
  },
  {
   "cell_type": "code",
   "execution_count": 11,
   "id": "4342807b-f4eb-42fb-98f4-b95f54be1c12",
   "metadata": {},
   "outputs": [
    {
     "data": {
      "text/plain": [
       "0       2043\n",
       "1       2044\n",
       "2       2044\n",
       "3       2044\n",
       "4       haha\n",
       "        ... \n",
       "1795    2037\n",
       "1796    2036\n",
       "1797    2036\n",
       "1798    2036\n",
       "1799    2037\n",
       "Name: q1, Length: 1800, dtype: object"
      ]
     },
     "execution_count": 11,
     "metadata": {},
     "output_type": "execute_result"
    }
   ],
   "source": [
    "df['q1']"
   ]
  },
  {
   "cell_type": "code",
   "execution_count": 13,
   "id": "9195b14b-9afc-402c-96f4-b7d4b632b8b9",
   "metadata": {},
   "outputs": [
    {
     "data": {
      "text/plain": [
       "array(['2043', '2044', 'haha', '2045', '2042', '2045.75', '2047', '2046',\n",
       "       '2048', '2041', '2042.75', nan, '2040', '2035', '2036', '2038',\n",
       "       '2039', '2037', '2037.75', '2034', '2035.75', '2032', '2031.75',\n",
       "       '2033', '2031', '2028', '2038.75', '2030', '2026.75', '2036.75',\n",
       "       '2033.75', '2032.75', '2034.75', '2049', '2040.75', '2027', '2024',\n",
       "       '2021', '2025', '2029', '2026', '2029.75', '2023.75', '2028.75',\n",
       "       '2025.75', '2030.75', '2023', '2027.75'], dtype=object)"
      ]
     },
     "execution_count": 13,
     "metadata": {},
     "output_type": "execute_result"
    }
   ],
   "source": [
    "df['q1'].unique()"
   ]
  },
  {
   "cell_type": "code",
   "execution_count": 15,
   "id": "93f49d06-8803-466d-84c7-fb0067e09d38",
   "metadata": {},
   "outputs": [
    {
     "data": {
      "text/plain": [
       "1800"
      ]
     },
     "execution_count": 15,
     "metadata": {},
     "output_type": "execute_result"
    }
   ],
   "source": [
    "len(df['q1'])"
   ]
  },
  {
   "cell_type": "code",
   "execution_count": 17,
   "id": "2c3f6ad5-bda5-4b57-9646-c75b2aeb88d2",
   "metadata": {},
   "outputs": [
    {
     "data": {
      "text/plain": [
       "48"
      ]
     },
     "execution_count": 17,
     "metadata": {},
     "output_type": "execute_result"
    }
   ],
   "source": [
    "len(df['q1'].unique())"
   ]
  },
  {
   "cell_type": "code",
   "execution_count": 19,
   "id": "ca05d4b4-cac9-440f-890a-c19ffcf990a3",
   "metadata": {},
   "outputs": [],
   "source": [
    "df['q1']=pd.to_numeric(df['q1'], errors='coerce')"
   ]
  },
  {
   "cell_type": "code",
   "execution_count": 11,
   "id": "32e96ad8-567c-4675-9f0d-9d59b47b351e",
   "metadata": {},
   "outputs": [
    {
     "name": "stdout",
     "output_type": "stream",
     "text": [
      "<class 'pandas.core.frame.DataFrame'>\n",
      "RangeIndex: 1800 entries, 0 to 1799\n",
      "Data columns (total 14 columns):\n",
      " #   Column         Non-Null Count  Dtype  \n",
      "---  ------         --------------  -----  \n",
      " 0   timestamp      1795 non-null   object \n",
      " 1   mean           1784 non-null   float64\n",
      " 2   top_3_mean     1788 non-null   float64\n",
      " 3   min            1787 non-null   float64\n",
      " 4   max            1786 non-null   float64\n",
      " 5   std_dev        1781 non-null   float64\n",
      " 6   median         1784 non-null   float64\n",
      " 7   q1             1785 non-null   float64\n",
      " 8   q3             1781 non-null   float64\n",
      " 9   skewness       1774 non-null   float64\n",
      " 10  dominant_freq  1768 non-null   float64\n",
      " 11  energy         1783 non-null   float64\n",
      " 12  activity       1772 non-null   object \n",
      " 13  name           1785 non-null   object \n",
      "dtypes: float64(11), object(3)\n",
      "memory usage: 197.0+ KB\n"
     ]
    }
   ],
   "source": [
    "df.info()"
   ]
  },
  {
   "cell_type": "code",
   "execution_count": 33,
   "id": "a00913cd-83e2-4312-9be9-87538a70fdcd",
   "metadata": {},
   "outputs": [
    {
     "data": {
      "text/html": [
       "<div>\n",
       "<style scoped>\n",
       "    .dataframe tbody tr th:only-of-type {\n",
       "        vertical-align: middle;\n",
       "    }\n",
       "\n",
       "    .dataframe tbody tr th {\n",
       "        vertical-align: top;\n",
       "    }\n",
       "\n",
       "    .dataframe thead th {\n",
       "        text-align: right;\n",
       "    }\n",
       "</style>\n",
       "<table border=\"1\" class=\"dataframe\">\n",
       "  <thead>\n",
       "    <tr style=\"text-align: right;\">\n",
       "      <th></th>\n",
       "      <th>timestamp</th>\n",
       "      <th>mean</th>\n",
       "      <th>top_3_mean</th>\n",
       "      <th>min</th>\n",
       "      <th>max</th>\n",
       "      <th>std_dev</th>\n",
       "      <th>median</th>\n",
       "      <th>q1</th>\n",
       "      <th>q3</th>\n",
       "      <th>skewness</th>\n",
       "      <th>dominant_freq</th>\n",
       "      <th>energy</th>\n",
       "      <th>activity</th>\n",
       "      <th>name</th>\n",
       "    </tr>\n",
       "  </thead>\n",
       "  <tbody>\n",
       "    <tr>\n",
       "      <th>0</th>\n",
       "      <td>1:51:43</td>\n",
       "      <td>2046.726000</td>\n",
       "      <td>2057.666667</td>\n",
       "      <td>2035.0</td>\n",
       "      <td>2060.0</td>\n",
       "      <td>3.452186</td>\n",
       "      <td>2047.0</td>\n",
       "      <td>2043.0</td>\n",
       "      <td>2049.0</td>\n",
       "      <td>-0.152574</td>\n",
       "      <td>601.0</td>\n",
       "      <td>1.988682e+09</td>\n",
       "      <td>walking</td>\n",
       "      <td>Yusuf</td>\n",
       "    </tr>\n",
       "    <tr>\n",
       "      <th>1</th>\n",
       "      <td>1:51:46</td>\n",
       "      <td>2046.619333</td>\n",
       "      <td>2053.000000</td>\n",
       "      <td>2040.0</td>\n",
       "      <td>2053.0</td>\n",
       "      <td>3.580469</td>\n",
       "      <td>2047.0</td>\n",
       "      <td>2044.0</td>\n",
       "      <td>2050.0</td>\n",
       "      <td>-0.150615</td>\n",
       "      <td>300.0</td>\n",
       "      <td>1.988028e+09</td>\n",
       "      <td>walking</td>\n",
       "      <td>baba</td>\n",
       "    </tr>\n",
       "    <tr>\n",
       "      <th>2</th>\n",
       "      <td>1:51:50</td>\n",
       "      <td>2046.598000</td>\n",
       "      <td>2056.000000</td>\n",
       "      <td>2030.0</td>\n",
       "      <td>2059.0</td>\n",
       "      <td>3.592826</td>\n",
       "      <td>2047.0</td>\n",
       "      <td>2044.0</td>\n",
       "      <td>2049.0</td>\n",
       "      <td>-0.370125</td>\n",
       "      <td>300.0</td>\n",
       "      <td>1.987897e+09</td>\n",
       "      <td>walking</td>\n",
       "      <td>huhu</td>\n",
       "    </tr>\n",
       "    <tr>\n",
       "      <th>3</th>\n",
       "      <td>1:51:53</td>\n",
       "      <td>2046.560000</td>\n",
       "      <td>2054.000000</td>\n",
       "      <td>2039.0</td>\n",
       "      <td>2055.0</td>\n",
       "      <td>3.414830</td>\n",
       "      <td>2047.0</td>\n",
       "      <td>2044.0</td>\n",
       "      <td>2049.0</td>\n",
       "      <td>-0.321296</td>\n",
       "      <td>300.0</td>\n",
       "      <td>1.987662e+09</td>\n",
       "      <td>walking</td>\n",
       "      <td>sddass</td>\n",
       "    </tr>\n",
       "    <tr>\n",
       "      <th>4</th>\n",
       "      <td>1:51:56</td>\n",
       "      <td>2046.656667</td>\n",
       "      <td>2055.000000</td>\n",
       "      <td>2034.0</td>\n",
       "      <td>2057.0</td>\n",
       "      <td>3.356802</td>\n",
       "      <td>2048.0</td>\n",
       "      <td>NaN</td>\n",
       "      <td>2049.0</td>\n",
       "      <td>-0.379134</td>\n",
       "      <td>300.0</td>\n",
       "      <td>1.988255e+09</td>\n",
       "      <td>walking</td>\n",
       "      <td>dfasadfs</td>\n",
       "    </tr>\n",
       "  </tbody>\n",
       "</table>\n",
       "</div>"
      ],
      "text/plain": [
       "  timestamp         mean   top_3_mean     min     max   std_dev  median  \\\n",
       "0   1:51:43  2046.726000  2057.666667  2035.0  2060.0  3.452186  2047.0   \n",
       "1   1:51:46  2046.619333  2053.000000  2040.0  2053.0  3.580469  2047.0   \n",
       "2   1:51:50  2046.598000  2056.000000  2030.0  2059.0  3.592826  2047.0   \n",
       "3   1:51:53  2046.560000  2054.000000  2039.0  2055.0  3.414830  2047.0   \n",
       "4   1:51:56  2046.656667  2055.000000  2034.0  2057.0  3.356802  2048.0   \n",
       "\n",
       "       q1      q3  skewness  dominant_freq        energy activity      name  \n",
       "0  2043.0  2049.0 -0.152574          601.0  1.988682e+09  walking     Yusuf  \n",
       "1  2044.0  2050.0 -0.150615          300.0  1.988028e+09  walking     baba   \n",
       "2  2044.0  2049.0 -0.370125          300.0  1.987897e+09  walking      huhu  \n",
       "3  2044.0  2049.0 -0.321296          300.0  1.987662e+09  walking    sddass  \n",
       "4     NaN  2049.0 -0.379134          300.0  1.988255e+09  walking  dfasadfs  "
      ]
     },
     "execution_count": 33,
     "metadata": {},
     "output_type": "execute_result"
    }
   ],
   "source": [
    "df.head()"
   ]
  },
  {
   "cell_type": "code",
   "execution_count": 35,
   "id": "acae0b71-b1ea-4e0c-adf7-1b4f238df0ec",
   "metadata": {},
   "outputs": [
    {
     "ename": "IntCastingNaNError",
     "evalue": "Cannot convert non-finite values (NA or inf) to integer",
     "output_type": "error",
     "traceback": [
      "\u001b[1;31m---------------------------------------------------------------------------\u001b[0m",
      "\u001b[1;31mIntCastingNaNError\u001b[0m                        Traceback (most recent call last)",
      "Cell \u001b[1;32mIn[35], line 1\u001b[0m\n\u001b[1;32m----> 1\u001b[0m df[\u001b[38;5;124m'\u001b[39m\u001b[38;5;124mq1\u001b[39m\u001b[38;5;124m'\u001b[39m]\u001b[38;5;241m.\u001b[39mastype(\u001b[38;5;28mint\u001b[39m)\n",
      "File \u001b[1;32m~\\anaconda3\\Lib\\site-packages\\pandas\\core\\generic.py:6643\u001b[0m, in \u001b[0;36mNDFrame.astype\u001b[1;34m(self, dtype, copy, errors)\u001b[0m\n\u001b[0;32m   6637\u001b[0m     results \u001b[38;5;241m=\u001b[39m [\n\u001b[0;32m   6638\u001b[0m         ser\u001b[38;5;241m.\u001b[39mastype(dtype, copy\u001b[38;5;241m=\u001b[39mcopy, errors\u001b[38;5;241m=\u001b[39merrors) \u001b[38;5;28;01mfor\u001b[39;00m _, ser \u001b[38;5;129;01min\u001b[39;00m \u001b[38;5;28mself\u001b[39m\u001b[38;5;241m.\u001b[39mitems()\n\u001b[0;32m   6639\u001b[0m     ]\n\u001b[0;32m   6641\u001b[0m \u001b[38;5;28;01melse\u001b[39;00m:\n\u001b[0;32m   6642\u001b[0m     \u001b[38;5;66;03m# else, only a single dtype is given\u001b[39;00m\n\u001b[1;32m-> 6643\u001b[0m     new_data \u001b[38;5;241m=\u001b[39m \u001b[38;5;28mself\u001b[39m\u001b[38;5;241m.\u001b[39m_mgr\u001b[38;5;241m.\u001b[39mastype(dtype\u001b[38;5;241m=\u001b[39mdtype, copy\u001b[38;5;241m=\u001b[39mcopy, errors\u001b[38;5;241m=\u001b[39merrors)\n\u001b[0;32m   6644\u001b[0m     res \u001b[38;5;241m=\u001b[39m \u001b[38;5;28mself\u001b[39m\u001b[38;5;241m.\u001b[39m_constructor_from_mgr(new_data, axes\u001b[38;5;241m=\u001b[39mnew_data\u001b[38;5;241m.\u001b[39maxes)\n\u001b[0;32m   6645\u001b[0m     \u001b[38;5;28;01mreturn\u001b[39;00m res\u001b[38;5;241m.\u001b[39m__finalize__(\u001b[38;5;28mself\u001b[39m, method\u001b[38;5;241m=\u001b[39m\u001b[38;5;124m\"\u001b[39m\u001b[38;5;124mastype\u001b[39m\u001b[38;5;124m\"\u001b[39m)\n",
      "File \u001b[1;32m~\\anaconda3\\Lib\\site-packages\\pandas\\core\\internals\\managers.py:430\u001b[0m, in \u001b[0;36mBaseBlockManager.astype\u001b[1;34m(self, dtype, copy, errors)\u001b[0m\n\u001b[0;32m    427\u001b[0m \u001b[38;5;28;01melif\u001b[39;00m using_copy_on_write():\n\u001b[0;32m    428\u001b[0m     copy \u001b[38;5;241m=\u001b[39m \u001b[38;5;28;01mFalse\u001b[39;00m\n\u001b[1;32m--> 430\u001b[0m \u001b[38;5;28;01mreturn\u001b[39;00m \u001b[38;5;28mself\u001b[39m\u001b[38;5;241m.\u001b[39mapply(\n\u001b[0;32m    431\u001b[0m     \u001b[38;5;124m\"\u001b[39m\u001b[38;5;124mastype\u001b[39m\u001b[38;5;124m\"\u001b[39m,\n\u001b[0;32m    432\u001b[0m     dtype\u001b[38;5;241m=\u001b[39mdtype,\n\u001b[0;32m    433\u001b[0m     copy\u001b[38;5;241m=\u001b[39mcopy,\n\u001b[0;32m    434\u001b[0m     errors\u001b[38;5;241m=\u001b[39merrors,\n\u001b[0;32m    435\u001b[0m     using_cow\u001b[38;5;241m=\u001b[39musing_copy_on_write(),\n\u001b[0;32m    436\u001b[0m )\n",
      "File \u001b[1;32m~\\anaconda3\\Lib\\site-packages\\pandas\\core\\internals\\managers.py:363\u001b[0m, in \u001b[0;36mBaseBlockManager.apply\u001b[1;34m(self, f, align_keys, **kwargs)\u001b[0m\n\u001b[0;32m    361\u001b[0m         applied \u001b[38;5;241m=\u001b[39m b\u001b[38;5;241m.\u001b[39mapply(f, \u001b[38;5;241m*\u001b[39m\u001b[38;5;241m*\u001b[39mkwargs)\n\u001b[0;32m    362\u001b[0m     \u001b[38;5;28;01melse\u001b[39;00m:\n\u001b[1;32m--> 363\u001b[0m         applied \u001b[38;5;241m=\u001b[39m \u001b[38;5;28mgetattr\u001b[39m(b, f)(\u001b[38;5;241m*\u001b[39m\u001b[38;5;241m*\u001b[39mkwargs)\n\u001b[0;32m    364\u001b[0m     result_blocks \u001b[38;5;241m=\u001b[39m extend_blocks(applied, result_blocks)\n\u001b[0;32m    366\u001b[0m out \u001b[38;5;241m=\u001b[39m \u001b[38;5;28mtype\u001b[39m(\u001b[38;5;28mself\u001b[39m)\u001b[38;5;241m.\u001b[39mfrom_blocks(result_blocks, \u001b[38;5;28mself\u001b[39m\u001b[38;5;241m.\u001b[39maxes)\n",
      "File \u001b[1;32m~\\anaconda3\\Lib\\site-packages\\pandas\\core\\internals\\blocks.py:758\u001b[0m, in \u001b[0;36mBlock.astype\u001b[1;34m(self, dtype, copy, errors, using_cow, squeeze)\u001b[0m\n\u001b[0;32m    755\u001b[0m         \u001b[38;5;28;01mraise\u001b[39;00m \u001b[38;5;167;01mValueError\u001b[39;00m(\u001b[38;5;124m\"\u001b[39m\u001b[38;5;124mCan not squeeze with more than one column.\u001b[39m\u001b[38;5;124m\"\u001b[39m)\n\u001b[0;32m    756\u001b[0m     values \u001b[38;5;241m=\u001b[39m values[\u001b[38;5;241m0\u001b[39m, :]  \u001b[38;5;66;03m# type: ignore[call-overload]\u001b[39;00m\n\u001b[1;32m--> 758\u001b[0m new_values \u001b[38;5;241m=\u001b[39m astype_array_safe(values, dtype, copy\u001b[38;5;241m=\u001b[39mcopy, errors\u001b[38;5;241m=\u001b[39merrors)\n\u001b[0;32m    760\u001b[0m new_values \u001b[38;5;241m=\u001b[39m maybe_coerce_values(new_values)\n\u001b[0;32m    762\u001b[0m refs \u001b[38;5;241m=\u001b[39m \u001b[38;5;28;01mNone\u001b[39;00m\n",
      "File \u001b[1;32m~\\anaconda3\\Lib\\site-packages\\pandas\\core\\dtypes\\astype.py:237\u001b[0m, in \u001b[0;36mastype_array_safe\u001b[1;34m(values, dtype, copy, errors)\u001b[0m\n\u001b[0;32m    234\u001b[0m     dtype \u001b[38;5;241m=\u001b[39m dtype\u001b[38;5;241m.\u001b[39mnumpy_dtype\n\u001b[0;32m    236\u001b[0m \u001b[38;5;28;01mtry\u001b[39;00m:\n\u001b[1;32m--> 237\u001b[0m     new_values \u001b[38;5;241m=\u001b[39m astype_array(values, dtype, copy\u001b[38;5;241m=\u001b[39mcopy)\n\u001b[0;32m    238\u001b[0m \u001b[38;5;28;01mexcept\u001b[39;00m (\u001b[38;5;167;01mValueError\u001b[39;00m, \u001b[38;5;167;01mTypeError\u001b[39;00m):\n\u001b[0;32m    239\u001b[0m     \u001b[38;5;66;03m# e.g. _astype_nansafe can fail on object-dtype of strings\u001b[39;00m\n\u001b[0;32m    240\u001b[0m     \u001b[38;5;66;03m#  trying to convert to float\u001b[39;00m\n\u001b[0;32m    241\u001b[0m     \u001b[38;5;28;01mif\u001b[39;00m errors \u001b[38;5;241m==\u001b[39m \u001b[38;5;124m\"\u001b[39m\u001b[38;5;124mignore\u001b[39m\u001b[38;5;124m\"\u001b[39m:\n",
      "File \u001b[1;32m~\\anaconda3\\Lib\\site-packages\\pandas\\core\\dtypes\\astype.py:182\u001b[0m, in \u001b[0;36mastype_array\u001b[1;34m(values, dtype, copy)\u001b[0m\n\u001b[0;32m    179\u001b[0m     values \u001b[38;5;241m=\u001b[39m values\u001b[38;5;241m.\u001b[39mastype(dtype, copy\u001b[38;5;241m=\u001b[39mcopy)\n\u001b[0;32m    181\u001b[0m \u001b[38;5;28;01melse\u001b[39;00m:\n\u001b[1;32m--> 182\u001b[0m     values \u001b[38;5;241m=\u001b[39m _astype_nansafe(values, dtype, copy\u001b[38;5;241m=\u001b[39mcopy)\n\u001b[0;32m    184\u001b[0m \u001b[38;5;66;03m# in pandas we don't store numpy str dtypes, so convert to object\u001b[39;00m\n\u001b[0;32m    185\u001b[0m \u001b[38;5;28;01mif\u001b[39;00m \u001b[38;5;28misinstance\u001b[39m(dtype, np\u001b[38;5;241m.\u001b[39mdtype) \u001b[38;5;129;01mand\u001b[39;00m \u001b[38;5;28missubclass\u001b[39m(values\u001b[38;5;241m.\u001b[39mdtype\u001b[38;5;241m.\u001b[39mtype, \u001b[38;5;28mstr\u001b[39m):\n",
      "File \u001b[1;32m~\\anaconda3\\Lib\\site-packages\\pandas\\core\\dtypes\\astype.py:101\u001b[0m, in \u001b[0;36m_astype_nansafe\u001b[1;34m(arr, dtype, copy, skipna)\u001b[0m\n\u001b[0;32m     96\u001b[0m     \u001b[38;5;28;01mreturn\u001b[39;00m lib\u001b[38;5;241m.\u001b[39mensure_string_array(\n\u001b[0;32m     97\u001b[0m         arr, skipna\u001b[38;5;241m=\u001b[39mskipna, convert_na_value\u001b[38;5;241m=\u001b[39m\u001b[38;5;28;01mFalse\u001b[39;00m\n\u001b[0;32m     98\u001b[0m     )\u001b[38;5;241m.\u001b[39mreshape(shape)\n\u001b[0;32m    100\u001b[0m \u001b[38;5;28;01melif\u001b[39;00m np\u001b[38;5;241m.\u001b[39missubdtype(arr\u001b[38;5;241m.\u001b[39mdtype, np\u001b[38;5;241m.\u001b[39mfloating) \u001b[38;5;129;01mand\u001b[39;00m dtype\u001b[38;5;241m.\u001b[39mkind \u001b[38;5;129;01min\u001b[39;00m \u001b[38;5;124m\"\u001b[39m\u001b[38;5;124miu\u001b[39m\u001b[38;5;124m\"\u001b[39m:\n\u001b[1;32m--> 101\u001b[0m     \u001b[38;5;28;01mreturn\u001b[39;00m _astype_float_to_int_nansafe(arr, dtype, copy)\n\u001b[0;32m    103\u001b[0m \u001b[38;5;28;01melif\u001b[39;00m arr\u001b[38;5;241m.\u001b[39mdtype \u001b[38;5;241m==\u001b[39m \u001b[38;5;28mobject\u001b[39m:\n\u001b[0;32m    104\u001b[0m     \u001b[38;5;66;03m# if we have a datetime/timedelta array of objects\u001b[39;00m\n\u001b[0;32m    105\u001b[0m     \u001b[38;5;66;03m# then coerce to datetime64[ns] and use DatetimeArray.astype\u001b[39;00m\n\u001b[0;32m    107\u001b[0m     \u001b[38;5;28;01mif\u001b[39;00m lib\u001b[38;5;241m.\u001b[39mis_np_dtype(dtype, \u001b[38;5;124m\"\u001b[39m\u001b[38;5;124mM\u001b[39m\u001b[38;5;124m\"\u001b[39m):\n",
      "File \u001b[1;32m~\\anaconda3\\Lib\\site-packages\\pandas\\core\\dtypes\\astype.py:145\u001b[0m, in \u001b[0;36m_astype_float_to_int_nansafe\u001b[1;34m(values, dtype, copy)\u001b[0m\n\u001b[0;32m    141\u001b[0m \u001b[38;5;250m\u001b[39m\u001b[38;5;124;03m\"\"\"\u001b[39;00m\n\u001b[0;32m    142\u001b[0m \u001b[38;5;124;03mastype with a check preventing converting NaN to an meaningless integer value.\u001b[39;00m\n\u001b[0;32m    143\u001b[0m \u001b[38;5;124;03m\"\"\"\u001b[39;00m\n\u001b[0;32m    144\u001b[0m \u001b[38;5;28;01mif\u001b[39;00m \u001b[38;5;129;01mnot\u001b[39;00m np\u001b[38;5;241m.\u001b[39misfinite(values)\u001b[38;5;241m.\u001b[39mall():\n\u001b[1;32m--> 145\u001b[0m     \u001b[38;5;28;01mraise\u001b[39;00m IntCastingNaNError(\n\u001b[0;32m    146\u001b[0m         \u001b[38;5;124m\"\u001b[39m\u001b[38;5;124mCannot convert non-finite values (NA or inf) to integer\u001b[39m\u001b[38;5;124m\"\u001b[39m\n\u001b[0;32m    147\u001b[0m     )\n\u001b[0;32m    148\u001b[0m \u001b[38;5;28;01mif\u001b[39;00m dtype\u001b[38;5;241m.\u001b[39mkind \u001b[38;5;241m==\u001b[39m \u001b[38;5;124m\"\u001b[39m\u001b[38;5;124mu\u001b[39m\u001b[38;5;124m\"\u001b[39m:\n\u001b[0;32m    149\u001b[0m     \u001b[38;5;66;03m# GH#45151\u001b[39;00m\n\u001b[0;32m    150\u001b[0m     \u001b[38;5;28;01mif\u001b[39;00m \u001b[38;5;129;01mnot\u001b[39;00m (values \u001b[38;5;241m>\u001b[39m\u001b[38;5;241m=\u001b[39m \u001b[38;5;241m0\u001b[39m)\u001b[38;5;241m.\u001b[39mall():\n",
      "\u001b[1;31mIntCastingNaNError\u001b[0m: Cannot convert non-finite values (NA or inf) to integer"
     ]
    }
   ],
   "source": [
    "df['q1'].astype(int)"
   ]
  },
  {
   "cell_type": "code",
   "execution_count": 21,
   "id": "6adf4a3f-be6d-44d0-8ee8-d6b92697e4ff",
   "metadata": {},
   "outputs": [
    {
     "name": "stdout",
     "output_type": "stream",
     "text": [
      "<class 'pandas.core.frame.DataFrame'>\n",
      "RangeIndex: 1800 entries, 0 to 1799\n",
      "Data columns (total 14 columns):\n",
      " #   Column         Non-Null Count  Dtype  \n",
      "---  ------         --------------  -----  \n",
      " 0   timestamp      1795 non-null   object \n",
      " 1   mean           1784 non-null   float64\n",
      " 2   top_3_mean     1788 non-null   float64\n",
      " 3   min            1787 non-null   float64\n",
      " 4   max            1786 non-null   float64\n",
      " 5   std_dev        1781 non-null   float64\n",
      " 6   median         1784 non-null   float64\n",
      " 7   q1             1785 non-null   float64\n",
      " 8   q3             1781 non-null   float64\n",
      " 9   skewness       1774 non-null   float64\n",
      " 10  dominant_freq  1768 non-null   float64\n",
      " 11  energy         1783 non-null   float64\n",
      " 12  activity       1772 non-null   object \n",
      " 13  name           1785 non-null   object \n",
      "dtypes: float64(11), object(3)\n",
      "memory usage: 197.0+ KB\n"
     ]
    }
   ],
   "source": [
    "df.info()"
   ]
  },
  {
   "cell_type": "code",
   "execution_count": 21,
   "id": "4285f1f1-3334-4e23-8b01-325316dbb850",
   "metadata": {},
   "outputs": [
    {
     "name": "stderr",
     "output_type": "stream",
     "text": [
      "C:\\Users\\Public\\Documents\\ESTsoft\\CreatorTemp\\ipykernel_23872\\126942108.py:1: FutureWarning: A value is trying to be set on a copy of a DataFrame or Series through chained assignment using an inplace method.\n",
      "The behavior will change in pandas 3.0. This inplace method will never work because the intermediate object on which we are setting values always behaves as a copy.\n",
      "\n",
      "For example, when doing 'df[col].method(value, inplace=True)', try using 'df.method({col: value}, inplace=True)' or df[col] = df[col].method(value) instead, to perform the operation inplace on the original object.\n",
      "\n",
      "\n",
      "  df['mean'].fillna(df['mean'].mean(), inplace=True)\n"
     ]
    }
   ],
   "source": [
    "df['mean'].fillna(df['mean'].mean(), inplace=True)"
   ]
  },
  {
   "cell_type": "code",
   "execution_count": 23,
   "id": "4e3dff1e-c035-4d43-8be9-8bf5b0b818f7",
   "metadata": {},
   "outputs": [
    {
     "name": "stdout",
     "output_type": "stream",
     "text": [
      "<class 'pandas.core.frame.DataFrame'>\n",
      "RangeIndex: 1800 entries, 0 to 1799\n",
      "Data columns (total 14 columns):\n",
      " #   Column         Non-Null Count  Dtype  \n",
      "---  ------         --------------  -----  \n",
      " 0   timestamp      1795 non-null   object \n",
      " 1   mean           1800 non-null   float64\n",
      " 2   top_3_mean     1788 non-null   float64\n",
      " 3   min            1787 non-null   float64\n",
      " 4   max            1786 non-null   float64\n",
      " 5   std_dev        1781 non-null   float64\n",
      " 6   median         1784 non-null   float64\n",
      " 7   q1             1785 non-null   float64\n",
      " 8   q3             1781 non-null   float64\n",
      " 9   skewness       1774 non-null   float64\n",
      " 10  dominant_freq  1768 non-null   float64\n",
      " 11  energy         1783 non-null   float64\n",
      " 12  activity       1772 non-null   object \n",
      " 13  name           1785 non-null   object \n",
      "dtypes: float64(11), object(3)\n",
      "memory usage: 197.0+ KB\n"
     ]
    }
   ],
   "source": [
    "df.info()"
   ]
  },
  {
   "cell_type": "markdown",
   "id": "0085b356-e2be-4e1f-8a76-14ec75cfef6f",
   "metadata": {},
   "source": [
    "# missing valuelar juda kup bulganligi uchun umumiy formuladan foydalanib ketaman"
   ]
  },
  {
   "cell_type": "code",
   "execution_count": 26,
   "id": "50954987-742b-46cb-a9ef-a93f0cf63ad7",
   "metadata": {},
   "outputs": [],
   "source": [
    "blank_space=df.columns[df.isnull().sum()>0]"
   ]
  },
  {
   "cell_type": "code",
   "execution_count": 28,
   "id": "4e83b4d4-6c86-4609-8b27-71d26d749a5d",
   "metadata": {},
   "outputs": [
    {
     "data": {
      "text/plain": [
       "Index(['timestamp', 'top_3_mean', 'min', 'max', 'std_dev', 'median', 'q1',\n",
       "       'q3', 'skewness', 'dominant_freq', 'energy', 'activity', 'name'],\n",
       "      dtype='object')"
      ]
     },
     "execution_count": 28,
     "metadata": {},
     "output_type": "execute_result"
    }
   ],
   "source": [
    "blank_space"
   ]
  },
  {
   "cell_type": "code",
   "execution_count": 46,
   "id": "868c663c-b0cd-4660-96ac-794e314f59aa",
   "metadata": {},
   "outputs": [
    {
     "name": "stderr",
     "output_type": "stream",
     "text": [
      "C:\\Users\\Public\\Documents\\ESTsoft\\CreatorTemp\\ipykernel_23872\\2988485129.py:5: FutureWarning: A value is trying to be set on a copy of a DataFrame or Series through chained assignment using an inplace method.\n",
      "The behavior will change in pandas 3.0. This inplace method will never work because the intermediate object on which we are setting values always behaves as a copy.\n",
      "\n",
      "For example, when doing 'df[col].method(value, inplace=True)', try using 'df.method({col: value}, inplace=True)' or df[col] = df[col].method(value) instead, to perform the operation inplace on the original object.\n",
      "\n",
      "\n",
      "  df[col].fillna(df[col].mean(), inplace=True)\n"
     ]
    }
   ],
   "source": [
    "for col in blank_space:\n",
    "    if df[col].dtype=='object':\n",
    "        df[col].fillna(df[col].mode()[0], inplace=True)\n",
    "    else:\n",
    "        df[col].fillna(df[col].mean(), inplace=True)\n"
   ]
  },
  {
   "cell_type": "code",
   "execution_count": 32,
   "id": "09a21bf0-9f79-47ce-b28a-8b72b4e67db8",
   "metadata": {},
   "outputs": [
    {
     "name": "stdout",
     "output_type": "stream",
     "text": [
      "<class 'pandas.core.frame.DataFrame'>\n",
      "RangeIndex: 1800 entries, 0 to 1799\n",
      "Data columns (total 14 columns):\n",
      " #   Column         Non-Null Count  Dtype  \n",
      "---  ------         --------------  -----  \n",
      " 0   timestamp      1800 non-null   object \n",
      " 1   mean           1800 non-null   float64\n",
      " 2   top_3_mean     1800 non-null   float64\n",
      " 3   min            1800 non-null   float64\n",
      " 4   max            1800 non-null   float64\n",
      " 5   std_dev        1800 non-null   float64\n",
      " 6   median         1800 non-null   float64\n",
      " 7   q1             1800 non-null   float64\n",
      " 8   q3             1800 non-null   float64\n",
      " 9   skewness       1800 non-null   float64\n",
      " 10  dominant_freq  1800 non-null   float64\n",
      " 11  energy         1800 non-null   float64\n",
      " 12  activity       1800 non-null   object \n",
      " 13  name           1800 non-null   object \n",
      "dtypes: float64(11), object(3)\n",
      "memory usage: 197.0+ KB\n"
     ]
    }
   ],
   "source": [
    "df.info()"
   ]
  },
  {
   "cell_type": "markdown",
   "id": "8a069a94-a375-46cb-be11-72331fb52387",
   "metadata": {},
   "source": [
    "# Encoding"
   ]
  },
  {
   "cell_type": "code",
   "execution_count": 35,
   "id": "408567ac-37b0-4be9-92a1-70612781e4c0",
   "metadata": {},
   "outputs": [],
   "source": [
    "raqamli_ustun=df.select_dtypes(include=['int64','float64']).columns"
   ]
  },
  {
   "cell_type": "code",
   "execution_count": 37,
   "id": "9a337653-9bef-466b-a359-414278e53a85",
   "metadata": {},
   "outputs": [
    {
     "data": {
      "text/plain": [
       "Index(['mean', 'top_3_mean', 'min', 'max', 'std_dev', 'median', 'q1', 'q3',\n",
       "       'skewness', 'dominant_freq', 'energy'],\n",
       "      dtype='object')"
      ]
     },
     "execution_count": 37,
     "metadata": {},
     "output_type": "execute_result"
    }
   ],
   "source": [
    "raqamli_ustun"
   ]
  },
  {
   "cell_type": "code",
   "execution_count": 39,
   "id": "cc89975c-f32d-40be-a40b-287cc8ee23cf",
   "metadata": {},
   "outputs": [],
   "source": [
    "yozuvli_ustun=df.select_dtypes(include=['object', 'category']).columns"
   ]
  },
  {
   "cell_type": "code",
   "execution_count": 41,
   "id": "f3e2cde3-b061-441b-b5f9-f66b851c689f",
   "metadata": {},
   "outputs": [
    {
     "data": {
      "text/plain": [
       "Index(['timestamp', 'activity', 'name'], dtype='object')"
      ]
     },
     "execution_count": 41,
     "metadata": {},
     "output_type": "execute_result"
    }
   ],
   "source": [
    "yozuvli_ustun"
   ]
  },
  {
   "cell_type": "markdown",
   "id": "e0c09325-9743-44ce-a285-107a66f2180b",
   "metadata": {},
   "source": [
    "# one hot encoding >> dummies orqali"
   ]
  },
  {
   "cell_type": "code",
   "execution_count": 44,
   "id": "022e0886-b258-491a-bd8e-484cfe5c508b",
   "metadata": {},
   "outputs": [
    {
     "name": "stdout",
     "output_type": "stream",
     "text": [
      "<class 'pandas.core.frame.DataFrame'>\n",
      "RangeIndex: 1800 entries, 0 to 1799\n",
      "Data columns (total 14 columns):\n",
      " #   Column         Non-Null Count  Dtype  \n",
      "---  ------         --------------  -----  \n",
      " 0   timestamp      1800 non-null   object \n",
      " 1   mean           1800 non-null   float64\n",
      " 2   top_3_mean     1800 non-null   float64\n",
      " 3   min            1800 non-null   float64\n",
      " 4   max            1800 non-null   float64\n",
      " 5   std_dev        1800 non-null   float64\n",
      " 6   median         1800 non-null   float64\n",
      " 7   q1             1800 non-null   float64\n",
      " 8   q3             1800 non-null   float64\n",
      " 9   skewness       1800 non-null   float64\n",
      " 10  dominant_freq  1800 non-null   float64\n",
      " 11  energy         1800 non-null   float64\n",
      " 12  activity       1800 non-null   object \n",
      " 13  name           1800 non-null   object \n",
      "dtypes: float64(11), object(3)\n",
      "memory usage: 197.0+ KB\n"
     ]
    }
   ],
   "source": [
    "df.info()"
   ]
  },
  {
   "cell_type": "code",
   "execution_count": 32,
   "id": "a8ce57c3-0a72-4bbd-88e9-0178207b04a2",
   "metadata": {},
   "outputs": [],
   "source": [
    "df=pd.get_dummies(df, columns=yozuvli_ustun, drop_first=True)"
   ]
  },
  {
   "cell_type": "code",
   "execution_count": 34,
   "id": "aa7b5226-82f9-43cc-90d8-b7fd240236c0",
   "metadata": {},
   "outputs": [
    {
     "name": "stdout",
     "output_type": "stream",
     "text": [
      "<class 'pandas.core.frame.DataFrame'>\n",
      "RangeIndex: 1800 entries, 0 to 1799\n",
      "Columns: 1828 entries, mean to name_sddass\n",
      "dtypes: bool(1817), float64(11)\n",
      "memory usage: 3.3 MB\n"
     ]
    }
   ],
   "source": [
    "df.info()"
   ]
  },
  {
   "cell_type": "code",
   "execution_count": 36,
   "id": "1fbb7349-9872-4c5a-8c4d-1d3644a0b242",
   "metadata": {},
   "outputs": [
    {
     "data": {
      "text/html": [
       "<div>\n",
       "<style scoped>\n",
       "    .dataframe tbody tr th:only-of-type {\n",
       "        vertical-align: middle;\n",
       "    }\n",
       "\n",
       "    .dataframe tbody tr th {\n",
       "        vertical-align: top;\n",
       "    }\n",
       "\n",
       "    .dataframe thead th {\n",
       "        text-align: right;\n",
       "    }\n",
       "</style>\n",
       "<table border=\"1\" class=\"dataframe\">\n",
       "  <thead>\n",
       "    <tr style=\"text-align: right;\">\n",
       "      <th></th>\n",
       "      <th>mean</th>\n",
       "      <th>top_3_mean</th>\n",
       "      <th>min</th>\n",
       "      <th>max</th>\n",
       "      <th>std_dev</th>\n",
       "      <th>median</th>\n",
       "      <th>q1</th>\n",
       "      <th>q3</th>\n",
       "      <th>skewness</th>\n",
       "      <th>dominant_freq</th>\n",
       "      <th>...</th>\n",
       "      <th>name_asddsafadfs</th>\n",
       "      <th>name_baba</th>\n",
       "      <th>name_dfasadfs</th>\n",
       "      <th>name_dfdfsa</th>\n",
       "      <th>name_dfsaadsd</th>\n",
       "      <th>name_dfsadfsadfsaadfs</th>\n",
       "      <th>name_dfsdfsa</th>\n",
       "      <th>name_dsafdfsadfsa</th>\n",
       "      <th>name_huhu</th>\n",
       "      <th>name_sddass</th>\n",
       "    </tr>\n",
       "  </thead>\n",
       "  <tbody>\n",
       "    <tr>\n",
       "      <th>0</th>\n",
       "      <td>2046.726000</td>\n",
       "      <td>2057.666667</td>\n",
       "      <td>2035.0</td>\n",
       "      <td>2060.0</td>\n",
       "      <td>3.452186</td>\n",
       "      <td>2047.0</td>\n",
       "      <td>2043.000000</td>\n",
       "      <td>2049.0</td>\n",
       "      <td>-0.152574</td>\n",
       "      <td>601.0</td>\n",
       "      <td>...</td>\n",
       "      <td>False</td>\n",
       "      <td>False</td>\n",
       "      <td>False</td>\n",
       "      <td>False</td>\n",
       "      <td>False</td>\n",
       "      <td>False</td>\n",
       "      <td>False</td>\n",
       "      <td>False</td>\n",
       "      <td>False</td>\n",
       "      <td>False</td>\n",
       "    </tr>\n",
       "    <tr>\n",
       "      <th>1</th>\n",
       "      <td>2046.619333</td>\n",
       "      <td>2053.000000</td>\n",
       "      <td>2040.0</td>\n",
       "      <td>2053.0</td>\n",
       "      <td>3.580469</td>\n",
       "      <td>2047.0</td>\n",
       "      <td>2044.000000</td>\n",
       "      <td>2050.0</td>\n",
       "      <td>-0.150615</td>\n",
       "      <td>300.0</td>\n",
       "      <td>...</td>\n",
       "      <td>False</td>\n",
       "      <td>True</td>\n",
       "      <td>False</td>\n",
       "      <td>False</td>\n",
       "      <td>False</td>\n",
       "      <td>False</td>\n",
       "      <td>False</td>\n",
       "      <td>False</td>\n",
       "      <td>False</td>\n",
       "      <td>False</td>\n",
       "    </tr>\n",
       "    <tr>\n",
       "      <th>2</th>\n",
       "      <td>2046.598000</td>\n",
       "      <td>2056.000000</td>\n",
       "      <td>2030.0</td>\n",
       "      <td>2059.0</td>\n",
       "      <td>3.592826</td>\n",
       "      <td>2047.0</td>\n",
       "      <td>2044.000000</td>\n",
       "      <td>2049.0</td>\n",
       "      <td>-0.370125</td>\n",
       "      <td>300.0</td>\n",
       "      <td>...</td>\n",
       "      <td>False</td>\n",
       "      <td>False</td>\n",
       "      <td>False</td>\n",
       "      <td>False</td>\n",
       "      <td>False</td>\n",
       "      <td>False</td>\n",
       "      <td>False</td>\n",
       "      <td>False</td>\n",
       "      <td>True</td>\n",
       "      <td>False</td>\n",
       "    </tr>\n",
       "    <tr>\n",
       "      <th>3</th>\n",
       "      <td>2046.560000</td>\n",
       "      <td>2054.000000</td>\n",
       "      <td>2039.0</td>\n",
       "      <td>2055.0</td>\n",
       "      <td>3.414830</td>\n",
       "      <td>2047.0</td>\n",
       "      <td>2044.000000</td>\n",
       "      <td>2049.0</td>\n",
       "      <td>-0.321296</td>\n",
       "      <td>300.0</td>\n",
       "      <td>...</td>\n",
       "      <td>False</td>\n",
       "      <td>False</td>\n",
       "      <td>False</td>\n",
       "      <td>False</td>\n",
       "      <td>False</td>\n",
       "      <td>False</td>\n",
       "      <td>False</td>\n",
       "      <td>False</td>\n",
       "      <td>False</td>\n",
       "      <td>True</td>\n",
       "    </tr>\n",
       "    <tr>\n",
       "      <th>4</th>\n",
       "      <td>2046.656667</td>\n",
       "      <td>2055.000000</td>\n",
       "      <td>2034.0</td>\n",
       "      <td>2057.0</td>\n",
       "      <td>3.356802</td>\n",
       "      <td>2048.0</td>\n",
       "      <td>2037.610084</td>\n",
       "      <td>2049.0</td>\n",
       "      <td>-0.379134</td>\n",
       "      <td>300.0</td>\n",
       "      <td>...</td>\n",
       "      <td>False</td>\n",
       "      <td>False</td>\n",
       "      <td>True</td>\n",
       "      <td>False</td>\n",
       "      <td>False</td>\n",
       "      <td>False</td>\n",
       "      <td>False</td>\n",
       "      <td>False</td>\n",
       "      <td>False</td>\n",
       "      <td>False</td>\n",
       "    </tr>\n",
       "  </tbody>\n",
       "</table>\n",
       "<p>5 rows × 1828 columns</p>\n",
       "</div>"
      ],
      "text/plain": [
       "          mean   top_3_mean     min     max   std_dev  median           q1  \\\n",
       "0  2046.726000  2057.666667  2035.0  2060.0  3.452186  2047.0  2043.000000   \n",
       "1  2046.619333  2053.000000  2040.0  2053.0  3.580469  2047.0  2044.000000   \n",
       "2  2046.598000  2056.000000  2030.0  2059.0  3.592826  2047.0  2044.000000   \n",
       "3  2046.560000  2054.000000  2039.0  2055.0  3.414830  2047.0  2044.000000   \n",
       "4  2046.656667  2055.000000  2034.0  2057.0  3.356802  2048.0  2037.610084   \n",
       "\n",
       "       q3  skewness  dominant_freq  ...  name_asddsafadfs  name_baba   \\\n",
       "0  2049.0 -0.152574          601.0  ...             False       False   \n",
       "1  2050.0 -0.150615          300.0  ...             False        True   \n",
       "2  2049.0 -0.370125          300.0  ...             False       False   \n",
       "3  2049.0 -0.321296          300.0  ...             False       False   \n",
       "4  2049.0 -0.379134          300.0  ...             False       False   \n",
       "\n",
       "   name_dfasadfs  name_dfdfsa  name_dfsaadsd  name_dfsadfsadfsaadfs  \\\n",
       "0          False        False          False                  False   \n",
       "1          False        False          False                  False   \n",
       "2          False        False          False                  False   \n",
       "3          False        False          False                  False   \n",
       "4           True        False          False                  False   \n",
       "\n",
       "   name_dfsdfsa  name_dsafdfsadfsa  name_huhu  name_sddass  \n",
       "0         False              False      False        False  \n",
       "1         False              False      False        False  \n",
       "2         False              False       True        False  \n",
       "3         False              False      False         True  \n",
       "4         False              False      False        False  \n",
       "\n",
       "[5 rows x 1828 columns]"
      ]
     },
     "execution_count": 36,
     "metadata": {},
     "output_type": "execute_result"
    }
   ],
   "source": [
    "df.head()"
   ]
  },
  {
   "cell_type": "code",
   "execution_count": 38,
   "id": "40fe72fd-660b-496c-8e1c-59081b256b4b",
   "metadata": {},
   "outputs": [],
   "source": [
    "df=df.astype(int)"
   ]
  },
  {
   "cell_type": "code",
   "execution_count": 40,
   "id": "590692b7-ffdc-45dc-b87a-df9426a3dbce",
   "metadata": {},
   "outputs": [
    {
     "name": "stdout",
     "output_type": "stream",
     "text": [
      "<class 'pandas.core.frame.DataFrame'>\n",
      "RangeIndex: 1800 entries, 0 to 1799\n",
      "Columns: 1828 entries, mean to name_sddass\n",
      "dtypes: int32(1828)\n",
      "memory usage: 12.6 MB\n"
     ]
    }
   ],
   "source": [
    "df.info()"
   ]
  },
  {
   "cell_type": "code",
   "execution_count": 42,
   "id": "0ad7ba2b-6419-4343-a9eb-85d32ea8172a",
   "metadata": {},
   "outputs": [
    {
     "data": {
      "text/html": [
       "<div>\n",
       "<style scoped>\n",
       "    .dataframe tbody tr th:only-of-type {\n",
       "        vertical-align: middle;\n",
       "    }\n",
       "\n",
       "    .dataframe tbody tr th {\n",
       "        vertical-align: top;\n",
       "    }\n",
       "\n",
       "    .dataframe thead th {\n",
       "        text-align: right;\n",
       "    }\n",
       "</style>\n",
       "<table border=\"1\" class=\"dataframe\">\n",
       "  <thead>\n",
       "    <tr style=\"text-align: right;\">\n",
       "      <th></th>\n",
       "      <th>mean</th>\n",
       "      <th>top_3_mean</th>\n",
       "      <th>min</th>\n",
       "      <th>max</th>\n",
       "      <th>std_dev</th>\n",
       "      <th>median</th>\n",
       "      <th>q1</th>\n",
       "      <th>q3</th>\n",
       "      <th>skewness</th>\n",
       "      <th>dominant_freq</th>\n",
       "      <th>...</th>\n",
       "      <th>name_asddsafadfs</th>\n",
       "      <th>name_baba</th>\n",
       "      <th>name_dfasadfs</th>\n",
       "      <th>name_dfdfsa</th>\n",
       "      <th>name_dfsaadsd</th>\n",
       "      <th>name_dfsadfsadfsaadfs</th>\n",
       "      <th>name_dfsdfsa</th>\n",
       "      <th>name_dsafdfsadfsa</th>\n",
       "      <th>name_huhu</th>\n",
       "      <th>name_sddass</th>\n",
       "    </tr>\n",
       "  </thead>\n",
       "  <tbody>\n",
       "    <tr>\n",
       "      <th>0</th>\n",
       "      <td>2046</td>\n",
       "      <td>2057</td>\n",
       "      <td>2035</td>\n",
       "      <td>2060</td>\n",
       "      <td>3</td>\n",
       "      <td>2047</td>\n",
       "      <td>2043</td>\n",
       "      <td>2049</td>\n",
       "      <td>0</td>\n",
       "      <td>601</td>\n",
       "      <td>...</td>\n",
       "      <td>0</td>\n",
       "      <td>0</td>\n",
       "      <td>0</td>\n",
       "      <td>0</td>\n",
       "      <td>0</td>\n",
       "      <td>0</td>\n",
       "      <td>0</td>\n",
       "      <td>0</td>\n",
       "      <td>0</td>\n",
       "      <td>0</td>\n",
       "    </tr>\n",
       "    <tr>\n",
       "      <th>1</th>\n",
       "      <td>2046</td>\n",
       "      <td>2053</td>\n",
       "      <td>2040</td>\n",
       "      <td>2053</td>\n",
       "      <td>3</td>\n",
       "      <td>2047</td>\n",
       "      <td>2044</td>\n",
       "      <td>2050</td>\n",
       "      <td>0</td>\n",
       "      <td>300</td>\n",
       "      <td>...</td>\n",
       "      <td>0</td>\n",
       "      <td>1</td>\n",
       "      <td>0</td>\n",
       "      <td>0</td>\n",
       "      <td>0</td>\n",
       "      <td>0</td>\n",
       "      <td>0</td>\n",
       "      <td>0</td>\n",
       "      <td>0</td>\n",
       "      <td>0</td>\n",
       "    </tr>\n",
       "    <tr>\n",
       "      <th>2</th>\n",
       "      <td>2046</td>\n",
       "      <td>2056</td>\n",
       "      <td>2030</td>\n",
       "      <td>2059</td>\n",
       "      <td>3</td>\n",
       "      <td>2047</td>\n",
       "      <td>2044</td>\n",
       "      <td>2049</td>\n",
       "      <td>0</td>\n",
       "      <td>300</td>\n",
       "      <td>...</td>\n",
       "      <td>0</td>\n",
       "      <td>0</td>\n",
       "      <td>0</td>\n",
       "      <td>0</td>\n",
       "      <td>0</td>\n",
       "      <td>0</td>\n",
       "      <td>0</td>\n",
       "      <td>0</td>\n",
       "      <td>1</td>\n",
       "      <td>0</td>\n",
       "    </tr>\n",
       "    <tr>\n",
       "      <th>3</th>\n",
       "      <td>2046</td>\n",
       "      <td>2054</td>\n",
       "      <td>2039</td>\n",
       "      <td>2055</td>\n",
       "      <td>3</td>\n",
       "      <td>2047</td>\n",
       "      <td>2044</td>\n",
       "      <td>2049</td>\n",
       "      <td>0</td>\n",
       "      <td>300</td>\n",
       "      <td>...</td>\n",
       "      <td>0</td>\n",
       "      <td>0</td>\n",
       "      <td>0</td>\n",
       "      <td>0</td>\n",
       "      <td>0</td>\n",
       "      <td>0</td>\n",
       "      <td>0</td>\n",
       "      <td>0</td>\n",
       "      <td>0</td>\n",
       "      <td>1</td>\n",
       "    </tr>\n",
       "    <tr>\n",
       "      <th>4</th>\n",
       "      <td>2046</td>\n",
       "      <td>2055</td>\n",
       "      <td>2034</td>\n",
       "      <td>2057</td>\n",
       "      <td>3</td>\n",
       "      <td>2048</td>\n",
       "      <td>2037</td>\n",
       "      <td>2049</td>\n",
       "      <td>0</td>\n",
       "      <td>300</td>\n",
       "      <td>...</td>\n",
       "      <td>0</td>\n",
       "      <td>0</td>\n",
       "      <td>1</td>\n",
       "      <td>0</td>\n",
       "      <td>0</td>\n",
       "      <td>0</td>\n",
       "      <td>0</td>\n",
       "      <td>0</td>\n",
       "      <td>0</td>\n",
       "      <td>0</td>\n",
       "    </tr>\n",
       "  </tbody>\n",
       "</table>\n",
       "<p>5 rows × 1828 columns</p>\n",
       "</div>"
      ],
      "text/plain": [
       "   mean  top_3_mean   min   max  std_dev  median    q1    q3  skewness  \\\n",
       "0  2046        2057  2035  2060        3    2047  2043  2049         0   \n",
       "1  2046        2053  2040  2053        3    2047  2044  2050         0   \n",
       "2  2046        2056  2030  2059        3    2047  2044  2049         0   \n",
       "3  2046        2054  2039  2055        3    2047  2044  2049         0   \n",
       "4  2046        2055  2034  2057        3    2048  2037  2049         0   \n",
       "\n",
       "   dominant_freq  ...  name_asddsafadfs  name_baba   name_dfasadfs  \\\n",
       "0            601  ...                 0           0              0   \n",
       "1            300  ...                 0           1              0   \n",
       "2            300  ...                 0           0              0   \n",
       "3            300  ...                 0           0              0   \n",
       "4            300  ...                 0           0              1   \n",
       "\n",
       "   name_dfdfsa  name_dfsaadsd  name_dfsadfsadfsaadfs  name_dfsdfsa  \\\n",
       "0            0              0                      0             0   \n",
       "1            0              0                      0             0   \n",
       "2            0              0                      0             0   \n",
       "3            0              0                      0             0   \n",
       "4            0              0                      0             0   \n",
       "\n",
       "   name_dsafdfsadfsa  name_huhu  name_sddass  \n",
       "0                  0          0            0  \n",
       "1                  0          0            0  \n",
       "2                  0          1            0  \n",
       "3                  0          0            1  \n",
       "4                  0          0            0  \n",
       "\n",
       "[5 rows x 1828 columns]"
      ]
     },
     "execution_count": 42,
     "metadata": {},
     "output_type": "execute_result"
    }
   ],
   "source": [
    "df.head()"
   ]
  },
  {
   "cell_type": "code",
   "execution_count": 51,
   "id": "7cbf0e58-4b8d-432f-8ad2-acb30afc5fca",
   "metadata": {},
   "outputs": [],
   "source": [
    "from sklearn.preprocessing import OneHotEncoder"
   ]
  },
  {
   "cell_type": "code",
   "execution_count": 59,
   "id": "42a4534c-5b8f-4c11-8f23-efffcaa01350",
   "metadata": {},
   "outputs": [],
   "source": [
    "one_hot=OneHotEncoder(sparse_output=False, drop='first')"
   ]
  },
  {
   "cell_type": "code",
   "execution_count": 61,
   "id": "35581644-3b91-4f50-a204-50db47f6f9d8",
   "metadata": {},
   "outputs": [],
   "source": [
    "df_encoded=one_hot.fit_transform(df[yozuvli_ustun])"
   ]
  },
  {
   "cell_type": "code",
   "execution_count": 63,
   "id": "e216f3ed-84f4-4810-93bb-130acfd78116",
   "metadata": {},
   "outputs": [],
   "source": [
    "encoded_col=one_hot.get_feature_names_out(yozuvli_ustun)"
   ]
  },
  {
   "cell_type": "code",
   "execution_count": 80,
   "id": "5405c329-3df6-4a22-940a-c0a1e53028c7",
   "metadata": {},
   "outputs": [],
   "source": [
    "df_encoded=pd.DataFrame(df_encoded)\n",
    "df=pd.concat([df.drop(columns=yozuvli_ustun), df_encoded], axis=1)"
   ]
  },
  {
   "cell_type": "code",
   "execution_count": 82,
   "id": "ed63a39e-e6cd-47bf-bbdd-272d4b63fcec",
   "metadata": {},
   "outputs": [
    {
     "name": "stdout",
     "output_type": "stream",
     "text": [
      "<class 'pandas.core.frame.DataFrame'>\n",
      "RangeIndex: 1800 entries, 0 to 1799\n",
      "Columns: 1817 entries, 0 to 1816\n",
      "dtypes: float64(1817)\n",
      "memory usage: 25.0 MB\n"
     ]
    }
   ],
   "source": [
    "df_encoded.info()"
   ]
  },
  {
   "cell_type": "code",
   "execution_count": 84,
   "id": "8324eaf6-8ac2-4b5f-a205-55395a5c4bf5",
   "metadata": {},
   "outputs": [
    {
     "data": {
      "text/html": [
       "<div>\n",
       "<style scoped>\n",
       "    .dataframe tbody tr th:only-of-type {\n",
       "        vertical-align: middle;\n",
       "    }\n",
       "\n",
       "    .dataframe tbody tr th {\n",
       "        vertical-align: top;\n",
       "    }\n",
       "\n",
       "    .dataframe thead th {\n",
       "        text-align: right;\n",
       "    }\n",
       "</style>\n",
       "<table border=\"1\" class=\"dataframe\">\n",
       "  <thead>\n",
       "    <tr style=\"text-align: right;\">\n",
       "      <th></th>\n",
       "      <th>0</th>\n",
       "      <th>1</th>\n",
       "      <th>2</th>\n",
       "      <th>3</th>\n",
       "      <th>4</th>\n",
       "      <th>5</th>\n",
       "      <th>6</th>\n",
       "      <th>7</th>\n",
       "      <th>8</th>\n",
       "      <th>9</th>\n",
       "      <th>...</th>\n",
       "      <th>1807</th>\n",
       "      <th>1808</th>\n",
       "      <th>1809</th>\n",
       "      <th>1810</th>\n",
       "      <th>1811</th>\n",
       "      <th>1812</th>\n",
       "      <th>1813</th>\n",
       "      <th>1814</th>\n",
       "      <th>1815</th>\n",
       "      <th>1816</th>\n",
       "    </tr>\n",
       "  </thead>\n",
       "  <tbody>\n",
       "    <tr>\n",
       "      <th>0</th>\n",
       "      <td>0.0</td>\n",
       "      <td>0.0</td>\n",
       "      <td>0.0</td>\n",
       "      <td>0.0</td>\n",
       "      <td>0.0</td>\n",
       "      <td>0.0</td>\n",
       "      <td>0.0</td>\n",
       "      <td>0.0</td>\n",
       "      <td>0.0</td>\n",
       "      <td>0.0</td>\n",
       "      <td>...</td>\n",
       "      <td>0.0</td>\n",
       "      <td>0.0</td>\n",
       "      <td>0.0</td>\n",
       "      <td>0.0</td>\n",
       "      <td>0.0</td>\n",
       "      <td>0.0</td>\n",
       "      <td>0.0</td>\n",
       "      <td>0.0</td>\n",
       "      <td>0.0</td>\n",
       "      <td>0.0</td>\n",
       "    </tr>\n",
       "    <tr>\n",
       "      <th>1</th>\n",
       "      <td>0.0</td>\n",
       "      <td>0.0</td>\n",
       "      <td>0.0</td>\n",
       "      <td>0.0</td>\n",
       "      <td>0.0</td>\n",
       "      <td>0.0</td>\n",
       "      <td>0.0</td>\n",
       "      <td>0.0</td>\n",
       "      <td>0.0</td>\n",
       "      <td>0.0</td>\n",
       "      <td>...</td>\n",
       "      <td>0.0</td>\n",
       "      <td>1.0</td>\n",
       "      <td>0.0</td>\n",
       "      <td>0.0</td>\n",
       "      <td>0.0</td>\n",
       "      <td>0.0</td>\n",
       "      <td>0.0</td>\n",
       "      <td>0.0</td>\n",
       "      <td>0.0</td>\n",
       "      <td>0.0</td>\n",
       "    </tr>\n",
       "    <tr>\n",
       "      <th>2</th>\n",
       "      <td>0.0</td>\n",
       "      <td>0.0</td>\n",
       "      <td>0.0</td>\n",
       "      <td>0.0</td>\n",
       "      <td>0.0</td>\n",
       "      <td>0.0</td>\n",
       "      <td>0.0</td>\n",
       "      <td>0.0</td>\n",
       "      <td>0.0</td>\n",
       "      <td>0.0</td>\n",
       "      <td>...</td>\n",
       "      <td>0.0</td>\n",
       "      <td>0.0</td>\n",
       "      <td>0.0</td>\n",
       "      <td>0.0</td>\n",
       "      <td>0.0</td>\n",
       "      <td>0.0</td>\n",
       "      <td>0.0</td>\n",
       "      <td>0.0</td>\n",
       "      <td>1.0</td>\n",
       "      <td>0.0</td>\n",
       "    </tr>\n",
       "    <tr>\n",
       "      <th>3</th>\n",
       "      <td>0.0</td>\n",
       "      <td>0.0</td>\n",
       "      <td>0.0</td>\n",
       "      <td>0.0</td>\n",
       "      <td>0.0</td>\n",
       "      <td>0.0</td>\n",
       "      <td>0.0</td>\n",
       "      <td>0.0</td>\n",
       "      <td>0.0</td>\n",
       "      <td>0.0</td>\n",
       "      <td>...</td>\n",
       "      <td>0.0</td>\n",
       "      <td>0.0</td>\n",
       "      <td>0.0</td>\n",
       "      <td>0.0</td>\n",
       "      <td>0.0</td>\n",
       "      <td>0.0</td>\n",
       "      <td>0.0</td>\n",
       "      <td>0.0</td>\n",
       "      <td>0.0</td>\n",
       "      <td>1.0</td>\n",
       "    </tr>\n",
       "    <tr>\n",
       "      <th>4</th>\n",
       "      <td>0.0</td>\n",
       "      <td>0.0</td>\n",
       "      <td>0.0</td>\n",
       "      <td>0.0</td>\n",
       "      <td>0.0</td>\n",
       "      <td>0.0</td>\n",
       "      <td>0.0</td>\n",
       "      <td>0.0</td>\n",
       "      <td>0.0</td>\n",
       "      <td>0.0</td>\n",
       "      <td>...</td>\n",
       "      <td>0.0</td>\n",
       "      <td>0.0</td>\n",
       "      <td>1.0</td>\n",
       "      <td>0.0</td>\n",
       "      <td>0.0</td>\n",
       "      <td>0.0</td>\n",
       "      <td>0.0</td>\n",
       "      <td>0.0</td>\n",
       "      <td>0.0</td>\n",
       "      <td>0.0</td>\n",
       "    </tr>\n",
       "  </tbody>\n",
       "</table>\n",
       "<p>5 rows × 1817 columns</p>\n",
       "</div>"
      ],
      "text/plain": [
       "   0     1     2     3     4     5     6     7     8     9     ...  1807  \\\n",
       "0   0.0   0.0   0.0   0.0   0.0   0.0   0.0   0.0   0.0   0.0  ...   0.0   \n",
       "1   0.0   0.0   0.0   0.0   0.0   0.0   0.0   0.0   0.0   0.0  ...   0.0   \n",
       "2   0.0   0.0   0.0   0.0   0.0   0.0   0.0   0.0   0.0   0.0  ...   0.0   \n",
       "3   0.0   0.0   0.0   0.0   0.0   0.0   0.0   0.0   0.0   0.0  ...   0.0   \n",
       "4   0.0   0.0   0.0   0.0   0.0   0.0   0.0   0.0   0.0   0.0  ...   0.0   \n",
       "\n",
       "   1808  1809  1810  1811  1812  1813  1814  1815  1816  \n",
       "0   0.0   0.0   0.0   0.0   0.0   0.0   0.0   0.0   0.0  \n",
       "1   1.0   0.0   0.0   0.0   0.0   0.0   0.0   0.0   0.0  \n",
       "2   0.0   0.0   0.0   0.0   0.0   0.0   0.0   1.0   0.0  \n",
       "3   0.0   0.0   0.0   0.0   0.0   0.0   0.0   0.0   1.0  \n",
       "4   0.0   1.0   0.0   0.0   0.0   0.0   0.0   0.0   0.0  \n",
       "\n",
       "[5 rows x 1817 columns]"
      ]
     },
     "execution_count": 84,
     "metadata": {},
     "output_type": "execute_result"
    }
   ],
   "source": [
    "df_encoded.head()"
   ]
  },
  {
   "cell_type": "code",
   "execution_count": 67,
   "id": "9e3cca41-8b31-453c-b396-28717af3ef79",
   "metadata": {},
   "outputs": [
    {
     "data": {
      "text/plain": [
       "array([[0., 0., 0., ..., 0., 0., 0.],\n",
       "       [0., 0., 0., ..., 0., 0., 0.],\n",
       "       [0., 0., 0., ..., 0., 1., 0.],\n",
       "       ...,\n",
       "       [0., 0., 0., ..., 0., 0., 0.],\n",
       "       [0., 0., 0., ..., 0., 0., 0.],\n",
       "       [0., 0., 0., ..., 0., 0., 0.]])"
      ]
     },
     "execution_count": 67,
     "metadata": {},
     "output_type": "execute_result"
    }
   ],
   "source": [
    "df_encoded"
   ]
  },
  {
   "cell_type": "code",
   "execution_count": 69,
   "id": "f2b0628e-a8b3-4e6d-accf-28d548af92e5",
   "metadata": {},
   "outputs": [
    {
     "data": {
      "text/plain": [
       "array(['timestamp_16:30:14', 'timestamp_16:30:17', 'timestamp_16:30:20',\n",
       "       ..., 'name_dsafdfsadfsa', 'name_huhu', 'name_sddass'], dtype=object)"
      ]
     },
     "execution_count": 69,
     "metadata": {},
     "output_type": "execute_result"
    }
   ],
   "source": [
    "encoded_col"
   ]
  },
  {
   "cell_type": "markdown",
   "id": "d92cfc45-323e-4657-a2bc-1b63e829e656",
   "metadata": {},
   "source": [
    "# label encoding"
   ]
  },
  {
   "cell_type": "code",
   "execution_count": 74,
   "id": "fca33b9b-25c4-48a7-b293-b48b51c900a2",
   "metadata": {},
   "outputs": [],
   "source": [
    "from sklearn.preprocessing import LabelEncoder\n",
    "encoder=LabelEncoder()"
   ]
  },
  {
   "cell_type": "code",
   "execution_count": 76,
   "id": "e61ecc83-857c-438b-913a-fd25a65005a6",
   "metadata": {},
   "outputs": [],
   "source": [
    "df[yozuvli_ustun]=df[yozuvli_ustun].apply(encoder.fit_transform)"
   ]
  },
  {
   "cell_type": "code",
   "execution_count": 78,
   "id": "b7d9810c-d83b-4e4f-9f24-e4aee3c4ecec",
   "metadata": {},
   "outputs": [
    {
     "name": "stdout",
     "output_type": "stream",
     "text": [
      "<class 'pandas.core.frame.DataFrame'>\n",
      "RangeIndex: 1800 entries, 0 to 1799\n",
      "Data columns (total 14 columns):\n",
      " #   Column         Non-Null Count  Dtype  \n",
      "---  ------         --------------  -----  \n",
      " 0   timestamp      1800 non-null   int32  \n",
      " 1   mean           1800 non-null   float64\n",
      " 2   top_3_mean     1800 non-null   float64\n",
      " 3   min            1800 non-null   float64\n",
      " 4   max            1800 non-null   float64\n",
      " 5   std_dev        1800 non-null   float64\n",
      " 6   median         1800 non-null   float64\n",
      " 7   q1             1800 non-null   float64\n",
      " 8   q3             1800 non-null   float64\n",
      " 9   skewness       1800 non-null   float64\n",
      " 10  dominant_freq  1800 non-null   float64\n",
      " 11  energy         1800 non-null   float64\n",
      " 12  activity       1800 non-null   int32  \n",
      " 13  name           1800 non-null   int32  \n",
      "dtypes: float64(11), int32(3)\n",
      "memory usage: 175.9 KB\n"
     ]
    }
   ],
   "source": [
    "df.info()"
   ]
  },
  {
   "cell_type": "markdown",
   "id": "2c9143de-49a0-45c8-b807-f7c001fb3bbe",
   "metadata": {},
   "source": [
    "# frequency encoding"
   ]
  },
  {
   "cell_type": "code",
   "execution_count": 44,
   "id": "286a6689-3e3c-4269-9bbe-16e6f344f904",
   "metadata": {},
   "outputs": [
    {
     "name": "stdout",
     "output_type": "stream",
     "text": [
      "<class 'pandas.core.frame.DataFrame'>\n",
      "RangeIndex: 1800 entries, 0 to 1799\n",
      "Data columns (total 14 columns):\n",
      " #   Column         Non-Null Count  Dtype  \n",
      "---  ------         --------------  -----  \n",
      " 0   timestamp      1800 non-null   object \n",
      " 1   mean           1800 non-null   float64\n",
      " 2   top_3_mean     1800 non-null   float64\n",
      " 3   min            1800 non-null   float64\n",
      " 4   max            1800 non-null   float64\n",
      " 5   std_dev        1800 non-null   float64\n",
      " 6   median         1800 non-null   float64\n",
      " 7   q1             1800 non-null   float64\n",
      " 8   q3             1800 non-null   float64\n",
      " 9   skewness       1800 non-null   float64\n",
      " 10  dominant_freq  1800 non-null   float64\n",
      " 11  energy         1800 non-null   float64\n",
      " 12  activity       1800 non-null   object \n",
      " 13  name           1800 non-null   object \n",
      "dtypes: float64(11), object(3)\n",
      "memory usage: 197.0+ KB\n"
     ]
    }
   ],
   "source": [
    "df.info()"
   ]
  },
  {
   "cell_type": "code",
   "execution_count": 46,
   "id": "5aacdc9c-8c01-4d66-ad87-abcbfb515a0f",
   "metadata": {},
   "outputs": [
    {
     "data": {
      "text/html": [
       "<div>\n",
       "<style scoped>\n",
       "    .dataframe tbody tr th:only-of-type {\n",
       "        vertical-align: middle;\n",
       "    }\n",
       "\n",
       "    .dataframe tbody tr th {\n",
       "        vertical-align: top;\n",
       "    }\n",
       "\n",
       "    .dataframe thead th {\n",
       "        text-align: right;\n",
       "    }\n",
       "</style>\n",
       "<table border=\"1\" class=\"dataframe\">\n",
       "  <thead>\n",
       "    <tr style=\"text-align: right;\">\n",
       "      <th></th>\n",
       "      <th>timestamp</th>\n",
       "      <th>mean</th>\n",
       "      <th>top_3_mean</th>\n",
       "      <th>min</th>\n",
       "      <th>max</th>\n",
       "      <th>std_dev</th>\n",
       "      <th>median</th>\n",
       "      <th>q1</th>\n",
       "      <th>q3</th>\n",
       "      <th>skewness</th>\n",
       "      <th>dominant_freq</th>\n",
       "      <th>energy</th>\n",
       "      <th>activity</th>\n",
       "      <th>name</th>\n",
       "    </tr>\n",
       "  </thead>\n",
       "  <tbody>\n",
       "    <tr>\n",
       "      <th>0</th>\n",
       "      <td>1:51:43</td>\n",
       "      <td>2046.726000</td>\n",
       "      <td>2057.666667</td>\n",
       "      <td>2035.0</td>\n",
       "      <td>2060.0</td>\n",
       "      <td>3.452186</td>\n",
       "      <td>2047.0</td>\n",
       "      <td>2043.000000</td>\n",
       "      <td>2049.0</td>\n",
       "      <td>-0.152574</td>\n",
       "      <td>601.0</td>\n",
       "      <td>1.988682e+09</td>\n",
       "      <td>walking</td>\n",
       "      <td>Yusuf</td>\n",
       "    </tr>\n",
       "    <tr>\n",
       "      <th>1</th>\n",
       "      <td>1:51:46</td>\n",
       "      <td>2046.619333</td>\n",
       "      <td>2053.000000</td>\n",
       "      <td>2040.0</td>\n",
       "      <td>2053.0</td>\n",
       "      <td>3.580469</td>\n",
       "      <td>2047.0</td>\n",
       "      <td>2044.000000</td>\n",
       "      <td>2050.0</td>\n",
       "      <td>-0.150615</td>\n",
       "      <td>300.0</td>\n",
       "      <td>1.988028e+09</td>\n",
       "      <td>walking</td>\n",
       "      <td>baba</td>\n",
       "    </tr>\n",
       "    <tr>\n",
       "      <th>2</th>\n",
       "      <td>1:51:50</td>\n",
       "      <td>2046.598000</td>\n",
       "      <td>2056.000000</td>\n",
       "      <td>2030.0</td>\n",
       "      <td>2059.0</td>\n",
       "      <td>3.592826</td>\n",
       "      <td>2047.0</td>\n",
       "      <td>2044.000000</td>\n",
       "      <td>2049.0</td>\n",
       "      <td>-0.370125</td>\n",
       "      <td>300.0</td>\n",
       "      <td>1.987897e+09</td>\n",
       "      <td>walking</td>\n",
       "      <td>huhu</td>\n",
       "    </tr>\n",
       "    <tr>\n",
       "      <th>3</th>\n",
       "      <td>1:51:53</td>\n",
       "      <td>2046.560000</td>\n",
       "      <td>2054.000000</td>\n",
       "      <td>2039.0</td>\n",
       "      <td>2055.0</td>\n",
       "      <td>3.414830</td>\n",
       "      <td>2047.0</td>\n",
       "      <td>2044.000000</td>\n",
       "      <td>2049.0</td>\n",
       "      <td>-0.321296</td>\n",
       "      <td>300.0</td>\n",
       "      <td>1.987662e+09</td>\n",
       "      <td>walking</td>\n",
       "      <td>sddass</td>\n",
       "    </tr>\n",
       "    <tr>\n",
       "      <th>4</th>\n",
       "      <td>1:51:56</td>\n",
       "      <td>2046.656667</td>\n",
       "      <td>2055.000000</td>\n",
       "      <td>2034.0</td>\n",
       "      <td>2057.0</td>\n",
       "      <td>3.356802</td>\n",
       "      <td>2048.0</td>\n",
       "      <td>2037.610084</td>\n",
       "      <td>2049.0</td>\n",
       "      <td>-0.379134</td>\n",
       "      <td>300.0</td>\n",
       "      <td>1.988255e+09</td>\n",
       "      <td>walking</td>\n",
       "      <td>dfasadfs</td>\n",
       "    </tr>\n",
       "  </tbody>\n",
       "</table>\n",
       "</div>"
      ],
      "text/plain": [
       "  timestamp         mean   top_3_mean     min     max   std_dev  median  \\\n",
       "0   1:51:43  2046.726000  2057.666667  2035.0  2060.0  3.452186  2047.0   \n",
       "1   1:51:46  2046.619333  2053.000000  2040.0  2053.0  3.580469  2047.0   \n",
       "2   1:51:50  2046.598000  2056.000000  2030.0  2059.0  3.592826  2047.0   \n",
       "3   1:51:53  2046.560000  2054.000000  2039.0  2055.0  3.414830  2047.0   \n",
       "4   1:51:56  2046.656667  2055.000000  2034.0  2057.0  3.356802  2048.0   \n",
       "\n",
       "            q1      q3  skewness  dominant_freq        energy activity  \\\n",
       "0  2043.000000  2049.0 -0.152574          601.0  1.988682e+09  walking   \n",
       "1  2044.000000  2050.0 -0.150615          300.0  1.988028e+09  walking   \n",
       "2  2044.000000  2049.0 -0.370125          300.0  1.987897e+09  walking   \n",
       "3  2044.000000  2049.0 -0.321296          300.0  1.987662e+09  walking   \n",
       "4  2037.610084  2049.0 -0.379134          300.0  1.988255e+09  walking   \n",
       "\n",
       "       name  \n",
       "0     Yusuf  \n",
       "1     baba   \n",
       "2      huhu  \n",
       "3    sddass  \n",
       "4  dfasadfs  "
      ]
     },
     "execution_count": 46,
     "metadata": {},
     "output_type": "execute_result"
    }
   ],
   "source": [
    "df.head()"
   ]
  },
  {
   "cell_type": "code",
   "execution_count": 48,
   "id": "e8640598-666e-47d8-88a1-abcb95955317",
   "metadata": {},
   "outputs": [],
   "source": [
    "df[yozuvli_ustun]=df[yozuvli_ustun].apply(lambda col: col.map(col.value_counts()))"
   ]
  },
  {
   "cell_type": "code",
   "execution_count": 50,
   "id": "9fb56101-16b6-430a-8277-da6c44789bb0",
   "metadata": {
    "scrolled": true
   },
   "outputs": [
    {
     "name": "stdout",
     "output_type": "stream",
     "text": [
      "<class 'pandas.core.frame.DataFrame'>\n",
      "RangeIndex: 1800 entries, 0 to 1799\n",
      "Data columns (total 14 columns):\n",
      " #   Column         Non-Null Count  Dtype  \n",
      "---  ------         --------------  -----  \n",
      " 0   timestamp      1800 non-null   int64  \n",
      " 1   mean           1800 non-null   float64\n",
      " 2   top_3_mean     1800 non-null   float64\n",
      " 3   min            1800 non-null   float64\n",
      " 4   max            1800 non-null   float64\n",
      " 5   std_dev        1800 non-null   float64\n",
      " 6   median         1800 non-null   float64\n",
      " 7   q1             1800 non-null   float64\n",
      " 8   q3             1800 non-null   float64\n",
      " 9   skewness       1800 non-null   float64\n",
      " 10  dominant_freq  1800 non-null   float64\n",
      " 11  energy         1800 non-null   float64\n",
      " 12  activity       1800 non-null   int64  \n",
      " 13  name           1800 non-null   int64  \n",
      "dtypes: float64(11), int64(3)\n",
      "memory usage: 197.0 KB\n"
     ]
    }
   ],
   "source": [
    "df.info()"
   ]
  },
  {
   "cell_type": "code",
   "execution_count": 52,
   "id": "d5190726-86c3-4ee5-9170-158521d52cbd",
   "metadata": {},
   "outputs": [
    {
     "data": {
      "text/html": [
       "<div>\n",
       "<style scoped>\n",
       "    .dataframe tbody tr th:only-of-type {\n",
       "        vertical-align: middle;\n",
       "    }\n",
       "\n",
       "    .dataframe tbody tr th {\n",
       "        vertical-align: top;\n",
       "    }\n",
       "\n",
       "    .dataframe thead th {\n",
       "        text-align: right;\n",
       "    }\n",
       "</style>\n",
       "<table border=\"1\" class=\"dataframe\">\n",
       "  <thead>\n",
       "    <tr style=\"text-align: right;\">\n",
       "      <th></th>\n",
       "      <th>timestamp</th>\n",
       "      <th>mean</th>\n",
       "      <th>top_3_mean</th>\n",
       "      <th>min</th>\n",
       "      <th>max</th>\n",
       "      <th>std_dev</th>\n",
       "      <th>median</th>\n",
       "      <th>q1</th>\n",
       "      <th>q3</th>\n",
       "      <th>skewness</th>\n",
       "      <th>dominant_freq</th>\n",
       "      <th>energy</th>\n",
       "      <th>activity</th>\n",
       "      <th>name</th>\n",
       "    </tr>\n",
       "  </thead>\n",
       "  <tbody>\n",
       "    <tr>\n",
       "      <th>0</th>\n",
       "      <td>1</td>\n",
       "      <td>2046.726000</td>\n",
       "      <td>2057.666667</td>\n",
       "      <td>2035.0</td>\n",
       "      <td>2060.0</td>\n",
       "      <td>3.452186</td>\n",
       "      <td>2047.0</td>\n",
       "      <td>2043.000000</td>\n",
       "      <td>2049.0</td>\n",
       "      <td>-0.152574</td>\n",
       "      <td>601.0</td>\n",
       "      <td>1.988682e+09</td>\n",
       "      <td>569</td>\n",
       "      <td>337</td>\n",
       "    </tr>\n",
       "    <tr>\n",
       "      <th>1</th>\n",
       "      <td>1</td>\n",
       "      <td>2046.619333</td>\n",
       "      <td>2053.000000</td>\n",
       "      <td>2040.0</td>\n",
       "      <td>2053.0</td>\n",
       "      <td>3.580469</td>\n",
       "      <td>2047.0</td>\n",
       "      <td>2044.000000</td>\n",
       "      <td>2050.0</td>\n",
       "      <td>-0.150615</td>\n",
       "      <td>300.0</td>\n",
       "      <td>1.988028e+09</td>\n",
       "      <td>569</td>\n",
       "      <td>1</td>\n",
       "    </tr>\n",
       "    <tr>\n",
       "      <th>2</th>\n",
       "      <td>1</td>\n",
       "      <td>2046.598000</td>\n",
       "      <td>2056.000000</td>\n",
       "      <td>2030.0</td>\n",
       "      <td>2059.0</td>\n",
       "      <td>3.592826</td>\n",
       "      <td>2047.0</td>\n",
       "      <td>2044.000000</td>\n",
       "      <td>2049.0</td>\n",
       "      <td>-0.370125</td>\n",
       "      <td>300.0</td>\n",
       "      <td>1.987897e+09</td>\n",
       "      <td>569</td>\n",
       "      <td>1</td>\n",
       "    </tr>\n",
       "    <tr>\n",
       "      <th>3</th>\n",
       "      <td>1</td>\n",
       "      <td>2046.560000</td>\n",
       "      <td>2054.000000</td>\n",
       "      <td>2039.0</td>\n",
       "      <td>2055.0</td>\n",
       "      <td>3.414830</td>\n",
       "      <td>2047.0</td>\n",
       "      <td>2044.000000</td>\n",
       "      <td>2049.0</td>\n",
       "      <td>-0.321296</td>\n",
       "      <td>300.0</td>\n",
       "      <td>1.987662e+09</td>\n",
       "      <td>569</td>\n",
       "      <td>1</td>\n",
       "    </tr>\n",
       "    <tr>\n",
       "      <th>4</th>\n",
       "      <td>1</td>\n",
       "      <td>2046.656667</td>\n",
       "      <td>2055.000000</td>\n",
       "      <td>2034.0</td>\n",
       "      <td>2057.0</td>\n",
       "      <td>3.356802</td>\n",
       "      <td>2048.0</td>\n",
       "      <td>2037.610084</td>\n",
       "      <td>2049.0</td>\n",
       "      <td>-0.379134</td>\n",
       "      <td>300.0</td>\n",
       "      <td>1.988255e+09</td>\n",
       "      <td>569</td>\n",
       "      <td>1</td>\n",
       "    </tr>\n",
       "  </tbody>\n",
       "</table>\n",
       "</div>"
      ],
      "text/plain": [
       "   timestamp         mean   top_3_mean     min     max   std_dev  median  \\\n",
       "0          1  2046.726000  2057.666667  2035.0  2060.0  3.452186  2047.0   \n",
       "1          1  2046.619333  2053.000000  2040.0  2053.0  3.580469  2047.0   \n",
       "2          1  2046.598000  2056.000000  2030.0  2059.0  3.592826  2047.0   \n",
       "3          1  2046.560000  2054.000000  2039.0  2055.0  3.414830  2047.0   \n",
       "4          1  2046.656667  2055.000000  2034.0  2057.0  3.356802  2048.0   \n",
       "\n",
       "            q1      q3  skewness  dominant_freq        energy  activity  name  \n",
       "0  2043.000000  2049.0 -0.152574          601.0  1.988682e+09       569   337  \n",
       "1  2044.000000  2050.0 -0.150615          300.0  1.988028e+09       569     1  \n",
       "2  2044.000000  2049.0 -0.370125          300.0  1.987897e+09       569     1  \n",
       "3  2044.000000  2049.0 -0.321296          300.0  1.987662e+09       569     1  \n",
       "4  2037.610084  2049.0 -0.379134          300.0  1.988255e+09       569     1  "
      ]
     },
     "execution_count": 52,
     "metadata": {},
     "output_type": "execute_result"
    }
   ],
   "source": [
    "df.head()"
   ]
  },
  {
   "cell_type": "markdown",
   "id": "546e2023-8ef8-428a-bbe5-f11f9a4b5ae1",
   "metadata": {},
   "source": [
    "# Target Encoding"
   ]
  },
  {
   "cell_type": "code",
   "execution_count": 48,
   "id": "efc6bebb-3db4-4c6b-8f4c-0885a7e7b0cd",
   "metadata": {},
   "outputs": [
    {
     "name": "stdout",
     "output_type": "stream",
     "text": [
      "<class 'pandas.core.frame.DataFrame'>\n",
      "RangeIndex: 1800 entries, 0 to 1799\n",
      "Data columns (total 14 columns):\n",
      " #   Column         Non-Null Count  Dtype  \n",
      "---  ------         --------------  -----  \n",
      " 0   timestamp      1800 non-null   object \n",
      " 1   mean           1800 non-null   float64\n",
      " 2   top_3_mean     1800 non-null   float64\n",
      " 3   min            1800 non-null   float64\n",
      " 4   max            1800 non-null   float64\n",
      " 5   std_dev        1800 non-null   float64\n",
      " 6   median         1800 non-null   float64\n",
      " 7   q1             1800 non-null   float64\n",
      " 8   q3             1800 non-null   float64\n",
      " 9   skewness       1800 non-null   float64\n",
      " 10  dominant_freq  1800 non-null   float64\n",
      " 11  energy         1800 non-null   float64\n",
      " 12  activity       1800 non-null   object \n",
      " 13  name           1800 non-null   object \n",
      "dtypes: float64(11), object(3)\n",
      "memory usage: 197.0+ KB\n"
     ]
    }
   ],
   "source": [
    "df.info()"
   ]
  },
  {
   "cell_type": "code",
   "execution_count": 50,
   "id": "455b5277-93a8-4501-9527-cf384e5ed928",
   "metadata": {},
   "outputs": [
    {
     "data": {
      "text/plain": [
       "Index(['mean', 'top_3_mean', 'min', 'max', 'std_dev', 'median', 'q1', 'q3',\n",
       "       'skewness', 'dominant_freq', 'energy'],\n",
       "      dtype='object')"
      ]
     },
     "execution_count": 50,
     "metadata": {},
     "output_type": "execute_result"
    }
   ],
   "source": [
    "raqamli_ustun"
   ]
  },
  {
   "cell_type": "code",
   "execution_count": 52,
   "id": "a5979920-524c-4fd8-87ba-fa6cbeb31937",
   "metadata": {},
   "outputs": [
    {
     "data": {
      "text/plain": [
       "Index(['timestamp', 'activity', 'name'], dtype='object')"
      ]
     },
     "execution_count": 52,
     "metadata": {},
     "output_type": "execute_result"
    }
   ],
   "source": [
    "yozuvli_ustun"
   ]
  },
  {
   "cell_type": "code",
   "execution_count": 54,
   "id": "cf3b33f3-f0ce-4244-90c2-5206c3374423",
   "metadata": {},
   "outputs": [
    {
     "data": {
      "text/plain": [
       "activity\n",
       "running    631\n",
       "waiting    600\n",
       "walking    569\n",
       "Name: count, dtype: int64"
      ]
     },
     "execution_count": 54,
     "metadata": {},
     "output_type": "execute_result"
    }
   ],
   "source": [
    "df['activity'].value_counts()"
   ]
  },
  {
   "cell_type": "markdown",
   "id": "75de839f-2d58-44f7-9d3e-173d6e9efc9a",
   "metadata": {},
   "source": [
    "# Mapping"
   ]
  },
  {
   "cell_type": "code",
   "execution_count": 61,
   "id": "7bf5aa17-8fee-442d-aea5-48801b4b5ed6",
   "metadata": {},
   "outputs": [],
   "source": [
    "df['activity']=df['activity'].map({'running':1, 'waiting':2, 'walking':3})"
   ]
  },
  {
   "cell_type": "code",
   "execution_count": 63,
   "id": "3add8739-c49c-4cc7-ae33-638f478d8e34",
   "metadata": {},
   "outputs": [
    {
     "name": "stdout",
     "output_type": "stream",
     "text": [
      "<class 'pandas.core.frame.DataFrame'>\n",
      "RangeIndex: 1800 entries, 0 to 1799\n",
      "Data columns (total 14 columns):\n",
      " #   Column         Non-Null Count  Dtype  \n",
      "---  ------         --------------  -----  \n",
      " 0   timestamp      1800 non-null   object \n",
      " 1   mean           1800 non-null   float64\n",
      " 2   top_3_mean     1800 non-null   float64\n",
      " 3   min            1800 non-null   float64\n",
      " 4   max            1800 non-null   float64\n",
      " 5   std_dev        1800 non-null   float64\n",
      " 6   median         1800 non-null   float64\n",
      " 7   q1             1800 non-null   float64\n",
      " 8   q3             1800 non-null   float64\n",
      " 9   skewness       1800 non-null   float64\n",
      " 10  dominant_freq  1800 non-null   float64\n",
      " 11  energy         1800 non-null   float64\n",
      " 12  activity       1800 non-null   int64  \n",
      " 13  name           1800 non-null   object \n",
      "dtypes: float64(11), int64(1), object(2)\n",
      "memory usage: 197.0+ KB\n"
     ]
    }
   ],
   "source": [
    "df.info()"
   ]
  },
  {
   "cell_type": "code",
   "execution_count": 65,
   "id": "53a27f8a-b631-46cb-bb1c-3d3b8cd959dc",
   "metadata": {},
   "outputs": [
    {
     "data": {
      "text/html": [
       "<div>\n",
       "<style scoped>\n",
       "    .dataframe tbody tr th:only-of-type {\n",
       "        vertical-align: middle;\n",
       "    }\n",
       "\n",
       "    .dataframe tbody tr th {\n",
       "        vertical-align: top;\n",
       "    }\n",
       "\n",
       "    .dataframe thead th {\n",
       "        text-align: right;\n",
       "    }\n",
       "</style>\n",
       "<table border=\"1\" class=\"dataframe\">\n",
       "  <thead>\n",
       "    <tr style=\"text-align: right;\">\n",
       "      <th></th>\n",
       "      <th>timestamp</th>\n",
       "      <th>mean</th>\n",
       "      <th>top_3_mean</th>\n",
       "      <th>min</th>\n",
       "      <th>max</th>\n",
       "      <th>std_dev</th>\n",
       "      <th>median</th>\n",
       "      <th>q1</th>\n",
       "      <th>q3</th>\n",
       "      <th>skewness</th>\n",
       "      <th>dominant_freq</th>\n",
       "      <th>energy</th>\n",
       "      <th>activity</th>\n",
       "      <th>name</th>\n",
       "    </tr>\n",
       "  </thead>\n",
       "  <tbody>\n",
       "    <tr>\n",
       "      <th>0</th>\n",
       "      <td>1:51:43</td>\n",
       "      <td>2046.726000</td>\n",
       "      <td>2057.666667</td>\n",
       "      <td>2035.0</td>\n",
       "      <td>2060.0</td>\n",
       "      <td>3.452186</td>\n",
       "      <td>2047.0</td>\n",
       "      <td>2043.000000</td>\n",
       "      <td>2049.0</td>\n",
       "      <td>-0.152574</td>\n",
       "      <td>601.0</td>\n",
       "      <td>1.988682e+09</td>\n",
       "      <td>3</td>\n",
       "      <td>Yusuf</td>\n",
       "    </tr>\n",
       "    <tr>\n",
       "      <th>1</th>\n",
       "      <td>1:51:46</td>\n",
       "      <td>2046.619333</td>\n",
       "      <td>2053.000000</td>\n",
       "      <td>2040.0</td>\n",
       "      <td>2053.0</td>\n",
       "      <td>3.580469</td>\n",
       "      <td>2047.0</td>\n",
       "      <td>2044.000000</td>\n",
       "      <td>2050.0</td>\n",
       "      <td>-0.150615</td>\n",
       "      <td>300.0</td>\n",
       "      <td>1.988028e+09</td>\n",
       "      <td>3</td>\n",
       "      <td>baba</td>\n",
       "    </tr>\n",
       "    <tr>\n",
       "      <th>2</th>\n",
       "      <td>1:51:50</td>\n",
       "      <td>2046.598000</td>\n",
       "      <td>2056.000000</td>\n",
       "      <td>2030.0</td>\n",
       "      <td>2059.0</td>\n",
       "      <td>3.592826</td>\n",
       "      <td>2047.0</td>\n",
       "      <td>2044.000000</td>\n",
       "      <td>2049.0</td>\n",
       "      <td>-0.370125</td>\n",
       "      <td>300.0</td>\n",
       "      <td>1.987897e+09</td>\n",
       "      <td>3</td>\n",
       "      <td>huhu</td>\n",
       "    </tr>\n",
       "    <tr>\n",
       "      <th>3</th>\n",
       "      <td>1:51:53</td>\n",
       "      <td>2046.560000</td>\n",
       "      <td>2054.000000</td>\n",
       "      <td>2039.0</td>\n",
       "      <td>2055.0</td>\n",
       "      <td>3.414830</td>\n",
       "      <td>2047.0</td>\n",
       "      <td>2044.000000</td>\n",
       "      <td>2049.0</td>\n",
       "      <td>-0.321296</td>\n",
       "      <td>300.0</td>\n",
       "      <td>1.987662e+09</td>\n",
       "      <td>3</td>\n",
       "      <td>sddass</td>\n",
       "    </tr>\n",
       "    <tr>\n",
       "      <th>4</th>\n",
       "      <td>1:51:56</td>\n",
       "      <td>2046.656667</td>\n",
       "      <td>2055.000000</td>\n",
       "      <td>2034.0</td>\n",
       "      <td>2057.0</td>\n",
       "      <td>3.356802</td>\n",
       "      <td>2048.0</td>\n",
       "      <td>2037.610084</td>\n",
       "      <td>2049.0</td>\n",
       "      <td>-0.379134</td>\n",
       "      <td>300.0</td>\n",
       "      <td>1.988255e+09</td>\n",
       "      <td>3</td>\n",
       "      <td>dfasadfs</td>\n",
       "    </tr>\n",
       "  </tbody>\n",
       "</table>\n",
       "</div>"
      ],
      "text/plain": [
       "  timestamp         mean   top_3_mean     min     max   std_dev  median  \\\n",
       "0   1:51:43  2046.726000  2057.666667  2035.0  2060.0  3.452186  2047.0   \n",
       "1   1:51:46  2046.619333  2053.000000  2040.0  2053.0  3.580469  2047.0   \n",
       "2   1:51:50  2046.598000  2056.000000  2030.0  2059.0  3.592826  2047.0   \n",
       "3   1:51:53  2046.560000  2054.000000  2039.0  2055.0  3.414830  2047.0   \n",
       "4   1:51:56  2046.656667  2055.000000  2034.0  2057.0  3.356802  2048.0   \n",
       "\n",
       "            q1      q3  skewness  dominant_freq        energy  activity  \\\n",
       "0  2043.000000  2049.0 -0.152574          601.0  1.988682e+09         3   \n",
       "1  2044.000000  2050.0 -0.150615          300.0  1.988028e+09         3   \n",
       "2  2044.000000  2049.0 -0.370125          300.0  1.987897e+09         3   \n",
       "3  2044.000000  2049.0 -0.321296          300.0  1.987662e+09         3   \n",
       "4  2037.610084  2049.0 -0.379134          300.0  1.988255e+09         3   \n",
       "\n",
       "       name  \n",
       "0     Yusuf  \n",
       "1     baba   \n",
       "2      huhu  \n",
       "3    sddass  \n",
       "4  dfasadfs  "
      ]
     },
     "execution_count": 65,
     "metadata": {},
     "output_type": "execute_result"
    }
   ],
   "source": [
    "df.head()"
   ]
  },
  {
   "cell_type": "code",
   "execution_count": 67,
   "id": "b1bb42bf-015e-401c-9c74-34f2deecbcfa",
   "metadata": {},
   "outputs": [],
   "source": [
    "df[yozuvli_ustun]=df[yozuvli_ustun].apply(lambda col: col.map(df.groupby(col)['activity'].mean()))"
   ]
  },
  {
   "cell_type": "code",
   "execution_count": 69,
   "id": "67a2aed2-36b8-405d-a026-78ce0c2e654c",
   "metadata": {},
   "outputs": [
    {
     "name": "stdout",
     "output_type": "stream",
     "text": [
      "<class 'pandas.core.frame.DataFrame'>\n",
      "RangeIndex: 1800 entries, 0 to 1799\n",
      "Data columns (total 14 columns):\n",
      " #   Column         Non-Null Count  Dtype  \n",
      "---  ------         --------------  -----  \n",
      " 0   timestamp      1800 non-null   float64\n",
      " 1   mean           1800 non-null   float64\n",
      " 2   top_3_mean     1800 non-null   float64\n",
      " 3   min            1800 non-null   float64\n",
      " 4   max            1800 non-null   float64\n",
      " 5   std_dev        1800 non-null   float64\n",
      " 6   median         1800 non-null   float64\n",
      " 7   q1             1800 non-null   float64\n",
      " 8   q3             1800 non-null   float64\n",
      " 9   skewness       1800 non-null   float64\n",
      " 10  dominant_freq  1800 non-null   float64\n",
      " 11  energy         1800 non-null   float64\n",
      " 12  activity       1800 non-null   float64\n",
      " 13  name           1800 non-null   float64\n",
      "dtypes: float64(14)\n",
      "memory usage: 197.0 KB\n"
     ]
    }
   ],
   "source": [
    "df.info()"
   ]
  },
  {
   "cell_type": "code",
   "execution_count": 71,
   "id": "1bab8dd1-dfa0-4d86-9041-9273827f534b",
   "metadata": {},
   "outputs": [
    {
     "data": {
      "text/html": [
       "<div>\n",
       "<style scoped>\n",
       "    .dataframe tbody tr th:only-of-type {\n",
       "        vertical-align: middle;\n",
       "    }\n",
       "\n",
       "    .dataframe tbody tr th {\n",
       "        vertical-align: top;\n",
       "    }\n",
       "\n",
       "    .dataframe thead th {\n",
       "        text-align: right;\n",
       "    }\n",
       "</style>\n",
       "<table border=\"1\" class=\"dataframe\">\n",
       "  <thead>\n",
       "    <tr style=\"text-align: right;\">\n",
       "      <th></th>\n",
       "      <th>timestamp</th>\n",
       "      <th>mean</th>\n",
       "      <th>top_3_mean</th>\n",
       "      <th>min</th>\n",
       "      <th>max</th>\n",
       "      <th>std_dev</th>\n",
       "      <th>median</th>\n",
       "      <th>q1</th>\n",
       "      <th>q3</th>\n",
       "      <th>skewness</th>\n",
       "      <th>dominant_freq</th>\n",
       "      <th>energy</th>\n",
       "      <th>activity</th>\n",
       "      <th>name</th>\n",
       "    </tr>\n",
       "  </thead>\n",
       "  <tbody>\n",
       "    <tr>\n",
       "      <th>0</th>\n",
       "      <td>3.0</td>\n",
       "      <td>2046.726000</td>\n",
       "      <td>2057.666667</td>\n",
       "      <td>2035.0</td>\n",
       "      <td>2060.0</td>\n",
       "      <td>3.452186</td>\n",
       "      <td>2047.0</td>\n",
       "      <td>2043.000000</td>\n",
       "      <td>2049.0</td>\n",
       "      <td>-0.152574</td>\n",
       "      <td>601.0</td>\n",
       "      <td>1.988682e+09</td>\n",
       "      <td>3.0</td>\n",
       "      <td>1.84273</td>\n",
       "    </tr>\n",
       "    <tr>\n",
       "      <th>1</th>\n",
       "      <td>3.0</td>\n",
       "      <td>2046.619333</td>\n",
       "      <td>2053.000000</td>\n",
       "      <td>2040.0</td>\n",
       "      <td>2053.0</td>\n",
       "      <td>3.580469</td>\n",
       "      <td>2047.0</td>\n",
       "      <td>2044.000000</td>\n",
       "      <td>2050.0</td>\n",
       "      <td>-0.150615</td>\n",
       "      <td>300.0</td>\n",
       "      <td>1.988028e+09</td>\n",
       "      <td>3.0</td>\n",
       "      <td>3.00000</td>\n",
       "    </tr>\n",
       "    <tr>\n",
       "      <th>2</th>\n",
       "      <td>3.0</td>\n",
       "      <td>2046.598000</td>\n",
       "      <td>2056.000000</td>\n",
       "      <td>2030.0</td>\n",
       "      <td>2059.0</td>\n",
       "      <td>3.592826</td>\n",
       "      <td>2047.0</td>\n",
       "      <td>2044.000000</td>\n",
       "      <td>2049.0</td>\n",
       "      <td>-0.370125</td>\n",
       "      <td>300.0</td>\n",
       "      <td>1.987897e+09</td>\n",
       "      <td>3.0</td>\n",
       "      <td>3.00000</td>\n",
       "    </tr>\n",
       "    <tr>\n",
       "      <th>3</th>\n",
       "      <td>3.0</td>\n",
       "      <td>2046.560000</td>\n",
       "      <td>2054.000000</td>\n",
       "      <td>2039.0</td>\n",
       "      <td>2055.0</td>\n",
       "      <td>3.414830</td>\n",
       "      <td>2047.0</td>\n",
       "      <td>2044.000000</td>\n",
       "      <td>2049.0</td>\n",
       "      <td>-0.321296</td>\n",
       "      <td>300.0</td>\n",
       "      <td>1.987662e+09</td>\n",
       "      <td>3.0</td>\n",
       "      <td>3.00000</td>\n",
       "    </tr>\n",
       "    <tr>\n",
       "      <th>4</th>\n",
       "      <td>3.0</td>\n",
       "      <td>2046.656667</td>\n",
       "      <td>2055.000000</td>\n",
       "      <td>2034.0</td>\n",
       "      <td>2057.0</td>\n",
       "      <td>3.356802</td>\n",
       "      <td>2048.0</td>\n",
       "      <td>2037.610084</td>\n",
       "      <td>2049.0</td>\n",
       "      <td>-0.379134</td>\n",
       "      <td>300.0</td>\n",
       "      <td>1.988255e+09</td>\n",
       "      <td>3.0</td>\n",
       "      <td>3.00000</td>\n",
       "    </tr>\n",
       "  </tbody>\n",
       "</table>\n",
       "</div>"
      ],
      "text/plain": [
       "   timestamp         mean   top_3_mean     min     max   std_dev  median  \\\n",
       "0        3.0  2046.726000  2057.666667  2035.0  2060.0  3.452186  2047.0   \n",
       "1        3.0  2046.619333  2053.000000  2040.0  2053.0  3.580469  2047.0   \n",
       "2        3.0  2046.598000  2056.000000  2030.0  2059.0  3.592826  2047.0   \n",
       "3        3.0  2046.560000  2054.000000  2039.0  2055.0  3.414830  2047.0   \n",
       "4        3.0  2046.656667  2055.000000  2034.0  2057.0  3.356802  2048.0   \n",
       "\n",
       "            q1      q3  skewness  dominant_freq        energy  activity  \\\n",
       "0  2043.000000  2049.0 -0.152574          601.0  1.988682e+09       3.0   \n",
       "1  2044.000000  2050.0 -0.150615          300.0  1.988028e+09       3.0   \n",
       "2  2044.000000  2049.0 -0.370125          300.0  1.987897e+09       3.0   \n",
       "3  2044.000000  2049.0 -0.321296          300.0  1.987662e+09       3.0   \n",
       "4  2037.610084  2049.0 -0.379134          300.0  1.988255e+09       3.0   \n",
       "\n",
       "      name  \n",
       "0  1.84273  \n",
       "1  3.00000  \n",
       "2  3.00000  \n",
       "3  3.00000  \n",
       "4  3.00000  "
      ]
     },
     "execution_count": 71,
     "metadata": {},
     "output_type": "execute_result"
    }
   ],
   "source": [
    "df.head()"
   ]
  },
  {
   "cell_type": "code",
   "execution_count": null,
   "id": "ec60abfa-25ce-4592-bfd8-c0eb3b874ab1",
   "metadata": {},
   "outputs": [],
   "source": []
  }
 ],
 "metadata": {
  "kernelspec": {
   "display_name": "Python [conda env:base] *",
   "language": "python",
   "name": "conda-base-py"
  },
  "language_info": {
   "codemirror_mode": {
    "name": "ipython",
    "version": 3
   },
   "file_extension": ".py",
   "mimetype": "text/x-python",
   "name": "python",
   "nbconvert_exporter": "python",
   "pygments_lexer": "ipython3",
   "version": "3.12.7"
  }
 },
 "nbformat": 4,
 "nbformat_minor": 5
}
