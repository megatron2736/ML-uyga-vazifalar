{
 "cells": [
  {
   "cell_type": "markdown",
   "metadata": {},
   "source": [
    "#Yuqoridagi 4 ta amal turlariga o’zingiz (a va b qiymatni o’zgartirgan xolda) misol tuzing (xar biriga\n",
    "2 tadan) va yeching"
   ]
  },
  {
   "cell_type": "code",
   "execution_count": 9,
   "metadata": {},
   "outputs": [
    {
     "name": "stdout",
     "output_type": "stream",
     "text": [
      "ikki sonning yigindisi:  12\n"
     ]
    }
   ],
   "source": [
    "a=int(input('birinchi sonni kiriting: '))\n",
    "b=int(input('ikkinchi sonnig kiriting: '))\n",
    "print('ikki sonning yigindisi: ', a+b)"
   ]
  },
  {
   "cell_type": "code",
   "execution_count": 10,
   "metadata": {},
   "outputs": [
    {
     "name": "stdout",
     "output_type": "stream",
     "text": [
      "ikki sonning yigindisi:  10\n"
     ]
    }
   ],
   "source": [
    "a=int(input('birinchi sonni kiriting: '))\n",
    "b=int(input('ikkinchi sonnig kiriting: '))\n",
    "print('ikki sonning ayirmasi: ', a-b)"
   ]
  },
  {
   "cell_type": "code",
   "execution_count": 12,
   "metadata": {},
   "outputs": [
    {
     "name": "stdout",
     "output_type": "stream",
     "text": [
      "ikki sonning kopaytmasi:  72\n"
     ]
    }
   ],
   "source": [
    "a=int(input('birinchi sonni kiriting: '))\n",
    "b=int(input('ikkinchi sonnig kiriting: '))\n",
    "print('ikki sonning kopaytmasi: ', a*b)"
   ]
  },
  {
   "cell_type": "code",
   "execution_count": 13,
   "metadata": {},
   "outputs": [
    {
     "name": "stdout",
     "output_type": "stream",
     "text": [
      "ikki sonning bulinmasi:  14.0\n"
     ]
    }
   ],
   "source": [
    "a=int(input('birinchi sonni kiriting: '))\n",
    "b=int(input('ikkinchi sonnig kiriting: '))\n",
    "print('ikki sonning bulinmasi: ', a/b)"
   ]
  },
  {
   "cell_type": "markdown",
   "metadata": {},
   "source": [
    "#Mantiqiy amallar "
   ]
  },
  {
   "cell_type": "code",
   "execution_count": 14,
   "metadata": {},
   "outputs": [
    {
     "name": "stdout",
     "output_type": "stream",
     "text": [
      "ikkalas son ham o dan katta\n"
     ]
    }
   ],
   "source": [
    "a=int(input('birinchi sonni kiriting: '))\n",
    "b=int(input('ikkinchi sonnig kiriting: '))\n",
    "if a>0 and b>0:\n",
    "    print('ikkalas son ham o dan katta')\n",
    "else: \n",
    "    print('sonlardan biri yoki ikkalasi manfiy')"
   ]
  },
  {
   "cell_type": "code",
   "execution_count": 20,
   "metadata": {},
   "outputs": [
    {
     "name": "stdout",
     "output_type": "stream",
     "text": [
      "bu son ikkiga yoki 5ga karrali\n"
     ]
    }
   ],
   "source": [
    "a=int(input('birinchi sonni kiriting: '))\n",
    "if a%5==0 or a%2==0:\n",
    "    print('bu son ikkiga yoki 5ga karrali')\n",
    "else: \n",
    "    print('bu son 5ga ham 2ga ham bulinmaydi')"
   ]
  },
  {
   "cell_type": "markdown",
   "metadata": {},
   "source": []
  },
  {
   "cell_type": "markdown",
   "metadata": {},
   "source": [
    "#Solishtirish amallari"
   ]
  },
  {
   "cell_type": "code",
   "execution_count": 22,
   "metadata": {},
   "outputs": [
    {
     "name": "stdout",
     "output_type": "stream",
     "text": [
      "8 soni 9 sonidan kichkina\n"
     ]
    }
   ],
   "source": [
    "a=int(input('birinchi sonni kiriting: '))\n",
    "b=int(input('ikkinchi sonnig kiriting: '))\n",
    "if a>b:\n",
    "    print(a,'soni', b,'sonidan katta')\n",
    "elif a==b:\n",
    "    print(a,'soni', b,'soniga teng')\n",
    "else:\n",
    "    print(a,'soni', b,'sonidan kichkina')\n",
    "\n",
    "\n"
   ]
  },
  {
   "cell_type": "markdown",
   "metadata": {
    "vscode": {
     "languageId": "bat"
    }
   },
   "source": [
    "#O’zgaruvchi qiymatlash"
   ]
  },
  {
   "cell_type": "code",
   "execution_count": 23,
   "metadata": {},
   "outputs": [
    {
     "name": "stdout",
     "output_type": "stream",
     "text": [
      "9\n"
     ]
    }
   ],
   "source": [
    "a=int(input('birinchi sonni kiriting: '))\n",
    "a+=b \n",
    "print(b) \n"
   ]
  },
  {
   "cell_type": "markdown",
   "metadata": {},
   "source": [
    "#Agar son manfiy bo’lsa son manfiy musbat bo’lsa musbat agar no’lga teng bo’lsa no’l degan yozuv ekranga chiqsin"
   ]
  },
  {
   "cell_type": "code",
   "execution_count": 26,
   "metadata": {},
   "outputs": [
    {
     "name": "stdout",
     "output_type": "stream",
     "text": [
      "-5 soni manfiy\n"
     ]
    }
   ],
   "source": [
    "a=int(input('birinchi sonni kiriting: '))\n",
    "if a>0:\n",
    "    print(a,'soni musbat')\n",
    "elif a==0:\n",
    "    print(a,'soni nolga teng')\n",
    "else:\n",
    "    print(a,'soni manfiy')"
   ]
  },
  {
   "cell_type": "markdown",
   "metadata": {},
   "source": [
    "#a sonni b sondan katta (kichik) ekanligini ko’rsating"
   ]
  },
  {
   "cell_type": "code",
   "execution_count": 27,
   "metadata": {},
   "outputs": [
    {
     "name": "stdout",
     "output_type": "stream",
     "text": [
      "7 soni 8 sonidan kichkina\n"
     ]
    }
   ],
   "source": [
    "a=int(input('birinchi sonni kiriting: '))\n",
    "b=int(input('ikkinchi sonnig kiriting: '))\n",
    "if a>b:\n",
    "    print(a,'soni', b,'sonidan katta')\n",
    "elif a==b:\n",
    "    print(a,'soni', b,'soniga teng')\n",
    "else:\n",
    "    print(a,'soni', b,'sonidan kichkina')"
   ]
  },
  {
   "cell_type": "markdown",
   "metadata": {},
   "source": [
    "#Ikki sonning o’rta arifmetigini toping"
   ]
  },
  {
   "cell_type": "markdown",
   "metadata": {},
   "source": []
  },
  {
   "cell_type": "code",
   "execution_count": 31,
   "metadata": {},
   "outputs": [
    {
     "name": "stdout",
     "output_type": "stream",
     "text": [
      "bu ikki sonning urta arifmetigi -0.5 ga teng\n"
     ]
    }
   ],
   "source": [
    "a=int(input('birinchi sonni kiriting: '))\n",
    "b=int(input('ikkinchi sonnig kiriting: '))\n",
    "print('bu ikki sonning urta arifmetigi', (a+b)/2, 'ga teng')\n"
   ]
  },
  {
   "cell_type": "code",
   "execution_count": null,
   "metadata": {},
   "outputs": [],
   "source": []
  }
 ],
 "metadata": {
  "kernelspec": {
   "display_name": "Python 3",
   "language": "python",
   "name": "python3"
  },
  "language_info": {
   "codemirror_mode": {
    "name": "ipython",
    "version": 3
   },
   "file_extension": ".py",
   "mimetype": "text/x-python",
   "name": "python",
   "nbconvert_exporter": "python",
   "pygments_lexer": "ipython3",
   "version": "3.8.2"
  }
 },
 "nbformat": 4,
 "nbformat_minor": 2
}
