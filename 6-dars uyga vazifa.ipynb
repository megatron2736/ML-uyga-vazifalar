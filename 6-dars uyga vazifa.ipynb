{
 "cells": [
  {
   "cell_type": "code",
   "execution_count": 1,
   "id": "5ffe0e10-4588-4b1e-a419-11238a288184",
   "metadata": {},
   "outputs": [],
   "source": [
    "import pandas as pd\n",
    "import numpy as np\n",
    "from sklearn.preprocessing import LabelEncoder, OneHotEncoder"
   ]
  },
  {
   "cell_type": "code",
   "execution_count": 3,
   "id": "0c8b09a1-f51b-4c98-9a48-027a22dcd23a",
   "metadata": {},
   "outputs": [],
   "source": [
    "df=pd.read_csv('geophone-sensor-data.csv')\n"
   ]
  },
  {
   "cell_type": "code",
   "execution_count": 5,
   "id": "77f69bfe-0331-4c8f-884a-6f4107aeeaf3",
   "metadata": {},
   "outputs": [
    {
     "name": "stdout",
     "output_type": "stream",
     "text": [
      "<class 'pandas.core.frame.DataFrame'>\n",
      "RangeIndex: 1800 entries, 0 to 1799\n",
      "Data columns (total 14 columns):\n",
      " #   Column         Non-Null Count  Dtype  \n",
      "---  ------         --------------  -----  \n",
      " 0   timestamp      1795 non-null   object \n",
      " 1   mean           1784 non-null   float64\n",
      " 2   top_3_mean     1788 non-null   float64\n",
      " 3   min            1787 non-null   float64\n",
      " 4   max            1786 non-null   float64\n",
      " 5   std_dev        1781 non-null   float64\n",
      " 6   median         1784 non-null   float64\n",
      " 7   q1             1786 non-null   float64\n",
      " 8   q3             1781 non-null   float64\n",
      " 9   skewness       1774 non-null   float64\n",
      " 10  dominant_freq  1768 non-null   float64\n",
      " 11  energy         1783 non-null   float64\n",
      " 12  activity       1772 non-null   object \n",
      " 13  name           1785 non-null   object \n",
      "dtypes: float64(11), object(3)\n",
      "memory usage: 197.0+ KB\n"
     ]
    }
   ],
   "source": [
    "df.info()"
   ]
  },
  {
   "cell_type": "code",
   "execution_count": 9,
   "id": "1e21c1d3-a421-49b5-82e2-8003337e73ef",
   "metadata": {},
   "outputs": [
    {
     "data": {
      "text/plain": [
       "timestamp         5\n",
       "mean             16\n",
       "top_3_mean       12\n",
       "min              13\n",
       "max              14\n",
       "std_dev          19\n",
       "median           16\n",
       "q1               14\n",
       "q3               19\n",
       "skewness         26\n",
       "dominant_freq    32\n",
       "energy           17\n",
       "activity         28\n",
       "name             15\n",
       "dtype: int64"
      ]
     },
     "execution_count": 9,
     "metadata": {},
     "output_type": "execute_result"
    }
   ],
   "source": [
    "df.isnull().sum()"
   ]
  },
  {
   "cell_type": "code",
   "execution_count": 11,
   "id": "1d3c082f-2c8b-4a2c-963e-42a74999d770",
   "metadata": {},
   "outputs": [
    {
     "data": {
      "text/html": [
       "<div>\n",
       "<style scoped>\n",
       "    .dataframe tbody tr th:only-of-type {\n",
       "        vertical-align: middle;\n",
       "    }\n",
       "\n",
       "    .dataframe tbody tr th {\n",
       "        vertical-align: top;\n",
       "    }\n",
       "\n",
       "    .dataframe thead th {\n",
       "        text-align: right;\n",
       "    }\n",
       "</style>\n",
       "<table border=\"1\" class=\"dataframe\">\n",
       "  <thead>\n",
       "    <tr style=\"text-align: right;\">\n",
       "      <th></th>\n",
       "      <th>timestamp</th>\n",
       "      <th>mean</th>\n",
       "      <th>top_3_mean</th>\n",
       "      <th>min</th>\n",
       "      <th>max</th>\n",
       "      <th>std_dev</th>\n",
       "      <th>median</th>\n",
       "      <th>q1</th>\n",
       "      <th>q3</th>\n",
       "      <th>skewness</th>\n",
       "      <th>dominant_freq</th>\n",
       "      <th>energy</th>\n",
       "      <th>activity</th>\n",
       "      <th>name</th>\n",
       "    </tr>\n",
       "  </thead>\n",
       "  <tbody>\n",
       "    <tr>\n",
       "      <th>0</th>\n",
       "      <td>1:51:43</td>\n",
       "      <td>2046.726000</td>\n",
       "      <td>2057.666667</td>\n",
       "      <td>2035.0</td>\n",
       "      <td>2060.0</td>\n",
       "      <td>3.452186</td>\n",
       "      <td>2047.0</td>\n",
       "      <td>2043.0</td>\n",
       "      <td>2049.0</td>\n",
       "      <td>-0.152574</td>\n",
       "      <td>601.0</td>\n",
       "      <td>1.988682e+09</td>\n",
       "      <td>walking</td>\n",
       "      <td>Yusuf</td>\n",
       "    </tr>\n",
       "    <tr>\n",
       "      <th>1</th>\n",
       "      <td>1:51:46</td>\n",
       "      <td>2046.619333</td>\n",
       "      <td>2053.000000</td>\n",
       "      <td>2040.0</td>\n",
       "      <td>2053.0</td>\n",
       "      <td>3.580469</td>\n",
       "      <td>2047.0</td>\n",
       "      <td>2044.0</td>\n",
       "      <td>2050.0</td>\n",
       "      <td>-0.150615</td>\n",
       "      <td>300.0</td>\n",
       "      <td>1.988028e+09</td>\n",
       "      <td>walking</td>\n",
       "      <td>baba</td>\n",
       "    </tr>\n",
       "    <tr>\n",
       "      <th>2</th>\n",
       "      <td>1:51:50</td>\n",
       "      <td>2046.598000</td>\n",
       "      <td>2056.000000</td>\n",
       "      <td>2030.0</td>\n",
       "      <td>2059.0</td>\n",
       "      <td>3.592826</td>\n",
       "      <td>2047.0</td>\n",
       "      <td>2044.0</td>\n",
       "      <td>2049.0</td>\n",
       "      <td>-0.370125</td>\n",
       "      <td>300.0</td>\n",
       "      <td>1.987897e+09</td>\n",
       "      <td>walking</td>\n",
       "      <td>huhu</td>\n",
       "    </tr>\n",
       "    <tr>\n",
       "      <th>3</th>\n",
       "      <td>1:51:53</td>\n",
       "      <td>2046.560000</td>\n",
       "      <td>2054.000000</td>\n",
       "      <td>2039.0</td>\n",
       "      <td>2055.0</td>\n",
       "      <td>3.414830</td>\n",
       "      <td>2047.0</td>\n",
       "      <td>2044.0</td>\n",
       "      <td>2049.0</td>\n",
       "      <td>-0.321296</td>\n",
       "      <td>300.0</td>\n",
       "      <td>1.987662e+09</td>\n",
       "      <td>walking</td>\n",
       "      <td>sddass</td>\n",
       "    </tr>\n",
       "    <tr>\n",
       "      <th>4</th>\n",
       "      <td>1:51:56</td>\n",
       "      <td>2046.656667</td>\n",
       "      <td>2055.000000</td>\n",
       "      <td>2034.0</td>\n",
       "      <td>2057.0</td>\n",
       "      <td>3.356802</td>\n",
       "      <td>2048.0</td>\n",
       "      <td>2044.0</td>\n",
       "      <td>2049.0</td>\n",
       "      <td>-0.379134</td>\n",
       "      <td>300.0</td>\n",
       "      <td>1.988255e+09</td>\n",
       "      <td>walking</td>\n",
       "      <td>dfasadfs</td>\n",
       "    </tr>\n",
       "  </tbody>\n",
       "</table>\n",
       "</div>"
      ],
      "text/plain": [
       "  timestamp         mean   top_3_mean     min     max   std_dev  median  \\\n",
       "0   1:51:43  2046.726000  2057.666667  2035.0  2060.0  3.452186  2047.0   \n",
       "1   1:51:46  2046.619333  2053.000000  2040.0  2053.0  3.580469  2047.0   \n",
       "2   1:51:50  2046.598000  2056.000000  2030.0  2059.0  3.592826  2047.0   \n",
       "3   1:51:53  2046.560000  2054.000000  2039.0  2055.0  3.414830  2047.0   \n",
       "4   1:51:56  2046.656667  2055.000000  2034.0  2057.0  3.356802  2048.0   \n",
       "\n",
       "       q1      q3  skewness  dominant_freq        energy activity      name  \n",
       "0  2043.0  2049.0 -0.152574          601.0  1.988682e+09  walking     Yusuf  \n",
       "1  2044.0  2050.0 -0.150615          300.0  1.988028e+09  walking     baba   \n",
       "2  2044.0  2049.0 -0.370125          300.0  1.987897e+09  walking      huhu  \n",
       "3  2044.0  2049.0 -0.321296          300.0  1.987662e+09  walking    sddass  \n",
       "4  2044.0  2049.0 -0.379134          300.0  1.988255e+09  walking  dfasadfs  "
      ]
     },
     "execution_count": 11,
     "metadata": {},
     "output_type": "execute_result"
    }
   ],
   "source": [
    "df.head()"
   ]
  },
  {
   "cell_type": "markdown",
   "id": "bc137621-7603-4e7b-aeb9-a4233c76bce0",
   "metadata": {},
   "source": [
    "# 1. Drop rows with missing values"
   ]
  },
  {
   "cell_type": "code",
   "execution_count": 16,
   "id": "5537bab4-3391-429d-ae58-9cdeabea4d4d",
   "metadata": {},
   "outputs": [],
   "source": [
    "df.dropna(inplace=True)"
   ]
  },
  {
   "cell_type": "code",
   "execution_count": 18,
   "id": "8f11c971-cfe2-4786-806a-7fdf27327957",
   "metadata": {},
   "outputs": [
    {
     "name": "stdout",
     "output_type": "stream",
     "text": [
      "<class 'pandas.core.frame.DataFrame'>\n",
      "Index: 1681 entries, 0 to 1799\n",
      "Data columns (total 14 columns):\n",
      " #   Column         Non-Null Count  Dtype  \n",
      "---  ------         --------------  -----  \n",
      " 0   timestamp      1681 non-null   object \n",
      " 1   mean           1681 non-null   float64\n",
      " 2   top_3_mean     1681 non-null   float64\n",
      " 3   min            1681 non-null   float64\n",
      " 4   max            1681 non-null   float64\n",
      " 5   std_dev        1681 non-null   float64\n",
      " 6   median         1681 non-null   float64\n",
      " 7   q1             1681 non-null   float64\n",
      " 8   q3             1681 non-null   float64\n",
      " 9   skewness       1681 non-null   float64\n",
      " 10  dominant_freq  1681 non-null   float64\n",
      " 11  energy         1681 non-null   float64\n",
      " 12  activity       1681 non-null   object \n",
      " 13  name           1681 non-null   object \n",
      "dtypes: float64(11), object(3)\n",
      "memory usage: 197.0+ KB\n"
     ]
    }
   ],
   "source": [
    "df.info()"
   ]
  },
  {
   "cell_type": "markdown",
   "id": "a62487f1-e1ce-4ba3-8c54-a639eff593ba",
   "metadata": {},
   "source": [
    "# 2. Drop columns with missing values"
   ]
  },
  {
   "cell_type": "code",
   "execution_count": 29,
   "id": "c41633f4-db31-4b89-9a57-d10c6f31c5bc",
   "metadata": {},
   "outputs": [],
   "source": [
    "df.dropna(axis=1, inplace=True)"
   ]
  },
  {
   "cell_type": "code",
   "execution_count": 31,
   "id": "ccd1a313-40df-4a4c-aece-fbb55dd103de",
   "metadata": {},
   "outputs": [
    {
     "name": "stdout",
     "output_type": "stream",
     "text": [
      "<class 'pandas.core.frame.DataFrame'>\n",
      "RangeIndex: 1800 entries, 0 to 1799\n",
      "Empty DataFrame\n"
     ]
    }
   ],
   "source": [
    "df.info()"
   ]
  },
  {
   "cell_type": "code",
   "execution_count": 33,
   "id": "5f74d9a8-9ef9-4a24-bc0e-14add2371f52",
   "metadata": {},
   "outputs": [
    {
     "data": {
      "text/html": [
       "<div>\n",
       "<style scoped>\n",
       "    .dataframe tbody tr th:only-of-type {\n",
       "        vertical-align: middle;\n",
       "    }\n",
       "\n",
       "    .dataframe tbody tr th {\n",
       "        vertical-align: top;\n",
       "    }\n",
       "\n",
       "    .dataframe thead th {\n",
       "        text-align: right;\n",
       "    }\n",
       "</style>\n",
       "<table border=\"1\" class=\"dataframe\">\n",
       "  <thead>\n",
       "    <tr style=\"text-align: right;\">\n",
       "      <th></th>\n",
       "    </tr>\n",
       "  </thead>\n",
       "  <tbody>\n",
       "    <tr>\n",
       "      <th>0</th>\n",
       "    </tr>\n",
       "    <tr>\n",
       "      <th>1</th>\n",
       "    </tr>\n",
       "    <tr>\n",
       "      <th>2</th>\n",
       "    </tr>\n",
       "    <tr>\n",
       "      <th>3</th>\n",
       "    </tr>\n",
       "    <tr>\n",
       "      <th>4</th>\n",
       "    </tr>\n",
       "  </tbody>\n",
       "</table>\n",
       "</div>"
      ],
      "text/plain": [
       "Empty DataFrame\n",
       "Columns: []\n",
       "Index: [0, 1, 2, 3, 4]"
      ]
     },
     "execution_count": 33,
     "metadata": {},
     "output_type": "execute_result"
    }
   ],
   "source": [
    "df.head()"
   ]
  },
  {
   "cell_type": "code",
   "execution_count": 13,
   "id": "e58bebf4-14c5-4559-9051-7ec14d976b60",
   "metadata": {},
   "outputs": [
    {
     "data": {
      "text/plain": [
       "activity\n",
       "running    603\n",
       "waiting    600\n",
       "walking    569\n",
       "Name: count, dtype: int64"
      ]
     },
     "execution_count": 13,
     "metadata": {},
     "output_type": "execute_result"
    }
   ],
   "source": [
    "df['activity'].value_counts()"
   ]
  },
  {
   "cell_type": "code",
   "execution_count": 11,
   "id": "9d370f90-03b5-4057-9d66-cc0790f4ffc2",
   "metadata": {},
   "outputs": [],
   "source": [
    "yozuvli_qator = df.select_dtypes(include=['object', 'category']).columns.tolist()"
   ]
  },
  {
   "cell_type": "code",
   "execution_count": 13,
   "id": "13934636-ab77-445d-bc5d-fef985e6381a",
   "metadata": {},
   "outputs": [
    {
     "data": {
      "text/plain": [
       "['timestamp', 'activity', 'name']"
      ]
     },
     "execution_count": 13,
     "metadata": {},
     "output_type": "execute_result"
    }
   ],
   "source": [
    "yozuvli_qator"
   ]
  },
  {
   "cell_type": "code",
   "execution_count": 15,
   "id": "1b055cdc-c5ba-4334-a3c2-746d550b10ef",
   "metadata": {},
   "outputs": [],
   "source": [
    "Songa_Aylantir=LabelEncoder()"
   ]
  },
  {
   "cell_type": "code",
   "execution_count": 17,
   "id": "1134859a-0afb-4d9d-87e5-5315c2c2ad4c",
   "metadata": {},
   "outputs": [],
   "source": [
    "df['activity']=Songa_Aylantir.fit_transform(df['activity'])"
   ]
  },
  {
   "cell_type": "code",
   "execution_count": 19,
   "id": "7fcab68a-f0d1-4265-ab69-97ca1e0f4c54",
   "metadata": {},
   "outputs": [
    {
     "name": "stdout",
     "output_type": "stream",
     "text": [
      "<class 'pandas.core.frame.DataFrame'>\n",
      "RangeIndex: 1800 entries, 0 to 1799\n",
      "Data columns (total 14 columns):\n",
      " #   Column         Non-Null Count  Dtype  \n",
      "---  ------         --------------  -----  \n",
      " 0   timestamp      1795 non-null   object \n",
      " 1   mean           1784 non-null   float64\n",
      " 2   top_3_mean     1788 non-null   float64\n",
      " 3   min            1787 non-null   float64\n",
      " 4   max            1786 non-null   float64\n",
      " 5   std_dev        1781 non-null   float64\n",
      " 6   median         1784 non-null   float64\n",
      " 7   q1             1786 non-null   float64\n",
      " 8   q3             1781 non-null   float64\n",
      " 9   skewness       1774 non-null   float64\n",
      " 10  dominant_freq  1768 non-null   float64\n",
      " 11  energy         1783 non-null   float64\n",
      " 12  activity       1800 non-null   int32  \n",
      " 13  name           1785 non-null   object \n",
      "dtypes: float64(11), int32(1), object(2)\n",
      "memory usage: 190.0+ KB\n"
     ]
    }
   ],
   "source": [
    "df.info()"
   ]
  },
  {
   "cell_type": "code",
   "execution_count": 23,
   "id": "bef362e1-8cef-43f3-ba3c-2d38b3824d23",
   "metadata": {},
   "outputs": [
    {
     "data": {
      "text/html": [
       "<div>\n",
       "<style scoped>\n",
       "    .dataframe tbody tr th:only-of-type {\n",
       "        vertical-align: middle;\n",
       "    }\n",
       "\n",
       "    .dataframe tbody tr th {\n",
       "        vertical-align: top;\n",
       "    }\n",
       "\n",
       "    .dataframe thead th {\n",
       "        text-align: right;\n",
       "    }\n",
       "</style>\n",
       "<table border=\"1\" class=\"dataframe\">\n",
       "  <thead>\n",
       "    <tr style=\"text-align: right;\">\n",
       "      <th></th>\n",
       "      <th>timestamp</th>\n",
       "      <th>mean</th>\n",
       "      <th>top_3_mean</th>\n",
       "      <th>min</th>\n",
       "      <th>max</th>\n",
       "      <th>std_dev</th>\n",
       "      <th>median</th>\n",
       "      <th>q1</th>\n",
       "      <th>q3</th>\n",
       "      <th>skewness</th>\n",
       "      <th>dominant_freq</th>\n",
       "      <th>energy</th>\n",
       "      <th>activity</th>\n",
       "      <th>name</th>\n",
       "    </tr>\n",
       "  </thead>\n",
       "  <tbody>\n",
       "    <tr>\n",
       "      <th>0</th>\n",
       "      <td>1:51:43</td>\n",
       "      <td>2046.726000</td>\n",
       "      <td>2057.666667</td>\n",
       "      <td>2035.0</td>\n",
       "      <td>2060.0</td>\n",
       "      <td>3.452186</td>\n",
       "      <td>2047.0</td>\n",
       "      <td>2043.0</td>\n",
       "      <td>2049.0</td>\n",
       "      <td>-0.152574</td>\n",
       "      <td>601.0</td>\n",
       "      <td>1.988682e+09</td>\n",
       "      <td>2</td>\n",
       "      <td>Yusuf</td>\n",
       "    </tr>\n",
       "    <tr>\n",
       "      <th>1</th>\n",
       "      <td>1:51:46</td>\n",
       "      <td>2046.619333</td>\n",
       "      <td>2053.000000</td>\n",
       "      <td>2040.0</td>\n",
       "      <td>2053.0</td>\n",
       "      <td>3.580469</td>\n",
       "      <td>2047.0</td>\n",
       "      <td>2044.0</td>\n",
       "      <td>2050.0</td>\n",
       "      <td>-0.150615</td>\n",
       "      <td>300.0</td>\n",
       "      <td>1.988028e+09</td>\n",
       "      <td>2</td>\n",
       "      <td>baba</td>\n",
       "    </tr>\n",
       "    <tr>\n",
       "      <th>2</th>\n",
       "      <td>1:51:50</td>\n",
       "      <td>2046.598000</td>\n",
       "      <td>2056.000000</td>\n",
       "      <td>2030.0</td>\n",
       "      <td>2059.0</td>\n",
       "      <td>3.592826</td>\n",
       "      <td>2047.0</td>\n",
       "      <td>2044.0</td>\n",
       "      <td>2049.0</td>\n",
       "      <td>-0.370125</td>\n",
       "      <td>300.0</td>\n",
       "      <td>1.987897e+09</td>\n",
       "      <td>2</td>\n",
       "      <td>huhu</td>\n",
       "    </tr>\n",
       "    <tr>\n",
       "      <th>3</th>\n",
       "      <td>1:51:53</td>\n",
       "      <td>2046.560000</td>\n",
       "      <td>2054.000000</td>\n",
       "      <td>2039.0</td>\n",
       "      <td>2055.0</td>\n",
       "      <td>3.414830</td>\n",
       "      <td>2047.0</td>\n",
       "      <td>2044.0</td>\n",
       "      <td>2049.0</td>\n",
       "      <td>-0.321296</td>\n",
       "      <td>300.0</td>\n",
       "      <td>1.987662e+09</td>\n",
       "      <td>2</td>\n",
       "      <td>sddass</td>\n",
       "    </tr>\n",
       "    <tr>\n",
       "      <th>4</th>\n",
       "      <td>1:51:56</td>\n",
       "      <td>2046.656667</td>\n",
       "      <td>2055.000000</td>\n",
       "      <td>2034.0</td>\n",
       "      <td>2057.0</td>\n",
       "      <td>3.356802</td>\n",
       "      <td>2048.0</td>\n",
       "      <td>2044.0</td>\n",
       "      <td>2049.0</td>\n",
       "      <td>-0.379134</td>\n",
       "      <td>300.0</td>\n",
       "      <td>1.988255e+09</td>\n",
       "      <td>2</td>\n",
       "      <td>dfasadfs</td>\n",
       "    </tr>\n",
       "  </tbody>\n",
       "</table>\n",
       "</div>"
      ],
      "text/plain": [
       "  timestamp         mean   top_3_mean     min     max   std_dev  median  \\\n",
       "0   1:51:43  2046.726000  2057.666667  2035.0  2060.0  3.452186  2047.0   \n",
       "1   1:51:46  2046.619333  2053.000000  2040.0  2053.0  3.580469  2047.0   \n",
       "2   1:51:50  2046.598000  2056.000000  2030.0  2059.0  3.592826  2047.0   \n",
       "3   1:51:53  2046.560000  2054.000000  2039.0  2055.0  3.414830  2047.0   \n",
       "4   1:51:56  2046.656667  2055.000000  2034.0  2057.0  3.356802  2048.0   \n",
       "\n",
       "       q1      q3  skewness  dominant_freq        energy  activity      name  \n",
       "0  2043.0  2049.0 -0.152574          601.0  1.988682e+09         2     Yusuf  \n",
       "1  2044.0  2050.0 -0.150615          300.0  1.988028e+09         2     baba   \n",
       "2  2044.0  2049.0 -0.370125          300.0  1.987897e+09         2      huhu  \n",
       "3  2044.0  2049.0 -0.321296          300.0  1.987662e+09         2    sddass  \n",
       "4  2044.0  2049.0 -0.379134          300.0  1.988255e+09         2  dfasadfs  "
      ]
     },
     "execution_count": 23,
     "metadata": {},
     "output_type": "execute_result"
    }
   ],
   "source": [
    "df.head()"
   ]
  },
  {
   "cell_type": "code",
   "execution_count": 21,
   "id": "5bfd2301-c2d6-4347-916a-6d5a338b69e2",
   "metadata": {},
   "outputs": [
    {
     "data": {
      "text/plain": [
       "0       2\n",
       "1       2\n",
       "2       2\n",
       "3       2\n",
       "4       2\n",
       "       ..\n",
       "1795    1\n",
       "1796    1\n",
       "1797    1\n",
       "1798    1\n",
       "1799    1\n",
       "Name: activity, Length: 1800, dtype: int32"
      ]
     },
     "execution_count": 21,
     "metadata": {},
     "output_type": "execute_result"
    }
   ],
   "source": [
    "df['activity']"
   ]
  },
  {
   "cell_type": "code",
   "execution_count": 23,
   "id": "50c3c652-3977-4965-96ad-2963b878dc78",
   "metadata": {},
   "outputs": [
    {
     "data": {
      "text/plain": [
       "activity\n",
       "0    603\n",
       "1    600\n",
       "2    569\n",
       "3     28\n",
       "Name: count, dtype: int64"
      ]
     },
     "execution_count": 23,
     "metadata": {},
     "output_type": "execute_result"
    }
   ],
   "source": [
    "df['activity'].value_counts()"
   ]
  },
  {
   "cell_type": "code",
   "execution_count": 7,
   "id": "bfe77449-baf0-4723-81af-4fa74bdd7fe8",
   "metadata": {},
   "outputs": [
    {
     "name": "stderr",
     "output_type": "stream",
     "text": [
      "C:\\Users\\Public\\Documents\\ESTsoft\\CreatorTemp\\ipykernel_18740\\2400843022.py:1: FutureWarning: A value is trying to be set on a copy of a DataFrame or Series through chained assignment using an inplace method.\n",
      "The behavior will change in pandas 3.0. This inplace method will never work because the intermediate object on which we are setting values always behaves as a copy.\n",
      "\n",
      "For example, when doing 'df[col].method(value, inplace=True)', try using 'df.method({col: value}, inplace=True)' or df[col] = df[col].method(value) instead, to perform the operation inplace on the original object.\n",
      "\n",
      "\n",
      "  df['activity'].fillna(df['activity'].mode()[0], inplace=True)\n"
     ]
    }
   ],
   "source": [
    "df['activity'].fillna(df['activity'].mode()[0], inplace=True)"
   ]
  },
  {
   "cell_type": "code",
   "execution_count": 9,
   "id": "f09dee85-c057-408b-b197-498ed857f205",
   "metadata": {},
   "outputs": [
    {
     "name": "stdout",
     "output_type": "stream",
     "text": [
      "<class 'pandas.core.frame.DataFrame'>\n",
      "RangeIndex: 1800 entries, 0 to 1799\n",
      "Data columns (total 14 columns):\n",
      " #   Column         Non-Null Count  Dtype  \n",
      "---  ------         --------------  -----  \n",
      " 0   timestamp      1795 non-null   object \n",
      " 1   mean           1784 non-null   float64\n",
      " 2   top_3_mean     1788 non-null   float64\n",
      " 3   min            1787 non-null   float64\n",
      " 4   max            1786 non-null   float64\n",
      " 5   std_dev        1781 non-null   float64\n",
      " 6   median         1784 non-null   float64\n",
      " 7   q1             1786 non-null   float64\n",
      " 8   q3             1781 non-null   float64\n",
      " 9   skewness       1774 non-null   float64\n",
      " 10  dominant_freq  1768 non-null   float64\n",
      " 11  energy         1783 non-null   float64\n",
      " 12  activity       1800 non-null   object \n",
      " 13  name           1785 non-null   object \n",
      "dtypes: float64(11), object(3)\n",
      "memory usage: 197.0+ KB\n"
     ]
    }
   ],
   "source": [
    "df.info()"
   ]
  },
  {
   "cell_type": "code",
   "execution_count": 15,
   "id": "840ed109-a7c0-44b6-b975-c7eb7978956f",
   "metadata": {},
   "outputs": [
    {
     "data": {
      "text/plain": [
       "activity\n",
       "running    631\n",
       "waiting    600\n",
       "walking    569\n",
       "Name: count, dtype: int64"
      ]
     },
     "execution_count": 15,
     "metadata": {},
     "output_type": "execute_result"
    }
   ],
   "source": [
    "df['activity'].value_counts()"
   ]
  },
  {
   "cell_type": "code",
   "execution_count": 17,
   "id": "167109a7-f5a1-4211-a71b-f14b12d50eb7",
   "metadata": {},
   "outputs": [],
   "source": [
    "Songa_Aylantir=LabelEncoder()"
   ]
  },
  {
   "cell_type": "code",
   "execution_count": 19,
   "id": "a9652237-dbe7-4597-9ef2-6798e0ac4c13",
   "metadata": {},
   "outputs": [],
   "source": [
    "df['activity']=Songa_Aylantir.fit_transform(df['activity'])"
   ]
  },
  {
   "cell_type": "code",
   "execution_count": 21,
   "id": "f3626a83-80a3-4282-aaaf-1fcfc6387006",
   "metadata": {},
   "outputs": [
    {
     "name": "stdout",
     "output_type": "stream",
     "text": [
      "<class 'pandas.core.frame.DataFrame'>\n",
      "RangeIndex: 1800 entries, 0 to 1799\n",
      "Data columns (total 14 columns):\n",
      " #   Column         Non-Null Count  Dtype  \n",
      "---  ------         --------------  -----  \n",
      " 0   timestamp      1795 non-null   object \n",
      " 1   mean           1784 non-null   float64\n",
      " 2   top_3_mean     1788 non-null   float64\n",
      " 3   min            1787 non-null   float64\n",
      " 4   max            1786 non-null   float64\n",
      " 5   std_dev        1781 non-null   float64\n",
      " 6   median         1784 non-null   float64\n",
      " 7   q1             1786 non-null   float64\n",
      " 8   q3             1781 non-null   float64\n",
      " 9   skewness       1774 non-null   float64\n",
      " 10  dominant_freq  1768 non-null   float64\n",
      " 11  energy         1783 non-null   float64\n",
      " 12  activity       1800 non-null   int32  \n",
      " 13  name           1785 non-null   object \n",
      "dtypes: float64(11), int32(1), object(2)\n",
      "memory usage: 190.0+ KB\n"
     ]
    }
   ],
   "source": [
    "df.info()"
   ]
  },
  {
   "cell_type": "code",
   "execution_count": 23,
   "id": "a7396e0c-4314-4b09-b6dc-563149d11ea5",
   "metadata": {},
   "outputs": [
    {
     "data": {
      "text/plain": [
       "0       2\n",
       "1       2\n",
       "2       2\n",
       "3       2\n",
       "4       2\n",
       "       ..\n",
       "1795    1\n",
       "1796    1\n",
       "1797    1\n",
       "1798    1\n",
       "1799    1\n",
       "Name: activity, Length: 1800, dtype: int32"
      ]
     },
     "execution_count": 23,
     "metadata": {},
     "output_type": "execute_result"
    }
   ],
   "source": [
    "df['activity']"
   ]
  },
  {
   "cell_type": "code",
   "execution_count": 25,
   "id": "ffc47057-91ec-438c-86c4-83b2a7e69553",
   "metadata": {},
   "outputs": [
    {
     "data": {
      "text/plain": [
       "activity\n",
       "0    631\n",
       "1    600\n",
       "2    569\n",
       "Name: count, dtype: int64"
      ]
     },
     "execution_count": 25,
     "metadata": {},
     "output_type": "execute_result"
    }
   ],
   "source": [
    "df['activity'].value_counts()"
   ]
  },
  {
   "cell_type": "markdown",
   "id": "1ba59f5f-afd4-4d45-b379-2cf03548b9b9",
   "metadata": {},
   "source": [
    "# oneHotEncoder"
   ]
  },
  {
   "cell_type": "code",
   "execution_count": 11,
   "id": "0826affc-d938-4165-848c-36364c7b5470",
   "metadata": {},
   "outputs": [],
   "source": [
    "df_encoded=pd.get_dummies(df, columns=['activity'], drop_first=False)"
   ]
  },
  {
   "cell_type": "code",
   "execution_count": 13,
   "id": "37e71caf-8518-4085-8a6d-7949e283847e",
   "metadata": {},
   "outputs": [
    {
     "data": {
      "text/html": [
       "<div>\n",
       "<style scoped>\n",
       "    .dataframe tbody tr th:only-of-type {\n",
       "        vertical-align: middle;\n",
       "    }\n",
       "\n",
       "    .dataframe tbody tr th {\n",
       "        vertical-align: top;\n",
       "    }\n",
       "\n",
       "    .dataframe thead th {\n",
       "        text-align: right;\n",
       "    }\n",
       "</style>\n",
       "<table border=\"1\" class=\"dataframe\">\n",
       "  <thead>\n",
       "    <tr style=\"text-align: right;\">\n",
       "      <th></th>\n",
       "      <th>timestamp</th>\n",
       "      <th>mean</th>\n",
       "      <th>top_3_mean</th>\n",
       "      <th>min</th>\n",
       "      <th>max</th>\n",
       "      <th>std_dev</th>\n",
       "      <th>median</th>\n",
       "      <th>q1</th>\n",
       "      <th>q3</th>\n",
       "      <th>skewness</th>\n",
       "      <th>dominant_freq</th>\n",
       "      <th>energy</th>\n",
       "      <th>name</th>\n",
       "      <th>activity_running</th>\n",
       "      <th>activity_waiting</th>\n",
       "      <th>activity_walking</th>\n",
       "    </tr>\n",
       "  </thead>\n",
       "  <tbody>\n",
       "    <tr>\n",
       "      <th>0</th>\n",
       "      <td>1:51:43</td>\n",
       "      <td>2046.726000</td>\n",
       "      <td>2057.666667</td>\n",
       "      <td>2035.0</td>\n",
       "      <td>2060.0</td>\n",
       "      <td>3.452186</td>\n",
       "      <td>2047.0</td>\n",
       "      <td>2043.0</td>\n",
       "      <td>2049.0</td>\n",
       "      <td>-0.152574</td>\n",
       "      <td>601.0</td>\n",
       "      <td>1.988682e+09</td>\n",
       "      <td>Yusuf</td>\n",
       "      <td>False</td>\n",
       "      <td>False</td>\n",
       "      <td>True</td>\n",
       "    </tr>\n",
       "    <tr>\n",
       "      <th>1</th>\n",
       "      <td>1:51:46</td>\n",
       "      <td>2046.619333</td>\n",
       "      <td>2053.000000</td>\n",
       "      <td>2040.0</td>\n",
       "      <td>2053.0</td>\n",
       "      <td>3.580469</td>\n",
       "      <td>2047.0</td>\n",
       "      <td>2044.0</td>\n",
       "      <td>2050.0</td>\n",
       "      <td>-0.150615</td>\n",
       "      <td>300.0</td>\n",
       "      <td>1.988028e+09</td>\n",
       "      <td>baba</td>\n",
       "      <td>False</td>\n",
       "      <td>False</td>\n",
       "      <td>True</td>\n",
       "    </tr>\n",
       "    <tr>\n",
       "      <th>2</th>\n",
       "      <td>1:51:50</td>\n",
       "      <td>2046.598000</td>\n",
       "      <td>2056.000000</td>\n",
       "      <td>2030.0</td>\n",
       "      <td>2059.0</td>\n",
       "      <td>3.592826</td>\n",
       "      <td>2047.0</td>\n",
       "      <td>2044.0</td>\n",
       "      <td>2049.0</td>\n",
       "      <td>-0.370125</td>\n",
       "      <td>300.0</td>\n",
       "      <td>1.987897e+09</td>\n",
       "      <td>huhu</td>\n",
       "      <td>False</td>\n",
       "      <td>False</td>\n",
       "      <td>True</td>\n",
       "    </tr>\n",
       "    <tr>\n",
       "      <th>3</th>\n",
       "      <td>1:51:53</td>\n",
       "      <td>2046.560000</td>\n",
       "      <td>2054.000000</td>\n",
       "      <td>2039.0</td>\n",
       "      <td>2055.0</td>\n",
       "      <td>3.414830</td>\n",
       "      <td>2047.0</td>\n",
       "      <td>2044.0</td>\n",
       "      <td>2049.0</td>\n",
       "      <td>-0.321296</td>\n",
       "      <td>300.0</td>\n",
       "      <td>1.987662e+09</td>\n",
       "      <td>sddass</td>\n",
       "      <td>False</td>\n",
       "      <td>False</td>\n",
       "      <td>True</td>\n",
       "    </tr>\n",
       "    <tr>\n",
       "      <th>4</th>\n",
       "      <td>1:51:56</td>\n",
       "      <td>2046.656667</td>\n",
       "      <td>2055.000000</td>\n",
       "      <td>2034.0</td>\n",
       "      <td>2057.0</td>\n",
       "      <td>3.356802</td>\n",
       "      <td>2048.0</td>\n",
       "      <td>2044.0</td>\n",
       "      <td>2049.0</td>\n",
       "      <td>-0.379134</td>\n",
       "      <td>300.0</td>\n",
       "      <td>1.988255e+09</td>\n",
       "      <td>dfasadfs</td>\n",
       "      <td>False</td>\n",
       "      <td>False</td>\n",
       "      <td>True</td>\n",
       "    </tr>\n",
       "    <tr>\n",
       "      <th>...</th>\n",
       "      <td>...</td>\n",
       "      <td>...</td>\n",
       "      <td>...</td>\n",
       "      <td>...</td>\n",
       "      <td>...</td>\n",
       "      <td>...</td>\n",
       "      <td>...</td>\n",
       "      <td>...</td>\n",
       "      <td>...</td>\n",
       "      <td>...</td>\n",
       "      <td>...</td>\n",
       "      <td>...</td>\n",
       "      <td>...</td>\n",
       "      <td>...</td>\n",
       "      <td>...</td>\n",
       "      <td>...</td>\n",
       "    </tr>\n",
       "    <tr>\n",
       "      <th>1795</th>\n",
       "      <td>21:17:01</td>\n",
       "      <td>2037.587333</td>\n",
       "      <td>2040.000000</td>\n",
       "      <td>2034.0</td>\n",
       "      <td>2040.0</td>\n",
       "      <td>1.564089</td>\n",
       "      <td>2038.0</td>\n",
       "      <td>2037.0</td>\n",
       "      <td>2039.0</td>\n",
       "      <td>-0.883816</td>\n",
       "      <td>600.0</td>\n",
       "      <td>1.932680e+09</td>\n",
       "      <td>Emir</td>\n",
       "      <td>False</td>\n",
       "      <td>True</td>\n",
       "      <td>False</td>\n",
       "    </tr>\n",
       "    <tr>\n",
       "      <th>1796</th>\n",
       "      <td>21:17:04</td>\n",
       "      <td>2037.606000</td>\n",
       "      <td>2041.333333</td>\n",
       "      <td>2033.0</td>\n",
       "      <td>2042.0</td>\n",
       "      <td>2.160578</td>\n",
       "      <td>2038.0</td>\n",
       "      <td>2036.0</td>\n",
       "      <td>2040.0</td>\n",
       "      <td>-0.199801</td>\n",
       "      <td>300.0</td>\n",
       "      <td>1.932797e+09</td>\n",
       "      <td>Emir</td>\n",
       "      <td>False</td>\n",
       "      <td>True</td>\n",
       "      <td>False</td>\n",
       "    </tr>\n",
       "    <tr>\n",
       "      <th>1797</th>\n",
       "      <td>21:17:07</td>\n",
       "      <td>2037.984000</td>\n",
       "      <td>2041.000000</td>\n",
       "      <td>2034.0</td>\n",
       "      <td>2041.0</td>\n",
       "      <td>1.686736</td>\n",
       "      <td>2038.0</td>\n",
       "      <td>2036.0</td>\n",
       "      <td>2039.0</td>\n",
       "      <td>-0.339960</td>\n",
       "      <td>300.0</td>\n",
       "      <td>1.935105e+09</td>\n",
       "      <td>Emir</td>\n",
       "      <td>False</td>\n",
       "      <td>True</td>\n",
       "      <td>False</td>\n",
       "    </tr>\n",
       "    <tr>\n",
       "      <th>1798</th>\n",
       "      <td>21:17:10</td>\n",
       "      <td>2037.482000</td>\n",
       "      <td>2041.000000</td>\n",
       "      <td>2033.0</td>\n",
       "      <td>2041.0</td>\n",
       "      <td>2.123286</td>\n",
       "      <td>2037.0</td>\n",
       "      <td>2036.0</td>\n",
       "      <td>2040.0</td>\n",
       "      <td>-0.176030</td>\n",
       "      <td>300.0</td>\n",
       "      <td>1.932039e+09</td>\n",
       "      <td>Emir</td>\n",
       "      <td>False</td>\n",
       "      <td>True</td>\n",
       "      <td>False</td>\n",
       "    </tr>\n",
       "    <tr>\n",
       "      <th>1799</th>\n",
       "      <td>21:17:13</td>\n",
       "      <td>2038.450000</td>\n",
       "      <td>2041.000000</td>\n",
       "      <td>2035.0</td>\n",
       "      <td>2041.0</td>\n",
       "      <td>1.623012</td>\n",
       "      <td>2039.0</td>\n",
       "      <td>2037.0</td>\n",
       "      <td>2040.0</td>\n",
       "      <td>-0.419446</td>\n",
       "      <td>300.0</td>\n",
       "      <td>1.937954e+09</td>\n",
       "      <td>Emir</td>\n",
       "      <td>False</td>\n",
       "      <td>True</td>\n",
       "      <td>False</td>\n",
       "    </tr>\n",
       "  </tbody>\n",
       "</table>\n",
       "<p>1800 rows × 16 columns</p>\n",
       "</div>"
      ],
      "text/plain": [
       "     timestamp         mean   top_3_mean     min     max   std_dev  median  \\\n",
       "0      1:51:43  2046.726000  2057.666667  2035.0  2060.0  3.452186  2047.0   \n",
       "1      1:51:46  2046.619333  2053.000000  2040.0  2053.0  3.580469  2047.0   \n",
       "2      1:51:50  2046.598000  2056.000000  2030.0  2059.0  3.592826  2047.0   \n",
       "3      1:51:53  2046.560000  2054.000000  2039.0  2055.0  3.414830  2047.0   \n",
       "4      1:51:56  2046.656667  2055.000000  2034.0  2057.0  3.356802  2048.0   \n",
       "...        ...          ...          ...     ...     ...       ...     ...   \n",
       "1795  21:17:01  2037.587333  2040.000000  2034.0  2040.0  1.564089  2038.0   \n",
       "1796  21:17:04  2037.606000  2041.333333  2033.0  2042.0  2.160578  2038.0   \n",
       "1797  21:17:07  2037.984000  2041.000000  2034.0  2041.0  1.686736  2038.0   \n",
       "1798  21:17:10  2037.482000  2041.000000  2033.0  2041.0  2.123286  2037.0   \n",
       "1799  21:17:13  2038.450000  2041.000000  2035.0  2041.0  1.623012  2039.0   \n",
       "\n",
       "          q1      q3  skewness  dominant_freq        energy      name  \\\n",
       "0     2043.0  2049.0 -0.152574          601.0  1.988682e+09     Yusuf   \n",
       "1     2044.0  2050.0 -0.150615          300.0  1.988028e+09     baba    \n",
       "2     2044.0  2049.0 -0.370125          300.0  1.987897e+09      huhu   \n",
       "3     2044.0  2049.0 -0.321296          300.0  1.987662e+09    sddass   \n",
       "4     2044.0  2049.0 -0.379134          300.0  1.988255e+09  dfasadfs   \n",
       "...      ...     ...       ...            ...           ...       ...   \n",
       "1795  2037.0  2039.0 -0.883816          600.0  1.932680e+09      Emir   \n",
       "1796  2036.0  2040.0 -0.199801          300.0  1.932797e+09      Emir   \n",
       "1797  2036.0  2039.0 -0.339960          300.0  1.935105e+09      Emir   \n",
       "1798  2036.0  2040.0 -0.176030          300.0  1.932039e+09      Emir   \n",
       "1799  2037.0  2040.0 -0.419446          300.0  1.937954e+09      Emir   \n",
       "\n",
       "      activity_running  activity_waiting  activity_walking  \n",
       "0                False             False              True  \n",
       "1                False             False              True  \n",
       "2                False             False              True  \n",
       "3                False             False              True  \n",
       "4                False             False              True  \n",
       "...                ...               ...               ...  \n",
       "1795             False              True             False  \n",
       "1796             False              True             False  \n",
       "1797             False              True             False  \n",
       "1798             False              True             False  \n",
       "1799             False              True             False  \n",
       "\n",
       "[1800 rows x 16 columns]"
      ]
     },
     "execution_count": 13,
     "metadata": {},
     "output_type": "execute_result"
    }
   ],
   "source": [
    "df_encoded"
   ]
  },
  {
   "cell_type": "code",
   "execution_count": 15,
   "id": "5770718a-3a4c-4718-88df-8163fb2d8eb1",
   "metadata": {},
   "outputs": [
    {
     "name": "stdout",
     "output_type": "stream",
     "text": [
      "<class 'pandas.core.frame.DataFrame'>\n",
      "RangeIndex: 1800 entries, 0 to 1799\n",
      "Data columns (total 14 columns):\n",
      " #   Column         Non-Null Count  Dtype  \n",
      "---  ------         --------------  -----  \n",
      " 0   timestamp      1795 non-null   object \n",
      " 1   mean           1784 non-null   float64\n",
      " 2   top_3_mean     1788 non-null   float64\n",
      " 3   min            1787 non-null   float64\n",
      " 4   max            1786 non-null   float64\n",
      " 5   std_dev        1781 non-null   float64\n",
      " 6   median         1784 non-null   float64\n",
      " 7   q1             1786 non-null   float64\n",
      " 8   q3             1781 non-null   float64\n",
      " 9   skewness       1774 non-null   float64\n",
      " 10  dominant_freq  1768 non-null   float64\n",
      " 11  energy         1783 non-null   float64\n",
      " 12  activity       1800 non-null   object \n",
      " 13  name           1785 non-null   object \n",
      "dtypes: float64(11), object(3)\n",
      "memory usage: 197.0+ KB\n"
     ]
    }
   ],
   "source": [
    "df.info()"
   ]
  },
  {
   "cell_type": "code",
   "execution_count": 19,
   "id": "449fb72b-e71f-4e08-88a4-d3b467869fb1",
   "metadata": {},
   "outputs": [
    {
     "name": "stdout",
     "output_type": "stream",
     "text": [
      "<class 'pandas.core.frame.DataFrame'>\n",
      "RangeIndex: 1800 entries, 0 to 1799\n",
      "Data columns (total 16 columns):\n",
      " #   Column            Non-Null Count  Dtype  \n",
      "---  ------            --------------  -----  \n",
      " 0   timestamp         1795 non-null   object \n",
      " 1   mean              1784 non-null   float64\n",
      " 2   top_3_mean        1788 non-null   float64\n",
      " 3   min               1787 non-null   float64\n",
      " 4   max               1786 non-null   float64\n",
      " 5   std_dev           1781 non-null   float64\n",
      " 6   median            1784 non-null   float64\n",
      " 7   q1                1786 non-null   float64\n",
      " 8   q3                1781 non-null   float64\n",
      " 9   skewness          1774 non-null   float64\n",
      " 10  dominant_freq     1768 non-null   float64\n",
      " 11  energy            1783 non-null   float64\n",
      " 12  name              1785 non-null   object \n",
      " 13  activity_running  1800 non-null   bool   \n",
      " 14  activity_waiting  1800 non-null   bool   \n",
      " 15  activity_walking  1800 non-null   bool   \n",
      "dtypes: bool(3), float64(11), object(2)\n",
      "memory usage: 188.2+ KB\n"
     ]
    }
   ],
   "source": [
    "df_encoded.info()"
   ]
  },
  {
   "cell_type": "code",
   "execution_count": 29,
   "id": "871f06cd-af00-4ed8-abd7-df27e1b877bc",
   "metadata": {},
   "outputs": [
    {
     "ename": "ValueError",
     "evalue": "invalid literal for int() with base 10: '1:51:43'",
     "output_type": "error",
     "traceback": [
      "\u001b[1;31m---------------------------------------------------------------------------\u001b[0m",
      "\u001b[1;31mValueError\u001b[0m                                Traceback (most recent call last)",
      "Cell \u001b[1;32mIn[29], line 1\u001b[0m\n\u001b[1;32m----> 1\u001b[0m df_encoded\u001b[38;5;241m.\u001b[39mastype(\u001b[38;5;28mint\u001b[39m)\n",
      "File \u001b[1;32m~\\anaconda3\\Lib\\site-packages\\pandas\\core\\generic.py:6643\u001b[0m, in \u001b[0;36mNDFrame.astype\u001b[1;34m(self, dtype, copy, errors)\u001b[0m\n\u001b[0;32m   6637\u001b[0m     results \u001b[38;5;241m=\u001b[39m [\n\u001b[0;32m   6638\u001b[0m         ser\u001b[38;5;241m.\u001b[39mastype(dtype, copy\u001b[38;5;241m=\u001b[39mcopy, errors\u001b[38;5;241m=\u001b[39merrors) \u001b[38;5;28;01mfor\u001b[39;00m _, ser \u001b[38;5;129;01min\u001b[39;00m \u001b[38;5;28mself\u001b[39m\u001b[38;5;241m.\u001b[39mitems()\n\u001b[0;32m   6639\u001b[0m     ]\n\u001b[0;32m   6641\u001b[0m \u001b[38;5;28;01melse\u001b[39;00m:\n\u001b[0;32m   6642\u001b[0m     \u001b[38;5;66;03m# else, only a single dtype is given\u001b[39;00m\n\u001b[1;32m-> 6643\u001b[0m     new_data \u001b[38;5;241m=\u001b[39m \u001b[38;5;28mself\u001b[39m\u001b[38;5;241m.\u001b[39m_mgr\u001b[38;5;241m.\u001b[39mastype(dtype\u001b[38;5;241m=\u001b[39mdtype, copy\u001b[38;5;241m=\u001b[39mcopy, errors\u001b[38;5;241m=\u001b[39merrors)\n\u001b[0;32m   6644\u001b[0m     res \u001b[38;5;241m=\u001b[39m \u001b[38;5;28mself\u001b[39m\u001b[38;5;241m.\u001b[39m_constructor_from_mgr(new_data, axes\u001b[38;5;241m=\u001b[39mnew_data\u001b[38;5;241m.\u001b[39maxes)\n\u001b[0;32m   6645\u001b[0m     \u001b[38;5;28;01mreturn\u001b[39;00m res\u001b[38;5;241m.\u001b[39m__finalize__(\u001b[38;5;28mself\u001b[39m, method\u001b[38;5;241m=\u001b[39m\u001b[38;5;124m\"\u001b[39m\u001b[38;5;124mastype\u001b[39m\u001b[38;5;124m\"\u001b[39m)\n",
      "File \u001b[1;32m~\\anaconda3\\Lib\\site-packages\\pandas\\core\\internals\\managers.py:430\u001b[0m, in \u001b[0;36mBaseBlockManager.astype\u001b[1;34m(self, dtype, copy, errors)\u001b[0m\n\u001b[0;32m    427\u001b[0m \u001b[38;5;28;01melif\u001b[39;00m using_copy_on_write():\n\u001b[0;32m    428\u001b[0m     copy \u001b[38;5;241m=\u001b[39m \u001b[38;5;28;01mFalse\u001b[39;00m\n\u001b[1;32m--> 430\u001b[0m \u001b[38;5;28;01mreturn\u001b[39;00m \u001b[38;5;28mself\u001b[39m\u001b[38;5;241m.\u001b[39mapply(\n\u001b[0;32m    431\u001b[0m     \u001b[38;5;124m\"\u001b[39m\u001b[38;5;124mastype\u001b[39m\u001b[38;5;124m\"\u001b[39m,\n\u001b[0;32m    432\u001b[0m     dtype\u001b[38;5;241m=\u001b[39mdtype,\n\u001b[0;32m    433\u001b[0m     copy\u001b[38;5;241m=\u001b[39mcopy,\n\u001b[0;32m    434\u001b[0m     errors\u001b[38;5;241m=\u001b[39merrors,\n\u001b[0;32m    435\u001b[0m     using_cow\u001b[38;5;241m=\u001b[39musing_copy_on_write(),\n\u001b[0;32m    436\u001b[0m )\n",
      "File \u001b[1;32m~\\anaconda3\\Lib\\site-packages\\pandas\\core\\internals\\managers.py:363\u001b[0m, in \u001b[0;36mBaseBlockManager.apply\u001b[1;34m(self, f, align_keys, **kwargs)\u001b[0m\n\u001b[0;32m    361\u001b[0m         applied \u001b[38;5;241m=\u001b[39m b\u001b[38;5;241m.\u001b[39mapply(f, \u001b[38;5;241m*\u001b[39m\u001b[38;5;241m*\u001b[39mkwargs)\n\u001b[0;32m    362\u001b[0m     \u001b[38;5;28;01melse\u001b[39;00m:\n\u001b[1;32m--> 363\u001b[0m         applied \u001b[38;5;241m=\u001b[39m \u001b[38;5;28mgetattr\u001b[39m(b, f)(\u001b[38;5;241m*\u001b[39m\u001b[38;5;241m*\u001b[39mkwargs)\n\u001b[0;32m    364\u001b[0m     result_blocks \u001b[38;5;241m=\u001b[39m extend_blocks(applied, result_blocks)\n\u001b[0;32m    366\u001b[0m out \u001b[38;5;241m=\u001b[39m \u001b[38;5;28mtype\u001b[39m(\u001b[38;5;28mself\u001b[39m)\u001b[38;5;241m.\u001b[39mfrom_blocks(result_blocks, \u001b[38;5;28mself\u001b[39m\u001b[38;5;241m.\u001b[39maxes)\n",
      "File \u001b[1;32m~\\anaconda3\\Lib\\site-packages\\pandas\\core\\internals\\blocks.py:758\u001b[0m, in \u001b[0;36mBlock.astype\u001b[1;34m(self, dtype, copy, errors, using_cow, squeeze)\u001b[0m\n\u001b[0;32m    755\u001b[0m         \u001b[38;5;28;01mraise\u001b[39;00m \u001b[38;5;167;01mValueError\u001b[39;00m(\u001b[38;5;124m\"\u001b[39m\u001b[38;5;124mCan not squeeze with more than one column.\u001b[39m\u001b[38;5;124m\"\u001b[39m)\n\u001b[0;32m    756\u001b[0m     values \u001b[38;5;241m=\u001b[39m values[\u001b[38;5;241m0\u001b[39m, :]  \u001b[38;5;66;03m# type: ignore[call-overload]\u001b[39;00m\n\u001b[1;32m--> 758\u001b[0m new_values \u001b[38;5;241m=\u001b[39m astype_array_safe(values, dtype, copy\u001b[38;5;241m=\u001b[39mcopy, errors\u001b[38;5;241m=\u001b[39merrors)\n\u001b[0;32m    760\u001b[0m new_values \u001b[38;5;241m=\u001b[39m maybe_coerce_values(new_values)\n\u001b[0;32m    762\u001b[0m refs \u001b[38;5;241m=\u001b[39m \u001b[38;5;28;01mNone\u001b[39;00m\n",
      "File \u001b[1;32m~\\anaconda3\\Lib\\site-packages\\pandas\\core\\dtypes\\astype.py:237\u001b[0m, in \u001b[0;36mastype_array_safe\u001b[1;34m(values, dtype, copy, errors)\u001b[0m\n\u001b[0;32m    234\u001b[0m     dtype \u001b[38;5;241m=\u001b[39m dtype\u001b[38;5;241m.\u001b[39mnumpy_dtype\n\u001b[0;32m    236\u001b[0m \u001b[38;5;28;01mtry\u001b[39;00m:\n\u001b[1;32m--> 237\u001b[0m     new_values \u001b[38;5;241m=\u001b[39m astype_array(values, dtype, copy\u001b[38;5;241m=\u001b[39mcopy)\n\u001b[0;32m    238\u001b[0m \u001b[38;5;28;01mexcept\u001b[39;00m (\u001b[38;5;167;01mValueError\u001b[39;00m, \u001b[38;5;167;01mTypeError\u001b[39;00m):\n\u001b[0;32m    239\u001b[0m     \u001b[38;5;66;03m# e.g. _astype_nansafe can fail on object-dtype of strings\u001b[39;00m\n\u001b[0;32m    240\u001b[0m     \u001b[38;5;66;03m#  trying to convert to float\u001b[39;00m\n\u001b[0;32m    241\u001b[0m     \u001b[38;5;28;01mif\u001b[39;00m errors \u001b[38;5;241m==\u001b[39m \u001b[38;5;124m\"\u001b[39m\u001b[38;5;124mignore\u001b[39m\u001b[38;5;124m\"\u001b[39m:\n",
      "File \u001b[1;32m~\\anaconda3\\Lib\\site-packages\\pandas\\core\\dtypes\\astype.py:182\u001b[0m, in \u001b[0;36mastype_array\u001b[1;34m(values, dtype, copy)\u001b[0m\n\u001b[0;32m    179\u001b[0m     values \u001b[38;5;241m=\u001b[39m values\u001b[38;5;241m.\u001b[39mastype(dtype, copy\u001b[38;5;241m=\u001b[39mcopy)\n\u001b[0;32m    181\u001b[0m \u001b[38;5;28;01melse\u001b[39;00m:\n\u001b[1;32m--> 182\u001b[0m     values \u001b[38;5;241m=\u001b[39m _astype_nansafe(values, dtype, copy\u001b[38;5;241m=\u001b[39mcopy)\n\u001b[0;32m    184\u001b[0m \u001b[38;5;66;03m# in pandas we don't store numpy str dtypes, so convert to object\u001b[39;00m\n\u001b[0;32m    185\u001b[0m \u001b[38;5;28;01mif\u001b[39;00m \u001b[38;5;28misinstance\u001b[39m(dtype, np\u001b[38;5;241m.\u001b[39mdtype) \u001b[38;5;129;01mand\u001b[39;00m \u001b[38;5;28missubclass\u001b[39m(values\u001b[38;5;241m.\u001b[39mdtype\u001b[38;5;241m.\u001b[39mtype, \u001b[38;5;28mstr\u001b[39m):\n",
      "File \u001b[1;32m~\\anaconda3\\Lib\\site-packages\\pandas\\core\\dtypes\\astype.py:133\u001b[0m, in \u001b[0;36m_astype_nansafe\u001b[1;34m(arr, dtype, copy, skipna)\u001b[0m\n\u001b[0;32m    129\u001b[0m     \u001b[38;5;28;01mraise\u001b[39;00m \u001b[38;5;167;01mValueError\u001b[39;00m(msg)\n\u001b[0;32m    131\u001b[0m \u001b[38;5;28;01mif\u001b[39;00m copy \u001b[38;5;129;01mor\u001b[39;00m arr\u001b[38;5;241m.\u001b[39mdtype \u001b[38;5;241m==\u001b[39m \u001b[38;5;28mobject\u001b[39m \u001b[38;5;129;01mor\u001b[39;00m dtype \u001b[38;5;241m==\u001b[39m \u001b[38;5;28mobject\u001b[39m:\n\u001b[0;32m    132\u001b[0m     \u001b[38;5;66;03m# Explicit copy, or required since NumPy can't view from / to object.\u001b[39;00m\n\u001b[1;32m--> 133\u001b[0m     \u001b[38;5;28;01mreturn\u001b[39;00m arr\u001b[38;5;241m.\u001b[39mastype(dtype, copy\u001b[38;5;241m=\u001b[39m\u001b[38;5;28;01mTrue\u001b[39;00m)\n\u001b[0;32m    135\u001b[0m \u001b[38;5;28;01mreturn\u001b[39;00m arr\u001b[38;5;241m.\u001b[39mastype(dtype, copy\u001b[38;5;241m=\u001b[39mcopy)\n",
      "\u001b[1;31mValueError\u001b[0m: invalid literal for int() with base 10: '1:51:43'"
     ]
    }
   ],
   "source": [
    "df_encoded.astype(int)"
   ]
  },
  {
   "cell_type": "code",
   "execution_count": 27,
   "id": "f12c3c1d-608c-4c03-bd90-1bb72464ce1f",
   "metadata": {},
   "outputs": [
    {
     "name": "stdout",
     "output_type": "stream",
     "text": [
      "<class 'pandas.core.frame.DataFrame'>\n",
      "RangeIndex: 1800 entries, 0 to 1799\n",
      "Data columns (total 16 columns):\n",
      " #   Column            Non-Null Count  Dtype  \n",
      "---  ------            --------------  -----  \n",
      " 0   timestamp         1795 non-null   object \n",
      " 1   mean              1784 non-null   float64\n",
      " 2   top_3_mean        1788 non-null   float64\n",
      " 3   min               1787 non-null   float64\n",
      " 4   max               1786 non-null   float64\n",
      " 5   std_dev           1781 non-null   float64\n",
      " 6   median            1784 non-null   float64\n",
      " 7   q1                1786 non-null   float64\n",
      " 8   q3                1781 non-null   float64\n",
      " 9   skewness          1774 non-null   float64\n",
      " 10  dominant_freq     1768 non-null   float64\n",
      " 11  energy            1783 non-null   float64\n",
      " 12  name              1785 non-null   object \n",
      " 13  activity_running  1800 non-null   bool   \n",
      " 14  activity_waiting  1800 non-null   bool   \n",
      " 15  activity_walking  1800 non-null   bool   \n",
      "dtypes: bool(3), float64(11), object(2)\n",
      "memory usage: 188.2+ KB\n"
     ]
    }
   ],
   "source": [
    "df_encoded.info()"
   ]
  },
  {
   "cell_type": "code",
   "execution_count": 31,
   "id": "64f9c77d-d239-4aed-88bf-a2187ec1bce0",
   "metadata": {},
   "outputs": [
    {
     "data": {
      "text/html": [
       "<div>\n",
       "<style scoped>\n",
       "    .dataframe tbody tr th:only-of-type {\n",
       "        vertical-align: middle;\n",
       "    }\n",
       "\n",
       "    .dataframe tbody tr th {\n",
       "        vertical-align: top;\n",
       "    }\n",
       "\n",
       "    .dataframe thead th {\n",
       "        text-align: right;\n",
       "    }\n",
       "</style>\n",
       "<table border=\"1\" class=\"dataframe\">\n",
       "  <thead>\n",
       "    <tr style=\"text-align: right;\">\n",
       "      <th></th>\n",
       "      <th>timestamp</th>\n",
       "      <th>mean</th>\n",
       "      <th>top_3_mean</th>\n",
       "      <th>min</th>\n",
       "      <th>max</th>\n",
       "      <th>std_dev</th>\n",
       "      <th>median</th>\n",
       "      <th>q1</th>\n",
       "      <th>q3</th>\n",
       "      <th>skewness</th>\n",
       "      <th>dominant_freq</th>\n",
       "      <th>energy</th>\n",
       "      <th>name</th>\n",
       "      <th>activity_running</th>\n",
       "      <th>activity_waiting</th>\n",
       "      <th>activity_walking</th>\n",
       "    </tr>\n",
       "  </thead>\n",
       "  <tbody>\n",
       "    <tr>\n",
       "      <th>0</th>\n",
       "      <td>1:51:43</td>\n",
       "      <td>2046.726000</td>\n",
       "      <td>2057.666667</td>\n",
       "      <td>2035.0</td>\n",
       "      <td>2060.0</td>\n",
       "      <td>3.452186</td>\n",
       "      <td>2047.0</td>\n",
       "      <td>2043.0</td>\n",
       "      <td>2049.0</td>\n",
       "      <td>-0.152574</td>\n",
       "      <td>601.0</td>\n",
       "      <td>1.988682e+09</td>\n",
       "      <td>Yusuf</td>\n",
       "      <td>False</td>\n",
       "      <td>False</td>\n",
       "      <td>True</td>\n",
       "    </tr>\n",
       "    <tr>\n",
       "      <th>1</th>\n",
       "      <td>1:51:46</td>\n",
       "      <td>2046.619333</td>\n",
       "      <td>2053.000000</td>\n",
       "      <td>2040.0</td>\n",
       "      <td>2053.0</td>\n",
       "      <td>3.580469</td>\n",
       "      <td>2047.0</td>\n",
       "      <td>2044.0</td>\n",
       "      <td>2050.0</td>\n",
       "      <td>-0.150615</td>\n",
       "      <td>300.0</td>\n",
       "      <td>1.988028e+09</td>\n",
       "      <td>baba</td>\n",
       "      <td>False</td>\n",
       "      <td>False</td>\n",
       "      <td>True</td>\n",
       "    </tr>\n",
       "    <tr>\n",
       "      <th>2</th>\n",
       "      <td>1:51:50</td>\n",
       "      <td>2046.598000</td>\n",
       "      <td>2056.000000</td>\n",
       "      <td>2030.0</td>\n",
       "      <td>2059.0</td>\n",
       "      <td>3.592826</td>\n",
       "      <td>2047.0</td>\n",
       "      <td>2044.0</td>\n",
       "      <td>2049.0</td>\n",
       "      <td>-0.370125</td>\n",
       "      <td>300.0</td>\n",
       "      <td>1.987897e+09</td>\n",
       "      <td>huhu</td>\n",
       "      <td>False</td>\n",
       "      <td>False</td>\n",
       "      <td>True</td>\n",
       "    </tr>\n",
       "    <tr>\n",
       "      <th>3</th>\n",
       "      <td>1:51:53</td>\n",
       "      <td>2046.560000</td>\n",
       "      <td>2054.000000</td>\n",
       "      <td>2039.0</td>\n",
       "      <td>2055.0</td>\n",
       "      <td>3.414830</td>\n",
       "      <td>2047.0</td>\n",
       "      <td>2044.0</td>\n",
       "      <td>2049.0</td>\n",
       "      <td>-0.321296</td>\n",
       "      <td>300.0</td>\n",
       "      <td>1.987662e+09</td>\n",
       "      <td>sddass</td>\n",
       "      <td>False</td>\n",
       "      <td>False</td>\n",
       "      <td>True</td>\n",
       "    </tr>\n",
       "    <tr>\n",
       "      <th>4</th>\n",
       "      <td>1:51:56</td>\n",
       "      <td>2046.656667</td>\n",
       "      <td>2055.000000</td>\n",
       "      <td>2034.0</td>\n",
       "      <td>2057.0</td>\n",
       "      <td>3.356802</td>\n",
       "      <td>2048.0</td>\n",
       "      <td>2044.0</td>\n",
       "      <td>2049.0</td>\n",
       "      <td>-0.379134</td>\n",
       "      <td>300.0</td>\n",
       "      <td>1.988255e+09</td>\n",
       "      <td>dfasadfs</td>\n",
       "      <td>False</td>\n",
       "      <td>False</td>\n",
       "      <td>True</td>\n",
       "    </tr>\n",
       "  </tbody>\n",
       "</table>\n",
       "</div>"
      ],
      "text/plain": [
       "  timestamp         mean   top_3_mean     min     max   std_dev  median  \\\n",
       "0   1:51:43  2046.726000  2057.666667  2035.0  2060.0  3.452186  2047.0   \n",
       "1   1:51:46  2046.619333  2053.000000  2040.0  2053.0  3.580469  2047.0   \n",
       "2   1:51:50  2046.598000  2056.000000  2030.0  2059.0  3.592826  2047.0   \n",
       "3   1:51:53  2046.560000  2054.000000  2039.0  2055.0  3.414830  2047.0   \n",
       "4   1:51:56  2046.656667  2055.000000  2034.0  2057.0  3.356802  2048.0   \n",
       "\n",
       "       q1      q3  skewness  dominant_freq        energy      name  \\\n",
       "0  2043.0  2049.0 -0.152574          601.0  1.988682e+09     Yusuf   \n",
       "1  2044.0  2050.0 -0.150615          300.0  1.988028e+09     baba    \n",
       "2  2044.0  2049.0 -0.370125          300.0  1.987897e+09      huhu   \n",
       "3  2044.0  2049.0 -0.321296          300.0  1.987662e+09    sddass   \n",
       "4  2044.0  2049.0 -0.379134          300.0  1.988255e+09  dfasadfs   \n",
       "\n",
       "   activity_running  activity_waiting  activity_walking  \n",
       "0             False             False              True  \n",
       "1             False             False              True  \n",
       "2             False             False              True  \n",
       "3             False             False              True  \n",
       "4             False             False              True  "
      ]
     },
     "execution_count": 31,
     "metadata": {},
     "output_type": "execute_result"
    }
   ],
   "source": [
    "df_encoded.head()"
   ]
  },
  {
   "cell_type": "code",
   "execution_count": null,
   "id": "27e561ec-8c5c-4603-b935-5dab6ea63ade",
   "metadata": {},
   "outputs": [],
   "source": []
  }
 ],
 "metadata": {
  "kernelspec": {
   "display_name": "Python [conda env:base] *",
   "language": "python",
   "name": "conda-base-py"
  },
  "language_info": {
   "codemirror_mode": {
    "name": "ipython",
    "version": 3
   },
   "file_extension": ".py",
   "mimetype": "text/x-python",
   "name": "python",
   "nbconvert_exporter": "python",
   "pygments_lexer": "ipython3",
   "version": "3.12.7"
  }
 },
 "nbformat": 4,
 "nbformat_minor": 5
}
