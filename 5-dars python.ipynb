{
 "cells": [
  {
   "cell_type": "code",
   "execution_count": null,
   "id": "5a40a8f9-8323-464d-8fdc-03b0d3fe808f",
   "metadata": {},
   "outputs": [],
   "source": [
    "# Sonni berilgan darajaga ko'taring(turli xil usullar bn)\n",
    "#Berilgan sonni ildizini toping\n",
    "# 2 ta int berilganda True qaytaring agar ular bir xil oxirgi raqamga ega bo'lsa\n",
    "# Berilgan 3 xonali sonning raqamlar yigindisini aniqlang\n",
    "# Berilgan  2 ta xarfan uzun bo'lgan so'zni dastlabki 2 ta xarfidan tashkil topgan soz tuzing agar 2 tadan kam bolsa $ belgisini ishlatiling agar so'z faqat ''  dan iborat bolsa 2 ta $ ni qaytaring\n",
    "#a,b,c  musbat tomonli uchburchak teng tomonli bo'ladi/togri burchakli/ teng yonli\n",
    "# a va b  musbat sonning faqat bittasi/ikkalasi toq son\n",
    "# a va b  musbat sonlarning ikkalasi xam toq xam musbat\n",
    "#Berilgan  musbat sonni oxirgi raqami 0 bilan tugasa '10 ga bo'linadigan son  5 bn tugasa  '5 ga bo'linadigan bo'lsa ' aks xolda 'qaytadan son kiriting deagn yozuvni ekranga chiqaring(2 ta usulda koring)\n",
    "#Agar berilgan  juft uzunllikka ega bo'lgan so'zning bosh xarfi 'a' yoki 'A' bo'sa bosh xarf agar z yoki Z bo'lsa oxirgi xarf aks xolda xatolik deb ekranga chiqaring"
   ]
  },
  {
   "cell_type": "markdown",
   "id": "50d4a97a-d4c2-486b-8184-a066e1dd129e",
   "metadata": {},
   "source": [
    "# Sonni berilgan darajaga ko'taring(turli xil usullar bn)"
   ]
  },
  {
   "cell_type": "code",
   "execution_count": 8,
   "id": "729421bc-3112-4307-bf11-eb0c9ea34f39",
   "metadata": {},
   "outputs": [
    {
     "name": "stdin",
     "output_type": "stream",
     "text": [
      "sonni kiriting 5\n",
      "darajani kiriting 2\n"
     ]
    },
    {
     "name": "stdout",
     "output_type": "stream",
     "text": [
      "5 ning 2 chi darasaji bu: 25\n"
     ]
    }
   ],
   "source": [
    "a=int(input('sonni kiriting')) \n",
    "b=int(input('darajani kiriting'))\n",
    "print(a,'ning', b, 'chi darasaji bu:',a**b)"
   ]
  },
  {
   "cell_type": "markdown",
   "id": "0b0df05c-2d54-4571-8762-45162ce53bd9",
   "metadata": {},
   "source": [
    "# 2usul\n",
    "# Sonni berilgan darajaga ko'taring(turli xil usullar bn)\n"
   ]
  },
  {
   "cell_type": "code",
   "execution_count": 115,
   "id": "6a59d615-277b-4817-9561-5119aa3ff045",
   "metadata": {},
   "outputs": [
    {
     "name": "stdin",
     "output_type": "stream",
     "text": [
      "sonni kiriting 5\n",
      "darajani kiriting 2\n"
     ]
    },
    {
     "data": {
      "text/plain": [
       "25"
      ]
     },
     "execution_count": 115,
     "metadata": {},
     "output_type": "execute_result"
    }
   ],
   "source": [
    "a=int(input('sonni kiriting')) \n",
    "b=int(input('darajani kiriting'))\n",
    "pow(a,b)"
   ]
  },
  {
   "cell_type": "markdown",
   "id": "01d24d1c-cf42-44ee-8252-a1cb8ba46b91",
   "metadata": {},
   "source": [
    "# Berilgan sonni ildizini toping"
   ]
  },
  {
   "cell_type": "code",
   "execution_count": 22,
   "id": "f12d7fc0-e2b8-4017-b2b1-70fd47c0f127",
   "metadata": {},
   "outputs": [
    {
     "name": "stdin",
     "output_type": "stream",
     "text": [
      "sonni kiriting 5\n"
     ]
    },
    {
     "name": "stdout",
     "output_type": "stream",
     "text": [
      "5 sonining ildizi bu: 2.23606797749979\n"
     ]
    }
   ],
   "source": [
    "a=int(input('sonni kiriting')) \n",
    "print(a,'sonining ildizi bu:', a**0.5)"
   ]
  },
  {
   "cell_type": "markdown",
   "id": "f35cc189-2eb2-4bb2-b61e-91d7671ea593",
   "metadata": {},
   "source": [
    "# 2 ta int berilganda True qaytaring agar ular bir xil oxirgi raqamga ega bo'lsa"
   ]
  },
  {
   "cell_type": "code",
   "execution_count": 31,
   "id": "068037b0-26e5-49e9-b100-ef4b012f0d8b",
   "metadata": {},
   "outputs": [
    {
     "name": "stdin",
     "output_type": "stream",
     "text": [
      "birinchi sonni kiriting 5\n",
      "ikkinchi sonni kiriting 25\n"
     ]
    },
    {
     "name": "stdout",
     "output_type": "stream",
     "text": [
      "True\n"
     ]
    }
   ],
   "source": [
    "a=int(input('birinchi sonni kiriting')) \n",
    "b=int(input('ikkinchi sonni kiriting')) \n",
    "if a%10==b%10:\n",
    "    print('True') \n",
    "else: \n",
    "    print('False') "
   ]
  },
  {
   "cell_type": "markdown",
   "id": "1cc19c72-a5d9-44a2-b714-e6d2f7589825",
   "metadata": {},
   "source": [
    "# Berilgan 3 xonali sonning raqamlar yigindisini aniqlang"
   ]
  },
  {
   "cell_type": "code",
   "execution_count": 42,
   "id": "6eede86b-4a60-4c89-b141-53999544d5c9",
   "metadata": {},
   "outputs": [
    {
     "name": "stdin",
     "output_type": "stream",
     "text": [
      "3xonali sonni kiriting 256\n"
     ]
    },
    {
     "name": "stdout",
     "output_type": "stream",
     "text": [
      "13\n"
     ]
    }
   ],
   "source": [
    "a=int(input('3xonali sonni kiriting')) \n",
    "print(a//100+a//10%10+a%10)"
   ]
  },
  {
   "cell_type": "markdown",
   "id": "60dede16-70e1-4cc7-b7c2-ce84ab63458e",
   "metadata": {},
   "source": [
    "# Berilgan  2 ta xarfdan uzun bo'lgan so'zni dastlabki 2 ta xarfidan tashkil topgan soz tuzing agar 2 tadan kam bolsa $ belgisini ishlatiling agar so'z faqat ''  dan iborat bolsa 2 ta $ ni qaytaring\n"
   ]
  },
  {
   "cell_type": "code",
   "execution_count": 127,
   "id": "a0dc4b35-16bc-4ce6-96ee-3e1adfe08ffb",
   "metadata": {},
   "outputs": [
    {
     "name": "stdin",
     "output_type": "stream",
     "text": [
      "sozni kiriting \n"
     ]
    },
    {
     "name": "stdout",
     "output_type": "stream",
     "text": [
      "$$\n"
     ]
    }
   ],
   "source": [
    "a=str(input('sozni kiriting'))\n",
    "if len(a)>2:\n",
    "    print(a[0]+a[1]) \n",
    "elif 0<len(a)<=2:\n",
    "    print('$')\n",
    "elif len(a)==0:\n",
    "    print('$$')\n",
    "    \n"
   ]
  },
  {
   "cell_type": "markdown",
   "id": "b0eab069-712a-47ae-b3da-df351e8fa3ee",
   "metadata": {},
   "source": [
    "#a,b,c  musbat tomonli uchburchak teng tomonli bo'ladi/togri burchakli/ teng yonli"
   ]
  },
  {
   "cell_type": "code",
   "execution_count": 148,
   "id": "525697cd-6ed5-47e2-a4fb-5ed6fb8ab3d1",
   "metadata": {},
   "outputs": [
    {
     "name": "stdin",
     "output_type": "stream",
     "text": [
      "uchburchakning birinchi tomonini kiriting 7\n",
      "uchburchakning ikkinchi tomonini kiriting 8\n",
      "uchburchakning uchinchi tomonini kiriting 9\n"
     ]
    },
    {
     "name": "stdout",
     "output_type": "stream",
     "text": [
      "bu uchburchakning turi oddiy\n"
     ]
    }
   ],
   "source": [
    "a=int(input('uchburchakning birinchi tomonini kiriting'))\n",
    "b=int(input('uchburchakning ikkinchi tomonini kiriting'))\n",
    "c=int(input('uchburchakning uchinchi tomonini kiriting'))\n",
    "a>0, b>0, c>0\n",
    "if a==b==c:\n",
    "    print('teng tomonli uchburchak')\n",
    "elif a==b or a==c or b==c:\n",
    "    print('teng yonli uchburchak') \n",
    "elif a**2+b**2==c**2 or a**2+c**2==b**2 or c**2+b**2==a**2:\n",
    "    print('tugri burchakli uchburchak') \n",
    "elif a<0 or b<0 or c<0:\n",
    "    print('uchburchak tomoni manfiy bulmaydi') \n",
    "else:\n",
    "    print('bu uchburchakning turi oddiy') "
   ]
  },
  {
   "cell_type": "markdown",
   "id": "f54f5f6c-17ec-49d0-98e9-848937a1dd20",
   "metadata": {},
   "source": [
    "# a va b  musbat sonning faqat bittasi/ikkalasi toq son"
   ]
  },
  {
   "cell_type": "code",
   "execution_count": 177,
   "id": "2ca2d27d-fafa-4332-b03a-6177058c254d",
   "metadata": {},
   "outputs": [
    {
     "name": "stdin",
     "output_type": "stream",
     "text": [
      "birinchi sonni kiriting 7\n",
      "ikkinchi sonni kiriting 9\n"
     ]
    },
    {
     "name": "stdout",
     "output_type": "stream",
     "text": [
      "ikkala son ham toq\n"
     ]
    }
   ],
   "source": [
    "a=int(input('birinchi sonni kiriting'))\n",
    "b=int(input('ikkinchi sonni kiriting'))\n",
    "if a>0 and b>0:\n",
    "    if a%2==1 and b%2==1:\n",
    "        print('ikkala son ham toq')\n",
    "    elif a%2==1 or b%2==1:\n",
    "        print('bu ikkalasidan faqat bittasi toq son')\n",
    "    else:\n",
    "        print('ikkala son ham juft')\n",
    "else:\n",
    "    print('siz manfiy son kiritdingiz')"
   ]
  },
  {
   "cell_type": "markdown",
   "id": "7680e9e9-9be2-4dea-9696-8e7554a2be3b",
   "metadata": {},
   "source": [
    "# a va b  musbat sonlarning ikkalasi xam toq xam musbat"
   ]
  },
  {
   "cell_type": "code",
   "execution_count": 182,
   "id": "0efe9d1d-3cda-4efa-b26c-deb48d67e032",
   "metadata": {},
   "outputs": [
    {
     "name": "stdin",
     "output_type": "stream",
     "text": [
      "birinchi sonni kiriting 7\n",
      "ikkinchi sonni kiriting 5\n"
     ]
    },
    {
     "name": "stdout",
     "output_type": "stream",
     "text": [
      "ikkala son ham toq ham musbat\n"
     ]
    }
   ],
   "source": [
    "a=int(input('birinchi sonni kiriting'))\n",
    "b=int(input('ikkinchi sonni kiriting'))\n",
    "if a>0 and b>0 and a%2==1 and b%2==1:\n",
    "    print('ikkala son ham toq ham musbat')\n",
    "else:\n",
    "    print('siz just yoki manfiy son kiritdingiz')"
   ]
  },
  {
   "cell_type": "markdown",
   "id": "a2ee459b-8e38-4f0a-8b75-967b4d3fc1fc",
   "metadata": {},
   "source": [
    "# Berilgan  musbat sonni oxirgi raqami 0 bilan tugasa '10 ga bo'linadigan son 5 bn tugasa  '5 ga bo'linadigan bo'lsa ' aks xolda 'qaytadan son kiriting deagn yozuvni ekranga chiqaring(2 ta usulda koring)"
   ]
  },
  {
   "cell_type": "code",
   "execution_count": 200,
   "id": "0b8a87a0-c5c7-4d27-8151-0a548651cc44",
   "metadata": {},
   "outputs": [
    {
     "name": "stdin",
     "output_type": "stream",
     "text": [
      "birinchi sonni kiriting -70\n"
     ]
    },
    {
     "name": "stdout",
     "output_type": "stream",
     "text": [
      "qaytadan son kiriting\n"
     ]
    }
   ],
   "source": [
    "a=int(input('sonni kiriting'))\n",
    "if a>0 and a%10==0:\n",
    "    print('10ga bulinadigan son')\n",
    "elif a>0 and a%5==0:\n",
    "    print('5ga bulinadigan son')\n",
    "else:\n",
    "    print('qaytadan son kiriting')"
   ]
  },
  {
   "cell_type": "markdown",
   "id": "1e861eba-3911-4855-baf7-e217a44525d9",
   "metadata": {},
   "source": [
    "# Agar berilgan  juft uzunllikka ega bo'lgan so'zning bosh xarfi 'a' yoki 'A' bo'sa bosh xarf agar z yoki Z bo'lsa oxirgi xarf aks xolda xatolik deb ekranga chiqaring"
   ]
  },
  {
   "cell_type": "code",
   "execution_count": 221,
   "id": "367ca07a-b783-4bda-a253-9e0e7fe00fc7",
   "metadata": {},
   "outputs": [
    {
     "name": "stdin",
     "output_type": "stream",
     "text": [
      "suzni kiriting zazu\n"
     ]
    },
    {
     "name": "stdout",
     "output_type": "stream",
     "text": [
      "oxirgi harf\n"
     ]
    }
   ],
   "source": [
    "a=str(input('suzni kiriting'))\n",
    "if len(a)%2==0:\n",
    "    if a[0]=='a' or a[0]=='A':\n",
    "        print('bosh harf')\n",
    "    elif a[0]=='z' or a[0]=='Z':\n",
    "        print('oxirgi harf')\n",
    "    else:\n",
    "        print('xatolik')\n",
    "else:\n",
    "    print('berilgan suz just uzunlikka ega emas')"
   ]
  },
  {
   "cell_type": "code",
   "execution_count": null,
   "id": "1c320b76-df6c-4bd4-bcdf-4f1807501b84",
   "metadata": {},
   "outputs": [],
   "source": []
  }
 ],
 "metadata": {
  "kernelspec": {
   "display_name": "Python [conda env:base] *",
   "language": "python",
   "name": "conda-base-py"
  },
  "language_info": {
   "codemirror_mode": {
    "name": "ipython",
    "version": 3
   },
   "file_extension": ".py",
   "mimetype": "text/x-python",
   "name": "python",
   "nbconvert_exporter": "python",
   "pygments_lexer": "ipython3",
   "version": "3.12.7"
  }
 },
 "nbformat": 4,
 "nbformat_minor": 5
}
