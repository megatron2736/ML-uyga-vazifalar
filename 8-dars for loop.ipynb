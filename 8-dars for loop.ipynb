{
 "cells": [
  {
   "cell_type": "code",
   "execution_count": null,
   "id": "3ad7b657-fb50-412c-9f10-fa0742762c02",
   "metadata": {},
   "outputs": [],
   "source": [
    "# 5 dan 20gacha sonlarni yig'indisini toping\n",
    "# 5 dan 20gacha sonlarni ko'paytmasini  toping\n",
    "# 1 dan 100 gacha sonlarni 3 xam 5 ga xam bo'linadigan sonlarni  toping\n",
    "# 1 dan 100 gacha sonlarni 3 xam 5 ga xam bo'linadigan sonlarni yigindisini toping\n",
    "# 1 dan 10 gacha sonlarni xar birini kubini toping\n",
    "#Izoh yuqoridagilarni barchasida f-stringdan foydalaning"
   ]
  },
  {
   "cell_type": "markdown",
   "id": "30fad416-efa6-4a2d-816a-c876f8c05eb9",
   "metadata": {},
   "source": [
    "# 5 dan 20gacha sonlarni yig'indisini toping"
   ]
  },
  {
   "cell_type": "code",
   "execution_count": 4,
   "id": "bd5a23f1-2d71-431d-9ab2-7e5aa4b6876e",
   "metadata": {},
   "outputs": [
    {
     "name": "stdout",
     "output_type": "stream",
     "text": [
      "5dan 20gacha sonlar yigindisi 200ga teng\n"
     ]
    }
   ],
   "source": [
    "total=0\n",
    "for i in range(5,21):\n",
    "    total+=i\n",
    "print(f\"5dan 20gacha sonlar yigindisi {total}ga teng\")"
   ]
  },
  {
   "cell_type": "markdown",
   "id": "9d94a36c-1d7d-4ad5-82ae-6204e064edff",
   "metadata": {},
   "source": [
    "# 1 dan 100 gacha sonlarni 3 xam 5 ga xam bo'linadigan sonlarni  toping"
   ]
  },
  {
   "cell_type": "code",
   "execution_count": 42,
   "id": "6cee52c7-668c-4497-997d-bd676a807ad8",
   "metadata": {},
   "outputs": [
    {
     "name": "stdout",
     "output_type": "stream",
     "text": [
      "3ga va 5ga bulinadigan sonlar: 15\n",
      "3ga va 5ga bulinadigan sonlar: 30\n",
      "3ga va 5ga bulinadigan sonlar: 45\n",
      "3ga va 5ga bulinadigan sonlar: 60\n",
      "3ga va 5ga bulinadigan sonlar: 75\n",
      "3ga va 5ga bulinadigan sonlar: 90\n"
     ]
    }
   ],
   "source": [
    " for i in range(15,101):\n",
    "    if i%3==0 and i%5==0:\n",
    "        print(f\"3ga va 5ga bulinadigan sonlar: {i}\")"
   ]
  },
  {
   "cell_type": "markdown",
   "id": "cbaf455d-3299-49b7-b852-2ee2a8085340",
   "metadata": {},
   "source": [
    "# 1 dan 100 gacha sonlarni 3 xam 5 ga xam bo'linadigan sonlarni yigindisini toping\n"
   ]
  },
  {
   "cell_type": "code",
   "execution_count": 40,
   "id": "1ccab28c-93ce-47a1-9093-ab8c94f920ad",
   "metadata": {},
   "outputs": [
    {
     "name": "stdout",
     "output_type": "stream",
     "text": [
      "1dan 100gacha sonlar orasida 3 va 5ga karrali sonlar yig'indisi: 315ga teng\n"
     ]
    }
   ],
   "source": [
    "total=0\n",
    "for i in range(1,100):\n",
    "    if i%3==0 and i%5==0:\n",
    "        total+=i\n",
    "print(f\"1dan 100gacha sonlar orasida 3 va 5ga karrali sonlar yig'indisi: {total}ga teng\")"
   ]
  },
  {
   "cell_type": "markdown",
   "id": "3b748ad2-b147-4a61-80a9-ddc13e0fe385",
   "metadata": {},
   "source": [
    "# 1 dan 10 gacha sonlarni xar birini kubini toping"
   ]
  },
  {
   "cell_type": "code",
   "execution_count": 36,
   "id": "d571c7d7-7f78-409b-b23b-9fbbef8cf42d",
   "metadata": {},
   "outputs": [
    {
     "name": "stdout",
     "output_type": "stream",
     "text": [
      "1 sonining kubi: 1ga teng\n",
      "2 sonining kubi: 8ga teng\n",
      "3 sonining kubi: 27ga teng\n",
      "4 sonining kubi: 64ga teng\n",
      "5 sonining kubi: 125ga teng\n",
      "6 sonining kubi: 216ga teng\n",
      "7 sonining kubi: 343ga teng\n",
      "8 sonining kubi: 512ga teng\n",
      "9 sonining kubi: 729ga teng\n",
      "10 sonining kubi: 1000ga teng\n"
     ]
    }
   ],
   "source": [
    "for i in range(1,11):\n",
    "    natija=i**3\n",
    "    print(f\"{i} sonining kubi: {natija}ga teng\")"
   ]
  },
  {
   "cell_type": "code",
   "execution_count": null,
   "id": "a00b4f73-5219-4c9f-ab70-6c39e028b157",
   "metadata": {},
   "outputs": [],
   "source": []
  }
 ],
 "metadata": {
  "kernelspec": {
   "display_name": "Python [conda env:base] *",
   "language": "python",
   "name": "conda-base-py"
  },
  "language_info": {
   "codemirror_mode": {
    "name": "ipython",
    "version": 3
   },
   "file_extension": ".py",
   "mimetype": "text/x-python",
   "name": "python",
   "nbconvert_exporter": "python",
   "pygments_lexer": "ipython3",
   "version": "3.12.7"
  }
 },
 "nbformat": 4,
 "nbformat_minor": 5
}
