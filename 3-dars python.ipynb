{
 "cells": [
  {
   "cell_type": "markdown",
   "id": "6f3851d0-3bac-4a58-9dc7-4f10c7717aee",
   "metadata": {},
   "source": [
    "#3-dars uyga vazifa "
   ]
  },
  {
   "cell_type": "code",
   "execution_count": null,
   "id": "199611b8-5977-47d2-81cf-d34afc821f42",
   "metadata": {},
   "outputs": [],
   "source": [
    "# Parol yasang va u to'g'ri bo'lsa mumkin aks xolda xato!Qayta urunib ko'ring degan yozuvni ekranga chiqaring\n",
    "# O'quvchini olgan baxolariga ko'ra tarif bering(5:Alo, 4:Yaxshi, 3: O'rta, 2: Yomon)\n",
    "# Agar son xam 2 ga xam 3 ga bo'linishini ko'rsating(BOoleandan foydalaning)\n",
    "# Agar son xam 2 ga xam 3 ga bo'linsa ekranga 6 ga karrali son deb chiqaring aks  xolda xatolik bor deb ekranga chiqaring "
   ]
  },
  {
   "cell_type": "markdown",
   "id": "a5ad140b-0a72-4479-ac01-242db1bcecca",
   "metadata": {},
   "source": [
    "# Parol yasang va u to'g'ri bo'lsa mumkin aks xolda xato!Qayta urunib ko'ring degan yozuvni ekranga chiqaring"
   ]
  },
  {
   "cell_type": "code",
   "execution_count": 59,
   "id": "9c7ef9f0-2df0-42c4-8d90-73679783d431",
   "metadata": {
    "scrolled": true
   },
   "outputs": [
    {
     "name": "stdin",
     "output_type": "stream",
     "text": [
      "parolni ekranga kiriting:  564\n"
     ]
    },
    {
     "name": "stdout",
     "output_type": "stream",
     "text": [
      "sizning kiritgan parolingiz xato, Xayr\n"
     ]
    }
   ],
   "source": [
    "parol=int(input('parolni ekranga kiriting: '))\n",
    "if parol==2564:\n",
    "    print('sizga kirishga ruxsat bor, Xush kelibsiz') \n",
    "else: \n",
    "    print('sizning kiritgan parolingiz xato, Xayr') \n",
    "    "
   ]
  },
  {
   "cell_type": "markdown",
   "id": "e1ca3de5-8a08-400c-ad78-f6028f6c8782",
   "metadata": {},
   "source": [
    "# O'quvchini olgan baxolariga ko'ra tarif bering(5:Alo, 4:Yaxshi, 3: O'rta, 2: Yomon)"
   ]
  },
  {
   "cell_type": "code",
   "execution_count": 70,
   "id": "9bda0d5e-8e08-482e-b931-921bb2ecd4c9",
   "metadata": {},
   "outputs": [
    {
     "name": "stdin",
     "output_type": "stream",
     "text": [
      "olgan bahongizni kiriting 88\n"
     ]
    },
    {
     "name": "stdout",
     "output_type": "stream",
     "text": [
      "Bahoni togri kiriting\n"
     ]
    }
   ],
   "source": [
    "baho=int(input('olgan bahongizni kiriting'))\n",
    "if baho==5:\n",
    "    print('Alo') \n",
    "elif baho==4: \n",
    "    print('Yaxshi') \n",
    "elif baho==3:\n",
    "    print('Orta')\n",
    "elif baho==2:\n",
    "    print('Yomon') \n",
    "else: \n",
    "    print('Bahoni togri kiriting') \n",
    "    \n"
   ]
  },
  {
   "cell_type": "markdown",
   "id": "79ddd0fe-50d8-4a90-84e0-4e51e071492e",
   "metadata": {},
   "source": [
    "# Agar son xam 2 ga xam 3 ga bo'linishini ko'rsating(BOoleandan foydalaning)"
   ]
  },
  {
   "cell_type": "code",
   "execution_count": 89,
   "id": "3f7cac0c-af4c-4b18-b40c-95c377920546",
   "metadata": {},
   "outputs": [
    {
     "name": "stdin",
     "output_type": "stream",
     "text": [
      "sonni kiriting 55\n"
     ]
    },
    {
     "name": "stdout",
     "output_type": "stream",
     "text": [
      "bu son ikkiga yoki 3ga bolinmaydi, qayta omadingizni sinab koring\n"
     ]
    }
   ],
   "source": [
    "son=int(input('sonni kiriting'))\n",
    "if son%2==0 and son%3==0:\n",
    "        print('bu son ham ikkiga ham uchga bolinadi') \n",
    "else:\n",
    "        print('bu son ikkiga yoki 3ga bolinmaydi, qayta omadingizni sinab koring') "
   ]
  },
  {
   "cell_type": "markdown",
   "id": "0056c859-b022-4e05-bb9e-9c51e7623883",
   "metadata": {},
   "source": [
    "# Agar son xam 2 ga xam 3 ga bo'linsa ekranga 6 ga karrali son deb chiqaring aks  xolda xatolik bor deb ekranga chiqaring "
   ]
  },
  {
   "cell_type": "code",
   "execution_count": 100,
   "id": "876fdd3b-c673-4535-b3c5-6faf902e044c",
   "metadata": {},
   "outputs": [
    {
     "name": "stdin",
     "output_type": "stream",
     "text": [
      "sonni kiriting 66\n"
     ]
    },
    {
     "name": "stdout",
     "output_type": "stream",
     "text": [
      "6ga karrali son\n"
     ]
    }
   ],
   "source": [
    "son=int(input('sonni kiriting'))\n",
    "if son%2==0 and son%3==0:\n",
    "        print('6ga karrali son') \n",
    "else:\n",
    "        print('6ga karrali son emas') "
   ]
  },
  {
   "cell_type": "code",
   "execution_count": null,
   "id": "81f400c7-58f9-43c9-989d-59a30eaa00e3",
   "metadata": {},
   "outputs": [],
   "source": []
  }
 ],
 "metadata": {
  "kernelspec": {
   "display_name": "Python [conda env:base] *",
   "language": "python",
   "name": "conda-base-py"
  },
  "language_info": {
   "codemirror_mode": {
    "name": "ipython",
    "version": 3
   },
   "file_extension": ".py",
   "mimetype": "text/x-python",
   "name": "python",
   "nbconvert_exporter": "python",
   "pygments_lexer": "ipython3",
   "version": "3.12.7"
  }
 },
 "nbformat": 4,
 "nbformat_minor": 5
}
