{
 "cells": [
  {
   "cell_type": "code",
   "execution_count": 1,
   "id": "d6859481-68aa-4535-854f-b8545f6eafe3",
   "metadata": {},
   "outputs": [],
   "source": [
    "import pandas as pd "
   ]
  },
  {
   "cell_type": "code",
   "execution_count": 3,
   "id": "f2e0e0c2-86f2-4716-b4ab-0546017f3f03",
   "metadata": {},
   "outputs": [],
   "source": [
    "df=pd.read_csv('Employee.csv')"
   ]
  },
  {
   "cell_type": "code",
   "execution_count": 5,
   "id": "9241da1a-0ce7-4da6-9413-8218585c4686",
   "metadata": {},
   "outputs": [
    {
     "name": "stdout",
     "output_type": "stream",
     "text": [
      "<class 'pandas.core.frame.DataFrame'>\n",
      "RangeIndex: 38 entries, 0 to 37\n",
      "Data columns (total 10 columns):\n",
      " #   Column          Non-Null Count  Dtype  \n",
      "---  ------          --------------  -----  \n",
      " 0   Education       34 non-null     object \n",
      " 1   JoiningYear     35 non-null     float64\n",
      " 2   City            35 non-null     object \n",
      " 3   PaymentTier     32 non-null     float64\n",
      " 4   Age             35 non-null     float64\n",
      " 5   Gender          34 non-null     object \n",
      " 6   EverBenched     34 non-null     object \n",
      " 7   Experien        34 non-null     float64\n",
      " 8   current salary  34 non-null     object \n",
      " 9   past salary     35 non-null     float64\n",
      "dtypes: float64(5), object(5)\n",
      "memory usage: 3.1+ KB\n"
     ]
    }
   ],
   "source": [
    "df.info()"
   ]
  },
  {
   "cell_type": "code",
   "execution_count": 7,
   "id": "0184cb54-1607-465d-9d4b-7c9b073b7d12",
   "metadata": {},
   "outputs": [
    {
     "data": {
      "text/html": [
       "<div>\n",
       "<style scoped>\n",
       "    .dataframe tbody tr th:only-of-type {\n",
       "        vertical-align: middle;\n",
       "    }\n",
       "\n",
       "    .dataframe tbody tr th {\n",
       "        vertical-align: top;\n",
       "    }\n",
       "\n",
       "    .dataframe thead th {\n",
       "        text-align: right;\n",
       "    }\n",
       "</style>\n",
       "<table border=\"1\" class=\"dataframe\">\n",
       "  <thead>\n",
       "    <tr style=\"text-align: right;\">\n",
       "      <th></th>\n",
       "      <th>Education</th>\n",
       "      <th>JoiningYear</th>\n",
       "      <th>City</th>\n",
       "      <th>PaymentTier</th>\n",
       "      <th>Age</th>\n",
       "      <th>Gender</th>\n",
       "      <th>EverBenched</th>\n",
       "      <th>Experien</th>\n",
       "      <th>current salary</th>\n",
       "      <th>past salary</th>\n",
       "    </tr>\n",
       "  </thead>\n",
       "  <tbody>\n",
       "    <tr>\n",
       "      <th>0</th>\n",
       "      <td>Bachelors</td>\n",
       "      <td>2017.0</td>\n",
       "      <td>Bangalore</td>\n",
       "      <td>3.0</td>\n",
       "      <td>34.0</td>\n",
       "      <td>Male</td>\n",
       "      <td>No</td>\n",
       "      <td>0.0</td>\n",
       "      <td>856352</td>\n",
       "      <td>752364.0</td>\n",
       "    </tr>\n",
       "    <tr>\n",
       "      <th>1</th>\n",
       "      <td>Bachelors</td>\n",
       "      <td>2013.0</td>\n",
       "      <td>Pune</td>\n",
       "      <td>1.0</td>\n",
       "      <td>28.0</td>\n",
       "      <td>Female</td>\n",
       "      <td>No</td>\n",
       "      <td>3.0</td>\n",
       "      <td>845695</td>\n",
       "      <td>742365.0</td>\n",
       "    </tr>\n",
       "    <tr>\n",
       "      <th>2</th>\n",
       "      <td>Bachelors</td>\n",
       "      <td>2014.0</td>\n",
       "      <td>New Delhi</td>\n",
       "      <td>3.0</td>\n",
       "      <td>38.0</td>\n",
       "      <td>Female</td>\n",
       "      <td>No</td>\n",
       "      <td>2.0</td>\n",
       "      <td>835038</td>\n",
       "      <td>732366.0</td>\n",
       "    </tr>\n",
       "    <tr>\n",
       "      <th>3</th>\n",
       "      <td>Masters</td>\n",
       "      <td>2016.0</td>\n",
       "      <td>Bangalore</td>\n",
       "      <td>3.0</td>\n",
       "      <td>27.0</td>\n",
       "      <td>Male</td>\n",
       "      <td>No</td>\n",
       "      <td>5.0</td>\n",
       "      <td>824381</td>\n",
       "      <td>722367.0</td>\n",
       "    </tr>\n",
       "    <tr>\n",
       "      <th>4</th>\n",
       "      <td>Masters</td>\n",
       "      <td>2017.0</td>\n",
       "      <td>Pune</td>\n",
       "      <td>3.0</td>\n",
       "      <td>24.0</td>\n",
       "      <td>Male</td>\n",
       "      <td>Yes</td>\n",
       "      <td>NaN</td>\n",
       "      <td>813724</td>\n",
       "      <td>712368.0</td>\n",
       "    </tr>\n",
       "  </tbody>\n",
       "</table>\n",
       "</div>"
      ],
      "text/plain": [
       "   Education  JoiningYear       City  PaymentTier   Age  Gender EverBenched  \\\n",
       "0  Bachelors       2017.0  Bangalore          3.0  34.0    Male          No   \n",
       "1  Bachelors       2013.0       Pune          1.0  28.0  Female          No   \n",
       "2  Bachelors       2014.0  New Delhi          3.0  38.0  Female          No   \n",
       "3    Masters       2016.0  Bangalore          3.0  27.0    Male          No   \n",
       "4    Masters       2017.0       Pune          3.0  24.0    Male         Yes   \n",
       "\n",
       "   Experien current salary  past salary  \n",
       "0       0.0         856352     752364.0  \n",
       "1       3.0         845695     742365.0  \n",
       "2       2.0         835038     732366.0  \n",
       "3       5.0         824381     722367.0  \n",
       "4       NaN         813724     712368.0  "
      ]
     },
     "execution_count": 7,
     "metadata": {},
     "output_type": "execute_result"
    }
   ],
   "source": [
    "df.head()"
   ]
  },
  {
   "cell_type": "code",
   "execution_count": 9,
   "id": "21a03a0c-a035-49d5-af0e-358370901c7b",
   "metadata": {},
   "outputs": [
    {
     "data": {
      "text/plain": [
       "Education         4\n",
       "JoiningYear       3\n",
       "City              3\n",
       "PaymentTier       6\n",
       "Age               3\n",
       "Gender            4\n",
       "EverBenched       4\n",
       "Experien          4\n",
       "current salary    4\n",
       "past salary       3\n",
       "dtype: int64"
      ]
     },
     "execution_count": 9,
     "metadata": {},
     "output_type": "execute_result"
    }
   ],
   "source": [
    "df.isnull().sum()"
   ]
  },
  {
   "cell_type": "code",
   "execution_count": 11,
   "id": "08fe5fc1-fd15-4b30-8f14-455fb318d02a",
   "metadata": {},
   "outputs": [],
   "source": [
    "bush_katak=df.isnull().sum()>0"
   ]
  },
  {
   "cell_type": "code",
   "execution_count": 13,
   "id": "2a9ea63e-2fa4-47c8-8a1e-1532f48542b1",
   "metadata": {},
   "outputs": [
    {
     "data": {
      "text/plain": [
       "Education         True\n",
       "JoiningYear       True\n",
       "City              True\n",
       "PaymentTier       True\n",
       "Age               True\n",
       "Gender            True\n",
       "EverBenched       True\n",
       "Experien          True\n",
       "current salary    True\n",
       "past salary       True\n",
       "dtype: bool"
      ]
     },
     "execution_count": 13,
     "metadata": {},
     "output_type": "execute_result"
    }
   ],
   "source": [
    "bush_katak"
   ]
  },
  {
   "cell_type": "code",
   "execution_count": 15,
   "id": "928ffa28-d77a-4828-997e-7098ac028b08",
   "metadata": {},
   "outputs": [
    {
     "name": "stderr",
     "output_type": "stream",
     "text": [
      "C:\\Users\\Public\\Documents\\ESTsoft\\CreatorTemp\\ipykernel_8816\\3480344265.py:3: FutureWarning: A value is trying to be set on a copy of a DataFrame or Series through chained assignment using an inplace method.\n",
      "The behavior will change in pandas 3.0. This inplace method will never work because the intermediate object on which we are setting values always behaves as a copy.\n",
      "\n",
      "For example, when doing 'df[col].method(value, inplace=True)', try using 'df.method({col: value}, inplace=True)' or df[col] = df[col].method(value) instead, to perform the operation inplace on the original object.\n",
      "\n",
      "\n",
      "  df[col].fillna(df[col].mode()[0], inplace=True)\n",
      "C:\\Users\\Public\\Documents\\ESTsoft\\CreatorTemp\\ipykernel_8816\\3480344265.py:5: FutureWarning: A value is trying to be set on a copy of a DataFrame or Series through chained assignment using an inplace method.\n",
      "The behavior will change in pandas 3.0. This inplace method will never work because the intermediate object on which we are setting values always behaves as a copy.\n",
      "\n",
      "For example, when doing 'df[col].method(value, inplace=True)', try using 'df.method({col: value}, inplace=True)' or df[col] = df[col].method(value) instead, to perform the operation inplace on the original object.\n",
      "\n",
      "\n",
      "  df[col].fillna(df[col].mean(), inplace=True)\n"
     ]
    }
   ],
   "source": [
    "for col in df.columns[bush_katak]:\n",
    "    if df[col].dtype=='object':\n",
    "        df[col].fillna(df[col].mode()[0], inplace=True)\n",
    "    else:\n",
    "        df[col].fillna(df[col].mean(), inplace=True)"
   ]
  },
  {
   "cell_type": "code",
   "execution_count": 17,
   "id": "12f51a47-2b1d-42ab-8588-f75655cd6ddd",
   "metadata": {},
   "outputs": [
    {
     "name": "stdout",
     "output_type": "stream",
     "text": [
      "<class 'pandas.core.frame.DataFrame'>\n",
      "RangeIndex: 38 entries, 0 to 37\n",
      "Data columns (total 10 columns):\n",
      " #   Column          Non-Null Count  Dtype  \n",
      "---  ------          --------------  -----  \n",
      " 0   Education       38 non-null     object \n",
      " 1   JoiningYear     38 non-null     float64\n",
      " 2   City            38 non-null     object \n",
      " 3   PaymentTier     38 non-null     float64\n",
      " 4   Age             38 non-null     float64\n",
      " 5   Gender          38 non-null     object \n",
      " 6   EverBenched     38 non-null     object \n",
      " 7   Experien        38 non-null     float64\n",
      " 8   current salary  38 non-null     object \n",
      " 9   past salary     38 non-null     float64\n",
      "dtypes: float64(5), object(5)\n",
      "memory usage: 3.1+ KB\n"
     ]
    }
   ],
   "source": [
    "df.info()"
   ]
  },
  {
   "cell_type": "code",
   "execution_count": 19,
   "id": "c385b92f-f977-48d5-ae2d-267783667a33",
   "metadata": {},
   "outputs": [
    {
     "data": {
      "text/html": [
       "<div>\n",
       "<style scoped>\n",
       "    .dataframe tbody tr th:only-of-type {\n",
       "        vertical-align: middle;\n",
       "    }\n",
       "\n",
       "    .dataframe tbody tr th {\n",
       "        vertical-align: top;\n",
       "    }\n",
       "\n",
       "    .dataframe thead th {\n",
       "        text-align: right;\n",
       "    }\n",
       "</style>\n",
       "<table border=\"1\" class=\"dataframe\">\n",
       "  <thead>\n",
       "    <tr style=\"text-align: right;\">\n",
       "      <th></th>\n",
       "      <th>Education</th>\n",
       "      <th>JoiningYear</th>\n",
       "      <th>City</th>\n",
       "      <th>PaymentTier</th>\n",
       "      <th>Age</th>\n",
       "      <th>Gender</th>\n",
       "      <th>EverBenched</th>\n",
       "      <th>Experien</th>\n",
       "      <th>current salary</th>\n",
       "      <th>past salary</th>\n",
       "    </tr>\n",
       "  </thead>\n",
       "  <tbody>\n",
       "    <tr>\n",
       "      <th>0</th>\n",
       "      <td>Bachelors</td>\n",
       "      <td>2017.0</td>\n",
       "      <td>Bangalore</td>\n",
       "      <td>3.0</td>\n",
       "      <td>34.0</td>\n",
       "      <td>Male</td>\n",
       "      <td>No</td>\n",
       "      <td>0.000000</td>\n",
       "      <td>856352</td>\n",
       "      <td>752364.0</td>\n",
       "    </tr>\n",
       "    <tr>\n",
       "      <th>1</th>\n",
       "      <td>Bachelors</td>\n",
       "      <td>2013.0</td>\n",
       "      <td>Pune</td>\n",
       "      <td>1.0</td>\n",
       "      <td>28.0</td>\n",
       "      <td>Female</td>\n",
       "      <td>No</td>\n",
       "      <td>3.000000</td>\n",
       "      <td>845695</td>\n",
       "      <td>742365.0</td>\n",
       "    </tr>\n",
       "    <tr>\n",
       "      <th>2</th>\n",
       "      <td>Bachelors</td>\n",
       "      <td>2014.0</td>\n",
       "      <td>New Delhi</td>\n",
       "      <td>3.0</td>\n",
       "      <td>38.0</td>\n",
       "      <td>Female</td>\n",
       "      <td>No</td>\n",
       "      <td>2.000000</td>\n",
       "      <td>835038</td>\n",
       "      <td>732366.0</td>\n",
       "    </tr>\n",
       "    <tr>\n",
       "      <th>3</th>\n",
       "      <td>Masters</td>\n",
       "      <td>2016.0</td>\n",
       "      <td>Bangalore</td>\n",
       "      <td>3.0</td>\n",
       "      <td>27.0</td>\n",
       "      <td>Male</td>\n",
       "      <td>No</td>\n",
       "      <td>5.000000</td>\n",
       "      <td>824381</td>\n",
       "      <td>722367.0</td>\n",
       "    </tr>\n",
       "    <tr>\n",
       "      <th>4</th>\n",
       "      <td>Masters</td>\n",
       "      <td>2017.0</td>\n",
       "      <td>Pune</td>\n",
       "      <td>3.0</td>\n",
       "      <td>24.0</td>\n",
       "      <td>Male</td>\n",
       "      <td>Yes</td>\n",
       "      <td>2.294118</td>\n",
       "      <td>813724</td>\n",
       "      <td>712368.0</td>\n",
       "    </tr>\n",
       "  </tbody>\n",
       "</table>\n",
       "</div>"
      ],
      "text/plain": [
       "   Education  JoiningYear       City  PaymentTier   Age  Gender EverBenched  \\\n",
       "0  Bachelors       2017.0  Bangalore          3.0  34.0    Male          No   \n",
       "1  Bachelors       2013.0       Pune          1.0  28.0  Female          No   \n",
       "2  Bachelors       2014.0  New Delhi          3.0  38.0  Female          No   \n",
       "3    Masters       2016.0  Bangalore          3.0  27.0    Male          No   \n",
       "4    Masters       2017.0       Pune          3.0  24.0    Male         Yes   \n",
       "\n",
       "   Experien current salary  past salary  \n",
       "0  0.000000         856352     752364.0  \n",
       "1  3.000000         845695     742365.0  \n",
       "2  2.000000         835038     732366.0  \n",
       "3  5.000000         824381     722367.0  \n",
       "4  2.294118         813724     712368.0  "
      ]
     },
     "execution_count": 19,
     "metadata": {},
     "output_type": "execute_result"
    }
   ],
   "source": [
    "df.head()"
   ]
  },
  {
   "cell_type": "code",
   "execution_count": 21,
   "id": "df1217db-257d-48de-b119-c1a2ff86f82e",
   "metadata": {},
   "outputs": [
    {
     "data": {
      "text/plain": [
       "Education         True\n",
       "JoiningYear       True\n",
       "City              True\n",
       "PaymentTier       True\n",
       "Age               True\n",
       "Gender            True\n",
       "EverBenched       True\n",
       "Experien          True\n",
       "current salary    True\n",
       "past salary       True\n",
       "dtype: bool"
      ]
     },
     "execution_count": 21,
     "metadata": {},
     "output_type": "execute_result"
    }
   ],
   "source": [
    "bush_katak"
   ]
  },
  {
   "cell_type": "code",
   "execution_count": 23,
   "id": "47f50f69-d030-4f82-ab92-f9dbb8a9bba9",
   "metadata": {},
   "outputs": [
    {
     "data": {
      "text/plain": [
       "Education         0\n",
       "JoiningYear       0\n",
       "City              0\n",
       "PaymentTier       0\n",
       "Age               0\n",
       "Gender            0\n",
       "EverBenched       0\n",
       "Experien          0\n",
       "current salary    0\n",
       "past salary       0\n",
       "dtype: int64"
      ]
     },
     "execution_count": 23,
     "metadata": {},
     "output_type": "execute_result"
    }
   ],
   "source": [
    "df.isnull().sum()"
   ]
  },
  {
   "cell_type": "markdown",
   "id": "2cebacca-0ec6-4fb4-b07f-52c3b2fedf59",
   "metadata": {},
   "source": [
    "# Yozuvli ustunlarni topamiz"
   ]
  },
  {
   "cell_type": "code",
   "execution_count": 25,
   "id": "3295a7c0-63a4-461d-9ba5-00b4a5321100",
   "metadata": {},
   "outputs": [],
   "source": [
    "yozuvli_ustun=df.select_dtypes(include=['object','category']).columns"
   ]
  },
  {
   "cell_type": "code",
   "execution_count": 27,
   "id": "45c411c2-30eb-4bf4-a27d-2c575790464b",
   "metadata": {},
   "outputs": [
    {
     "data": {
      "text/plain": [
       "Index(['Education', 'City', 'Gender', 'EverBenched', 'current salary'], dtype='object')"
      ]
     },
     "execution_count": 27,
     "metadata": {},
     "output_type": "execute_result"
    }
   ],
   "source": [
    "yozuvli_ustun"
   ]
  },
  {
   "cell_type": "code",
   "execution_count": 29,
   "id": "e73bc8a5-4b20-4169-9833-6670b9937242",
   "metadata": {},
   "outputs": [
    {
     "name": "stdout",
     "output_type": "stream",
     "text": [
      "column Education: 3\n",
      "column City: 3\n",
      "column Gender: 2\n",
      "column EverBenched: 2\n",
      "column current salary: 34\n"
     ]
    }
   ],
   "source": [
    "for col in yozuvli_ustun:\n",
    "    print(f\"column {col}: {df[col].nunique()}\")"
   ]
  },
  {
   "cell_type": "code",
   "execution_count": 31,
   "id": "4c37b391-f76d-4d2a-bee6-c41f275f38c6",
   "metadata": {},
   "outputs": [
    {
     "data": {
      "text/plain": [
       "current salary\n",
       "462043       5\n",
       "856352       1\n",
       "632555       1\n",
       "621898       1\n",
       "611241       1\n",
       "579270       1\n",
       "568613       1\n",
       "557956       1\n",
       "547299       1\n",
       "653869       1\n",
       "536642       1\n",
       "525985       1\n",
       "515328       1\n",
       "koreanwon    1\n",
       "494014       1\n",
       "483357       1\n",
       "643212       1\n",
       "664526       1\n",
       "845695       1\n",
       "675183       1\n",
       "685840       1\n",
       "696497       1\n",
       "dirham       1\n",
       "717811       1\n",
       "728468       1\n",
       "739125       1\n",
       "771096       1\n",
       "781753       1\n",
       "792410       1\n",
       "803067       1\n",
       "813724       1\n",
       "824381       1\n",
       "835038       1\n",
       "472700       1\n",
       "Name: count, dtype: int64"
      ]
     },
     "execution_count": 31,
     "metadata": {},
     "output_type": "execute_result"
    }
   ],
   "source": [
    "df['current salary'].value_counts()"
   ]
  },
  {
   "cell_type": "code",
   "execution_count": 93,
   "id": "6571fcf9-41ae-4944-a9c7-b562222673bb",
   "metadata": {},
   "outputs": [
    {
     "data": {
      "text/plain": [
       "array(['856352', '845695', '835038', '824381', '813724', '803067',\n",
       "       '792410', '781753', '771096', '462043', '739125', '728468',\n",
       "       '717811', 'dirham', '696497', '685840', '675183', '664526',\n",
       "       '653869', '643212', '632555', '621898', '611241', '579270',\n",
       "       '568613', '557956', '547299', '536642', '525985', '515328',\n",
       "       'koreanwon', '494014', '483357', '472700'], dtype=object)"
      ]
     },
     "execution_count": 93,
     "metadata": {},
     "output_type": "execute_result"
    }
   ],
   "source": [
    "df['current salary'].unique()"
   ]
  },
  {
   "cell_type": "code",
   "execution_count": 33,
   "id": "edcc0217-4ba6-443c-9f81-fb3d1f51dd73",
   "metadata": {},
   "outputs": [],
   "source": [
    "df['current salary']=pd.to_numeric(df['current salary'], errors='coerce')"
   ]
  },
  {
   "cell_type": "code",
   "execution_count": 35,
   "id": "5303def2-d03a-4812-b2f7-369c97515ffa",
   "metadata": {},
   "outputs": [
    {
     "data": {
      "text/plain": [
       "0     856352.0\n",
       "1     845695.0\n",
       "2     835038.0\n",
       "3     824381.0\n",
       "4     813724.0\n",
       "5     803067.0\n",
       "6     792410.0\n",
       "7     781753.0\n",
       "8     771096.0\n",
       "9     462043.0\n",
       "10    462043.0\n",
       "11    739125.0\n",
       "12    728468.0\n",
       "13    717811.0\n",
       "14         NaN\n",
       "15    696497.0\n",
       "16    685840.0\n",
       "17    675183.0\n",
       "18    664526.0\n",
       "19    653869.0\n",
       "20    643212.0\n",
       "21    632555.0\n",
       "22    621898.0\n",
       "23    611241.0\n",
       "24    462043.0\n",
       "25    462043.0\n",
       "26    579270.0\n",
       "27    568613.0\n",
       "28    557956.0\n",
       "29    547299.0\n",
       "30    536642.0\n",
       "31    525985.0\n",
       "32    515328.0\n",
       "33         NaN\n",
       "34    494014.0\n",
       "35    483357.0\n",
       "36    472700.0\n",
       "37    462043.0\n",
       "Name: current salary, dtype: float64"
      ]
     },
     "execution_count": 35,
     "metadata": {},
     "output_type": "execute_result"
    }
   ],
   "source": [
    "df['current salary']"
   ]
  },
  {
   "cell_type": "code",
   "execution_count": 41,
   "id": "eda95ccc-e1a2-4d9a-b255-9dec4c4ee7e8",
   "metadata": {},
   "outputs": [
    {
     "name": "stdout",
     "output_type": "stream",
     "text": [
      "<class 'pandas.core.frame.DataFrame'>\n",
      "RangeIndex: 38 entries, 0 to 37\n",
      "Data columns (total 10 columns):\n",
      " #   Column          Non-Null Count  Dtype  \n",
      "---  ------          --------------  -----  \n",
      " 0   Education       38 non-null     object \n",
      " 1   JoiningYear     38 non-null     float64\n",
      " 2   City            38 non-null     object \n",
      " 3   PaymentTier     38 non-null     float64\n",
      " 4   Age             38 non-null     float64\n",
      " 5   Gender          38 non-null     object \n",
      " 6   EverBenched     38 non-null     object \n",
      " 7   Experien        38 non-null     float64\n",
      " 8   current salary  36 non-null     float64\n",
      " 9   past salary     38 non-null     float64\n",
      "dtypes: float64(6), object(4)\n",
      "memory usage: 3.1+ KB\n"
     ]
    }
   ],
   "source": [
    "df.info()"
   ]
  },
  {
   "cell_type": "code",
   "execution_count": 43,
   "id": "92e10249-0af9-4a62-bd89-eaacf1a4dd96",
   "metadata": {},
   "outputs": [
    {
     "data": {
      "text/plain": [
       "Index(['Education', 'City', 'Gender', 'EverBenched', 'current salary'], dtype='object')"
      ]
     },
     "execution_count": 43,
     "metadata": {},
     "output_type": "execute_result"
    }
   ],
   "source": [
    "yozuvli_ustun"
   ]
  },
  {
   "cell_type": "code",
   "execution_count": 45,
   "id": "4a38eba4-ebcc-4302-925b-8dbb72b117d5",
   "metadata": {},
   "outputs": [
    {
     "data": {
      "text/plain": [
       "Education         0\n",
       "JoiningYear       0\n",
       "City              0\n",
       "PaymentTier       0\n",
       "Age               0\n",
       "Gender            0\n",
       "EverBenched       0\n",
       "Experien          0\n",
       "current salary    2\n",
       "past salary       0\n",
       "dtype: int64"
      ]
     },
     "execution_count": 45,
     "metadata": {},
     "output_type": "execute_result"
    }
   ],
   "source": [
    "df.isnull().sum()"
   ]
  },
  {
   "cell_type": "code",
   "execution_count": 47,
   "id": "9acbe4c6-c554-487e-b7e8-fe5164c7bbcb",
   "metadata": {},
   "outputs": [],
   "source": [
    "df['current salary'].fillna(df['current salary'].mean(), inplace=True)"
   ]
  },
  {
   "cell_type": "code",
   "execution_count": 49,
   "id": "05067832-23ab-47b1-84fd-b51ca73cd30b",
   "metadata": {},
   "outputs": [
    {
     "name": "stdout",
     "output_type": "stream",
     "text": [
      "<class 'pandas.core.frame.DataFrame'>\n",
      "RangeIndex: 38 entries, 0 to 37\n",
      "Data columns (total 10 columns):\n",
      " #   Column          Non-Null Count  Dtype  \n",
      "---  ------          --------------  -----  \n",
      " 0   Education       38 non-null     object \n",
      " 1   JoiningYear     38 non-null     float64\n",
      " 2   City            38 non-null     object \n",
      " 3   PaymentTier     38 non-null     float64\n",
      " 4   Age             38 non-null     float64\n",
      " 5   Gender          38 non-null     object \n",
      " 6   EverBenched     38 non-null     object \n",
      " 7   Experien        38 non-null     float64\n",
      " 8   current salary  38 non-null     float64\n",
      " 9   past salary     38 non-null     float64\n",
      "dtypes: float64(6), object(4)\n",
      "memory usage: 3.1+ KB\n"
     ]
    }
   ],
   "source": [
    "df.info()"
   ]
  },
  {
   "cell_type": "code",
   "execution_count": 53,
   "id": "e15ad7cb-8b1e-4c9c-a323-806256c60d7b",
   "metadata": {},
   "outputs": [
    {
     "data": {
      "text/plain": [
       "Index(['Education', 'City', 'Gender', 'EverBenched', 'current salary'], dtype='object')"
      ]
     },
     "execution_count": 53,
     "metadata": {},
     "output_type": "execute_result"
    }
   ],
   "source": [
    "yozuvli_ustun"
   ]
  },
  {
   "cell_type": "code",
   "execution_count": 57,
   "id": "d4ea9638-650b-4dae-8a2c-28a0bc4edfe8",
   "metadata": {},
   "outputs": [
    {
     "data": {
      "text/plain": [
       "0     856352.000000\n",
       "1     845695.000000\n",
       "2     835038.000000\n",
       "3     824381.000000\n",
       "4     813724.000000\n",
       "5     803067.000000\n",
       "6     792410.000000\n",
       "7     781753.000000\n",
       "8     771096.000000\n",
       "9     462043.000000\n",
       "10    462043.000000\n",
       "11    739125.000000\n",
       "12    728468.000000\n",
       "13    717811.000000\n",
       "14    638475.555556\n",
       "15    696497.000000\n",
       "16    685840.000000\n",
       "17    675183.000000\n",
       "18    664526.000000\n",
       "19    653869.000000\n",
       "20    643212.000000\n",
       "21    632555.000000\n",
       "22    621898.000000\n",
       "23    611241.000000\n",
       "24    462043.000000\n",
       "25    462043.000000\n",
       "26    579270.000000\n",
       "27    568613.000000\n",
       "28    557956.000000\n",
       "29    547299.000000\n",
       "30    536642.000000\n",
       "31    525985.000000\n",
       "32    515328.000000\n",
       "33    638475.555556\n",
       "34    494014.000000\n",
       "35    483357.000000\n",
       "36    472700.000000\n",
       "37    462043.000000\n",
       "Name: current salary, dtype: float64"
      ]
     },
     "execution_count": 57,
     "metadata": {},
     "output_type": "execute_result"
    }
   ],
   "source": [
    "df['current salary']"
   ]
  },
  {
   "cell_type": "code",
   "execution_count": 59,
   "id": "d93ba4c7-0d46-4e8d-858b-ca421a5b9a93",
   "metadata": {},
   "outputs": [],
   "source": [
    "from sklearn.preprocessing import LabelEncoder\n",
    "encoder=LabelEncoder()"
   ]
  },
  {
   "cell_type": "code",
   "execution_count": 60,
   "id": "1ae0e83b-4d19-4d27-99a0-0575981323e0",
   "metadata": {},
   "outputs": [],
   "source": [
    "df[yozuvli_ustun]=df[yozuvli_ustun].apply(encoder.fit_transform)"
   ]
  },
  {
   "cell_type": "code",
   "execution_count": 61,
   "id": "fbdbf88a-d6ad-486a-9dd2-3331ece2ef37",
   "metadata": {},
   "outputs": [
    {
     "name": "stdout",
     "output_type": "stream",
     "text": [
      "<class 'pandas.core.frame.DataFrame'>\n",
      "RangeIndex: 38 entries, 0 to 37\n",
      "Data columns (total 10 columns):\n",
      " #   Column          Non-Null Count  Dtype  \n",
      "---  ------          --------------  -----  \n",
      " 0   Education       38 non-null     int32  \n",
      " 1   JoiningYear     38 non-null     float64\n",
      " 2   City            38 non-null     int32  \n",
      " 3   PaymentTier     38 non-null     float64\n",
      " 4   Age             38 non-null     float64\n",
      " 5   Gender          38 non-null     int32  \n",
      " 6   EverBenched     38 non-null     int32  \n",
      " 7   Experien        38 non-null     float64\n",
      " 8   current salary  38 non-null     int64  \n",
      " 9   past salary     38 non-null     float64\n",
      "dtypes: float64(5), int32(4), int64(1)\n",
      "memory usage: 2.5 KB\n"
     ]
    }
   ],
   "source": [
    "df.info()"
   ]
  },
  {
   "cell_type": "code",
   "execution_count": 131,
   "id": "879691bd-c30a-4f85-9712-aaa0f0971248",
   "metadata": {},
   "outputs": [
    {
     "data": {
      "text/html": [
       "<div>\n",
       "<style scoped>\n",
       "    .dataframe tbody tr th:only-of-type {\n",
       "        vertical-align: middle;\n",
       "    }\n",
       "\n",
       "    .dataframe tbody tr th {\n",
       "        vertical-align: top;\n",
       "    }\n",
       "\n",
       "    .dataframe thead th {\n",
       "        text-align: right;\n",
       "    }\n",
       "</style>\n",
       "<table border=\"1\" class=\"dataframe\">\n",
       "  <thead>\n",
       "    <tr style=\"text-align: right;\">\n",
       "      <th></th>\n",
       "      <th>Education</th>\n",
       "      <th>JoiningYear</th>\n",
       "      <th>City</th>\n",
       "      <th>PaymentTier</th>\n",
       "      <th>Age</th>\n",
       "      <th>Gender</th>\n",
       "      <th>EverBenched</th>\n",
       "      <th>Experien</th>\n",
       "      <th>current salary</th>\n",
       "      <th>past salary</th>\n",
       "    </tr>\n",
       "  </thead>\n",
       "  <tbody>\n",
       "    <tr>\n",
       "      <th>0</th>\n",
       "      <td>0</td>\n",
       "      <td>2017.0</td>\n",
       "      <td>0</td>\n",
       "      <td>3.0</td>\n",
       "      <td>34.0</td>\n",
       "      <td>1</td>\n",
       "      <td>0</td>\n",
       "      <td>0.000000</td>\n",
       "      <td>32</td>\n",
       "      <td>752364.0</td>\n",
       "    </tr>\n",
       "    <tr>\n",
       "      <th>1</th>\n",
       "      <td>0</td>\n",
       "      <td>2013.0</td>\n",
       "      <td>2</td>\n",
       "      <td>1.0</td>\n",
       "      <td>28.0</td>\n",
       "      <td>0</td>\n",
       "      <td>0</td>\n",
       "      <td>3.000000</td>\n",
       "      <td>31</td>\n",
       "      <td>742365.0</td>\n",
       "    </tr>\n",
       "    <tr>\n",
       "      <th>2</th>\n",
       "      <td>0</td>\n",
       "      <td>2014.0</td>\n",
       "      <td>1</td>\n",
       "      <td>3.0</td>\n",
       "      <td>38.0</td>\n",
       "      <td>0</td>\n",
       "      <td>0</td>\n",
       "      <td>2.000000</td>\n",
       "      <td>30</td>\n",
       "      <td>732366.0</td>\n",
       "    </tr>\n",
       "    <tr>\n",
       "      <th>3</th>\n",
       "      <td>1</td>\n",
       "      <td>2016.0</td>\n",
       "      <td>0</td>\n",
       "      <td>3.0</td>\n",
       "      <td>27.0</td>\n",
       "      <td>1</td>\n",
       "      <td>0</td>\n",
       "      <td>5.000000</td>\n",
       "      <td>29</td>\n",
       "      <td>722367.0</td>\n",
       "    </tr>\n",
       "    <tr>\n",
       "      <th>4</th>\n",
       "      <td>1</td>\n",
       "      <td>2017.0</td>\n",
       "      <td>2</td>\n",
       "      <td>3.0</td>\n",
       "      <td>24.0</td>\n",
       "      <td>1</td>\n",
       "      <td>1</td>\n",
       "      <td>2.294118</td>\n",
       "      <td>28</td>\n",
       "      <td>712368.0</td>\n",
       "    </tr>\n",
       "  </tbody>\n",
       "</table>\n",
       "</div>"
      ],
      "text/plain": [
       "   Education  JoiningYear  City  PaymentTier   Age  Gender  EverBenched  \\\n",
       "0          0       2017.0     0          3.0  34.0       1            0   \n",
       "1          0       2013.0     2          1.0  28.0       0            0   \n",
       "2          0       2014.0     1          3.0  38.0       0            0   \n",
       "3          1       2016.0     0          3.0  27.0       1            0   \n",
       "4          1       2017.0     2          3.0  24.0       1            1   \n",
       "\n",
       "   Experien  current salary  past salary  \n",
       "0  0.000000              32     752364.0  \n",
       "1  3.000000              31     742365.0  \n",
       "2  2.000000              30     732366.0  \n",
       "3  5.000000              29     722367.0  \n",
       "4  2.294118              28     712368.0  "
      ]
     },
     "execution_count": 131,
     "metadata": {},
     "output_type": "execute_result"
    }
   ],
   "source": [
    "df.head()"
   ]
  },
  {
   "cell_type": "code",
   "execution_count": 65,
   "id": "34a17bc4-74be-445e-ae94-c3744ca38862",
   "metadata": {},
   "outputs": [
    {
     "name": "stdout",
     "output_type": "stream",
     "text": [
      "<class 'pandas.core.frame.DataFrame'>\n",
      "RangeIndex: 38 entries, 0 to 37\n",
      "Data columns (total 10 columns):\n",
      " #   Column          Non-Null Count  Dtype  \n",
      "---  ------          --------------  -----  \n",
      " 0   Education       38 non-null     int32  \n",
      " 1   JoiningYear     38 non-null     float64\n",
      " 2   City            38 non-null     int32  \n",
      " 3   PaymentTier     38 non-null     float64\n",
      " 4   Age             38 non-null     float64\n",
      " 5   Gender          38 non-null     int32  \n",
      " 6   EverBenched     38 non-null     int32  \n",
      " 7   Experien        38 non-null     float64\n",
      " 8   current salary  38 non-null     int64  \n",
      " 9   past salary     38 non-null     float64\n",
      "dtypes: float64(5), int32(4), int64(1)\n",
      "memory usage: 2.5 KB\n"
     ]
    }
   ],
   "source": [
    "df.info()"
   ]
  },
  {
   "cell_type": "code",
   "execution_count": 67,
   "id": "e6f821f8-e212-42a1-aac9-d4bd0b2ffea4",
   "metadata": {},
   "outputs": [],
   "source": [
    "from sklearn.preprocessing import LabelEncoder, MinMaxScaler, StandardScaler, RobustScaler"
   ]
  },
  {
   "cell_type": "code",
   "execution_count": 71,
   "id": "626fe9b5-0af8-4e9f-abda-9292c7ebb26f",
   "metadata": {},
   "outputs": [],
   "source": [
    "standard_scaler = StandardScaler()\n",
    "df_standard_scaled = pd.DataFrame(standard_scaler.fit_transform(df), columns=df.columns)"
   ]
  },
  {
   "cell_type": "code",
   "execution_count": 73,
   "id": "5d5ef99e-b43e-49d7-b40c-5d2922735b38",
   "metadata": {},
   "outputs": [
    {
     "name": "stdout",
     "output_type": "stream",
     "text": [
      "<class 'pandas.core.frame.DataFrame'>\n",
      "RangeIndex: 38 entries, 0 to 37\n",
      "Data columns (total 10 columns):\n",
      " #   Column          Non-Null Count  Dtype  \n",
      "---  ------          --------------  -----  \n",
      " 0   Education       38 non-null     float64\n",
      " 1   JoiningYear     38 non-null     float64\n",
      " 2   City            38 non-null     float64\n",
      " 3   PaymentTier     38 non-null     float64\n",
      " 4   Age             38 non-null     float64\n",
      " 5   Gender          38 non-null     float64\n",
      " 6   EverBenched     38 non-null     float64\n",
      " 7   Experien        38 non-null     float64\n",
      " 8   current salary  38 non-null     float64\n",
      " 9   past salary     38 non-null     float64\n",
      "dtypes: float64(10)\n",
      "memory usage: 3.1 KB\n"
     ]
    }
   ],
   "source": [
    "df_standard_scaled.info()"
   ]
  },
  {
   "cell_type": "code",
   "execution_count": 75,
   "id": "e4e95584-56a6-480a-805b-d343e5929137",
   "metadata": {},
   "outputs": [
    {
     "data": {
      "text/html": [
       "<div>\n",
       "<style scoped>\n",
       "    .dataframe tbody tr th:only-of-type {\n",
       "        vertical-align: middle;\n",
       "    }\n",
       "\n",
       "    .dataframe tbody tr th {\n",
       "        vertical-align: top;\n",
       "    }\n",
       "\n",
       "    .dataframe thead th {\n",
       "        text-align: right;\n",
       "    }\n",
       "</style>\n",
       "<table border=\"1\" class=\"dataframe\">\n",
       "  <thead>\n",
       "    <tr style=\"text-align: right;\">\n",
       "      <th></th>\n",
       "      <th>Education</th>\n",
       "      <th>JoiningYear</th>\n",
       "      <th>City</th>\n",
       "      <th>PaymentTier</th>\n",
       "      <th>Age</th>\n",
       "      <th>Gender</th>\n",
       "      <th>EverBenched</th>\n",
       "      <th>Experien</th>\n",
       "      <th>current salary</th>\n",
       "      <th>past salary</th>\n",
       "    </tr>\n",
       "  </thead>\n",
       "  <tbody>\n",
       "    <tr>\n",
       "      <th>0</th>\n",
       "      <td>-0.710047</td>\n",
       "      <td>1.023200</td>\n",
       "      <td>-0.823842</td>\n",
       "      <td>0.773133</td>\n",
       "      <td>0.680272</td>\n",
       "      <td>0.597614</td>\n",
       "      <td>-0.235702</td>\n",
       "      <td>-1.420891</td>\n",
       "      <td>1.749593</td>\n",
       "      <td>1.696156</td>\n",
       "    </tr>\n",
       "    <tr>\n",
       "      <th>1</th>\n",
       "      <td>-0.710047</td>\n",
       "      <td>-1.250578</td>\n",
       "      <td>1.584311</td>\n",
       "      <td>-2.525568</td>\n",
       "      <td>-0.471801</td>\n",
       "      <td>-1.673320</td>\n",
       "      <td>-0.235702</td>\n",
       "      <td>0.437197</td>\n",
       "      <td>1.650951</td>\n",
       "      <td>1.603252</td>\n",
       "    </tr>\n",
       "    <tr>\n",
       "      <th>2</th>\n",
       "      <td>-0.710047</td>\n",
       "      <td>-0.682134</td>\n",
       "      <td>0.380235</td>\n",
       "      <td>0.773133</td>\n",
       "      <td>1.448320</td>\n",
       "      <td>-1.673320</td>\n",
       "      <td>-0.235702</td>\n",
       "      <td>-0.182166</td>\n",
       "      <td>1.552310</td>\n",
       "      <td>1.510349</td>\n",
       "    </tr>\n",
       "    <tr>\n",
       "      <th>3</th>\n",
       "      <td>0.516398</td>\n",
       "      <td>0.454756</td>\n",
       "      <td>-0.823842</td>\n",
       "      <td>0.773133</td>\n",
       "      <td>-0.663813</td>\n",
       "      <td>0.597614</td>\n",
       "      <td>-0.235702</td>\n",
       "      <td>1.675923</td>\n",
       "      <td>1.453668</td>\n",
       "      <td>1.417445</td>\n",
       "    </tr>\n",
       "    <tr>\n",
       "      <th>4</th>\n",
       "      <td>0.516398</td>\n",
       "      <td>1.023200</td>\n",
       "      <td>1.584311</td>\n",
       "      <td>0.773133</td>\n",
       "      <td>-1.239850</td>\n",
       "      <td>0.597614</td>\n",
       "      <td>4.242641</td>\n",
       "      <td>0.000000</td>\n",
       "      <td>1.355026</td>\n",
       "      <td>1.324541</td>\n",
       "    </tr>\n",
       "  </tbody>\n",
       "</table>\n",
       "</div>"
      ],
      "text/plain": [
       "   Education  JoiningYear      City  PaymentTier       Age    Gender  \\\n",
       "0  -0.710047     1.023200 -0.823842     0.773133  0.680272  0.597614   \n",
       "1  -0.710047    -1.250578  1.584311    -2.525568 -0.471801 -1.673320   \n",
       "2  -0.710047    -0.682134  0.380235     0.773133  1.448320 -1.673320   \n",
       "3   0.516398     0.454756 -0.823842     0.773133 -0.663813  0.597614   \n",
       "4   0.516398     1.023200  1.584311     0.773133 -1.239850  0.597614   \n",
       "\n",
       "   EverBenched  Experien  current salary  past salary  \n",
       "0    -0.235702 -1.420891        1.749593     1.696156  \n",
       "1    -0.235702  0.437197        1.650951     1.603252  \n",
       "2    -0.235702 -0.182166        1.552310     1.510349  \n",
       "3    -0.235702  1.675923        1.453668     1.417445  \n",
       "4     4.242641  0.000000        1.355026     1.324541  "
      ]
     },
     "execution_count": 75,
     "metadata": {},
     "output_type": "execute_result"
    }
   ],
   "source": [
    "df_standard_scaled.head()"
   ]
  },
  {
   "cell_type": "code",
   "execution_count": 77,
   "id": "d55e901c-f807-4eac-a89c-1780986e3674",
   "metadata": {},
   "outputs": [],
   "source": [
    "# Min-Max Scaling\n",
    "min_max_scaler = MinMaxScaler()\n",
    "df_min_max_scaled = pd.DataFrame(min_max_scaler.fit_transform(df), columns=df.columns)\n"
   ]
  },
  {
   "cell_type": "code",
   "execution_count": 79,
   "id": "b2673dc5-fe8c-4d38-ab0d-13b0320acddc",
   "metadata": {},
   "outputs": [
    {
     "data": {
      "text/html": [
       "<div>\n",
       "<style scoped>\n",
       "    .dataframe tbody tr th:only-of-type {\n",
       "        vertical-align: middle;\n",
       "    }\n",
       "\n",
       "    .dataframe tbody tr th {\n",
       "        vertical-align: top;\n",
       "    }\n",
       "\n",
       "    .dataframe thead th {\n",
       "        text-align: right;\n",
       "    }\n",
       "</style>\n",
       "<table border=\"1\" class=\"dataframe\">\n",
       "  <thead>\n",
       "    <tr style=\"text-align: right;\">\n",
       "      <th></th>\n",
       "      <th>Education</th>\n",
       "      <th>JoiningYear</th>\n",
       "      <th>City</th>\n",
       "      <th>PaymentTier</th>\n",
       "      <th>Age</th>\n",
       "      <th>Gender</th>\n",
       "      <th>EverBenched</th>\n",
       "      <th>Experien</th>\n",
       "      <th>current salary</th>\n",
       "      <th>past salary</th>\n",
       "    </tr>\n",
       "  </thead>\n",
       "  <tbody>\n",
       "    <tr>\n",
       "      <th>0</th>\n",
       "      <td>0.0</td>\n",
       "      <td>0.833333</td>\n",
       "      <td>0.0</td>\n",
       "      <td>1.0</td>\n",
       "      <td>0.666667</td>\n",
       "      <td>1.0</td>\n",
       "      <td>0.0</td>\n",
       "      <td>0.000000</td>\n",
       "      <td>1.00000</td>\n",
       "      <td>1.000000</td>\n",
       "    </tr>\n",
       "    <tr>\n",
       "      <th>1</th>\n",
       "      <td>0.0</td>\n",
       "      <td>0.166667</td>\n",
       "      <td>1.0</td>\n",
       "      <td>0.0</td>\n",
       "      <td>0.333333</td>\n",
       "      <td>0.0</td>\n",
       "      <td>0.0</td>\n",
       "      <td>0.600000</td>\n",
       "      <td>0.96875</td>\n",
       "      <td>0.972973</td>\n",
       "    </tr>\n",
       "    <tr>\n",
       "      <th>2</th>\n",
       "      <td>0.0</td>\n",
       "      <td>0.333333</td>\n",
       "      <td>0.5</td>\n",
       "      <td>1.0</td>\n",
       "      <td>0.888889</td>\n",
       "      <td>0.0</td>\n",
       "      <td>0.0</td>\n",
       "      <td>0.400000</td>\n",
       "      <td>0.93750</td>\n",
       "      <td>0.945946</td>\n",
       "    </tr>\n",
       "    <tr>\n",
       "      <th>3</th>\n",
       "      <td>0.5</td>\n",
       "      <td>0.666667</td>\n",
       "      <td>0.0</td>\n",
       "      <td>1.0</td>\n",
       "      <td>0.277778</td>\n",
       "      <td>1.0</td>\n",
       "      <td>0.0</td>\n",
       "      <td>1.000000</td>\n",
       "      <td>0.90625</td>\n",
       "      <td>0.918919</td>\n",
       "    </tr>\n",
       "    <tr>\n",
       "      <th>4</th>\n",
       "      <td>0.5</td>\n",
       "      <td>0.833333</td>\n",
       "      <td>1.0</td>\n",
       "      <td>1.0</td>\n",
       "      <td>0.111111</td>\n",
       "      <td>1.0</td>\n",
       "      <td>1.0</td>\n",
       "      <td>0.458824</td>\n",
       "      <td>0.87500</td>\n",
       "      <td>0.891892</td>\n",
       "    </tr>\n",
       "  </tbody>\n",
       "</table>\n",
       "</div>"
      ],
      "text/plain": [
       "   Education  JoiningYear  City  PaymentTier       Age  Gender  EverBenched  \\\n",
       "0        0.0     0.833333   0.0          1.0  0.666667     1.0          0.0   \n",
       "1        0.0     0.166667   1.0          0.0  0.333333     0.0          0.0   \n",
       "2        0.0     0.333333   0.5          1.0  0.888889     0.0          0.0   \n",
       "3        0.5     0.666667   0.0          1.0  0.277778     1.0          0.0   \n",
       "4        0.5     0.833333   1.0          1.0  0.111111     1.0          1.0   \n",
       "\n",
       "   Experien  current salary  past salary  \n",
       "0  0.000000         1.00000     1.000000  \n",
       "1  0.600000         0.96875     0.972973  \n",
       "2  0.400000         0.93750     0.945946  \n",
       "3  1.000000         0.90625     0.918919  \n",
       "4  0.458824         0.87500     0.891892  "
      ]
     },
     "execution_count": 79,
     "metadata": {},
     "output_type": "execute_result"
    }
   ],
   "source": [
    "df_min_max_scaled.head()"
   ]
  },
  {
   "cell_type": "code",
   "execution_count": 81,
   "id": "0c38cad8-f21d-4e48-b74b-333680ac867d",
   "metadata": {},
   "outputs": [],
   "source": [
    "# Robust Scaling (handles outliers better)\n",
    "robust_scaler = RobustScaler()\n",
    "df_robust_scaled = pd.DataFrame(robust_scaler.fit_transform(df), columns=df.columns)"
   ]
  },
  {
   "cell_type": "code",
   "execution_count": 83,
   "id": "8a6b31dc-ed3c-43e2-8ce3-aee72bf32e10",
   "metadata": {},
   "outputs": [
    {
     "data": {
      "text/html": [
       "<div>\n",
       "<style scoped>\n",
       "    .dataframe tbody tr th:only-of-type {\n",
       "        vertical-align: middle;\n",
       "    }\n",
       "\n",
       "    .dataframe tbody tr th {\n",
       "        vertical-align: top;\n",
       "    }\n",
       "\n",
       "    .dataframe thead th {\n",
       "        text-align: right;\n",
       "    }\n",
       "</style>\n",
       "<table border=\"1\" class=\"dataframe\">\n",
       "  <thead>\n",
       "    <tr style=\"text-align: right;\">\n",
       "      <th></th>\n",
       "      <th>Education</th>\n",
       "      <th>JoiningYear</th>\n",
       "      <th>City</th>\n",
       "      <th>PaymentTier</th>\n",
       "      <th>Age</th>\n",
       "      <th>Gender</th>\n",
       "      <th>EverBenched</th>\n",
       "      <th>Experien</th>\n",
       "      <th>current salary</th>\n",
       "      <th>past salary</th>\n",
       "    </tr>\n",
       "  </thead>\n",
       "  <tbody>\n",
       "    <tr>\n",
       "      <th>0</th>\n",
       "      <td>0.0</td>\n",
       "      <td>0.466667</td>\n",
       "      <td>0.0</td>\n",
       "      <td>0.0</td>\n",
       "      <td>0.538776</td>\n",
       "      <td>0.000000</td>\n",
       "      <td>0.0</td>\n",
       "      <td>-1.073529</td>\n",
       "      <td>1.028571</td>\n",
       "      <td>1.043265</td>\n",
       "    </tr>\n",
       "    <tr>\n",
       "      <th>1</th>\n",
       "      <td>0.0</td>\n",
       "      <td>-0.866667</td>\n",
       "      <td>2.0</td>\n",
       "      <td>-2.0</td>\n",
       "      <td>-0.318367</td>\n",
       "      <td>-1.333333</td>\n",
       "      <td>0.0</td>\n",
       "      <td>0.426471</td>\n",
       "      <td>0.971429</td>\n",
       "      <td>0.986122</td>\n",
       "    </tr>\n",
       "    <tr>\n",
       "      <th>2</th>\n",
       "      <td>0.0</td>\n",
       "      <td>-0.533333</td>\n",
       "      <td>1.0</td>\n",
       "      <td>0.0</td>\n",
       "      <td>1.110204</td>\n",
       "      <td>-1.333333</td>\n",
       "      <td>0.0</td>\n",
       "      <td>-0.073529</td>\n",
       "      <td>0.914286</td>\n",
       "      <td>0.928980</td>\n",
       "    </tr>\n",
       "    <tr>\n",
       "      <th>3</th>\n",
       "      <td>1.0</td>\n",
       "      <td>0.133333</td>\n",
       "      <td>0.0</td>\n",
       "      <td>0.0</td>\n",
       "      <td>-0.461224</td>\n",
       "      <td>0.000000</td>\n",
       "      <td>0.0</td>\n",
       "      <td>1.426471</td>\n",
       "      <td>0.857143</td>\n",
       "      <td>0.871837</td>\n",
       "    </tr>\n",
       "    <tr>\n",
       "      <th>4</th>\n",
       "      <td>1.0</td>\n",
       "      <td>0.466667</td>\n",
       "      <td>2.0</td>\n",
       "      <td>0.0</td>\n",
       "      <td>-0.889796</td>\n",
       "      <td>0.000000</td>\n",
       "      <td>1.0</td>\n",
       "      <td>0.073529</td>\n",
       "      <td>0.800000</td>\n",
       "      <td>0.814694</td>\n",
       "    </tr>\n",
       "  </tbody>\n",
       "</table>\n",
       "</div>"
      ],
      "text/plain": [
       "   Education  JoiningYear  City  PaymentTier       Age    Gender  EverBenched  \\\n",
       "0        0.0     0.466667   0.0          0.0  0.538776  0.000000          0.0   \n",
       "1        0.0    -0.866667   2.0         -2.0 -0.318367 -1.333333          0.0   \n",
       "2        0.0    -0.533333   1.0          0.0  1.110204 -1.333333          0.0   \n",
       "3        1.0     0.133333   0.0          0.0 -0.461224  0.000000          0.0   \n",
       "4        1.0     0.466667   2.0          0.0 -0.889796  0.000000          1.0   \n",
       "\n",
       "   Experien  current salary  past salary  \n",
       "0 -1.073529        1.028571     1.043265  \n",
       "1  0.426471        0.971429     0.986122  \n",
       "2 -0.073529        0.914286     0.928980  \n",
       "3  1.426471        0.857143     0.871837  \n",
       "4  0.073529        0.800000     0.814694  "
      ]
     },
     "execution_count": 83,
     "metadata": {},
     "output_type": "execute_result"
    }
   ],
   "source": [
    "df_robust_scaled.head()"
   ]
  },
  {
   "cell_type": "code",
   "execution_count": null,
   "id": "62858d3d-6250-4469-b73c-feb2d4fb97dd",
   "metadata": {},
   "outputs": [],
   "source": []
  }
 ],
 "metadata": {
  "kernelspec": {
   "display_name": "Python [conda env:base] *",
   "language": "python",
   "name": "conda-base-py"
  },
  "language_info": {
   "codemirror_mode": {
    "name": "ipython",
    "version": 3
   },
   "file_extension": ".py",
   "mimetype": "text/x-python",
   "name": "python",
   "nbconvert_exporter": "python",
   "pygments_lexer": "ipython3",
   "version": "3.12.7"
  }
 },
 "nbformat": 4,
 "nbformat_minor": 5
}
